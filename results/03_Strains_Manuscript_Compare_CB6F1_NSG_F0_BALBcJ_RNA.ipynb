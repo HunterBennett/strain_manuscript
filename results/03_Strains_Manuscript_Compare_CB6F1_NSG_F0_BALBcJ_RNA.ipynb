{
 "cells": [
  {
   "cell_type": "code",
   "execution_count": 1,
   "metadata": {},
   "outputs": [],
   "source": [
    "### header ###\n",
    "__author__ = \"Hunter Bennett\"\n",
    "__license__ = \"BSD\"\n",
    "__email__ = \"hunter.r.bennett@gmail.com\"\n",
    "%load_ext autoreload\n",
    "%autoreload 2\n",
    "%matplotlib inline\n",
    "### imports ###\n",
    "import sys\n",
    "import os\n",
    "import re\n",
    "import glob\n",
    "import pandas as pd\n",
    "import numpy as np\n",
    "import matplotlib\n",
    "import matplotlib.pyplot as plt\n",
    "from matplotlib.patches import Patch\n",
    "import scipy.stats as stats\n",
    "from matplotlib_venn import venn3, venn2\n",
    "import seaborn as sns\n",
    "\n",
    "matplotlib.rcParams['savefig.dpi'] = 200\n",
    "sys.setrecursionlimit(3000)\n",
    "sns.set(font_scale=1)\n",
    "sns.set_context('talk')\n",
    "sns.set_style('white')\n",
    "\n",
    "# import custom functions\n",
    "sys.path.insert(0, '/home/h1bennet/code/')\n",
    "from hbUtils import ngs_qc, quantile_normalize_df\n",
    "from homer_preprocessing import import_homer_diffgene\n",
    "from plotting_scripts import plot_exp_rpkm, gene_list_bar_plot"
   ]
  },
  {
   "cell_type": "code",
   "execution_count": 22,
   "metadata": {},
   "outputs": [],
   "source": [
    "workingDirectory = '/home/h1bennet/strains_manuscript/results/03_Strains_Manuscript_Compare_CB6F1_NSG_BALBcJ_RNA/'\n",
    "f0Directory = '/home/h1bennet/strains/data/RNA/control_kupffer/'\n",
    "f1Directory = '/home/h1bennet/strains/data/RNA/control_kupffer_f1/'\n",
    "nsgDirectory = '/data/mm10/Kupffer/RNA/'\n",
    "if not os.path.isdir(workingDirectory):\n",
    "    os.mkdir(workingDirectory)\n",
    "os.chdir(workingDirectory)\n"
   ]
  },
  {
   "cell_type": "markdown",
   "metadata": {},
   "source": [
    "# Make hub to look at individual files"
   ]
  },
  {
   "cell_type": "code",
   "execution_count": 23,
   "metadata": {
    "scrolled": true
   },
   "outputs": [
    {
     "data": {
      "text/plain": [
       "['/data/mm10/Kupffer/RNA/balbc_RecruitedKupffer_RNA_polyA_BMTNSG_JSSTDT_NSG4_JSS_l20180314',\n",
       " '/data/mm10/Kupffer/RNA/balbc_RecruitedKupffer_RNA_polyA_BMTNSG_JSSTDT_NSG6_JSS_l20180314',\n",
       " '/data/mm10/Kupffer/RNA/balbc_RecruitedKupffer_RNA_polyA_BMTNSG_JSSTDT_NSG5_JSS_l20180314']"
      ]
     },
     "execution_count": 23,
     "metadata": {},
     "output_type": "execute_result"
    }
   ],
   "source": [
    "glob.glob('/data/mm10/Kupffer/RNA/balb*NSG*')"
   ]
  },
  {
   "cell_type": "markdown",
   "metadata": {},
   "source": [
    "    makeMultiWigHub.pl hrb_strains_qc_kupffer_control_leptin6h_rna mm10 \\\n",
    "    -color 222,45,38 222,45,38 \\\n",
    "    165,15,21 165,15,21 \\\n",
    "    49,130,189 49,130,189 \\\n",
    "    8,81,156 8,81,156 8,81,156 \\\n",
    "    49,163,84 49,163,84 \\\n",
    "    0,109,44 0,109,44 0,109,44 \\\n",
    "    -force -d /home/h1bennet/strains/data/RNA/control_kupffer/AJ_Kupffer_RNA_AJ01C_HBENN_l20201208_TACCGAGG_CCTGAACT.aj.star_shifted_from_AJ.sam \\\n",
    "    /home/h1bennet/strains/data/RNA/control_kupffer/AJ_Kupffer_RNA_AJ01D_HBENN_l20201208_CGTTAGAA_TTCAGGTC.aj.star_shifted_from_AJ.sam \\\n",
    "    /home/h1bennet/strains/data/RNA/leptin_6h_strains_kupffer/aj_M_Kupffer_RNA_polyA_leptin_6h_rep1_HBENN_l20210529_GCGCTCTA_GCTCCGAC.aj.star_shifted_from_AJ.sam \\\n",
    "    /home/h1bennet/strains/data/RNA/leptin_6h_strains_kupffer/aj_M_Kupffer_RNA_polyA_leptin_6h_rep2_HBENN_l20210529_GAATGAGA_GAGGCATT.aj.star_shifted_from_AJ.sam \\\n",
    "    /home/h1bennet/strains/data/RNA/control_kupffer/BALBC_Kupffer_RNA_BALB01C_HBENN_l20201208_AGCCTCAT_AGTAGAGA.balbcj.star_shifted_from_BALBCJ.sam \\\n",
    "    /home/h1bennet/strains/data/RNA/control_kupffer/BALBC_Kupffer_RNA_BALB01D_HBENN_l20201208_GATTCTGC_GACGAGAG.balbcj.star_shifted_from_BALBCJ.sam \\\n",
    "    /home/h1bennet/strains/data/RNA/leptin_6h_strains_kupffer/balbcj_M_Kupffer_RNA_polyA_leptin_6h_rep1_HBENN_l20210529_CAACAATG_CTTCACGG.balbcj.star_shifted_from_BALBCJ.sam \\\n",
    "    /home/h1bennet/strains/data/RNA/leptin_6h_strains_kupffer/balbcj_M_Kupffer_RNA_polyA_leptin_6h_rep2_HBENN_l20210529_TGGTGGCA_TCCTGTAA.balbcj.star_shifted_from_BALBCJ.sam \\\n",
    "    /home/h1bennet/strains/data/RNA/leptin_6h_strains_kupffer/balbcj_M_Kupffer_RNA_polyA_leptin_6h_rep3_HBENN_l20210529_AGGCAGAG_AGAATGCC.balbcj.star_shifted_from_BALBCJ.sam \\\n",
    "    /home/h1bennet/strains/data/RNA/control_kupffer/C57B6J_Tim4PosKupffer_RNA_C5701C_HBENN_l20201208_TCGTAGTG_AGACTTGG \\\n",
    "    /home/h1bennet/strains/data/RNA/control_kupffer/C57B6J_Tim4PosKupffer_RNA_C5701D_HBENN_l20201208_CTACGACA_GAGTCCAA \\\n",
    "    /home/h1bennet/strains/data/RNA/leptin_6h_strains_kupffer/c57bl6j_M_Kupffer_RNA_polyA_leptin_6h_rep1_HBENN_l20210529_AACAGGTT_ATACCAAG.c57bl6j.star_shifted_from_C57BL6J.sam \\\n",
    "    /home/h1bennet/strains/data/RNA/leptin_6h_strains_kupffer/c57bl6j_M_Kupffer_RNA_polyA_leptin_6h_rep2_HBENN_l20210529_GGTGAACC_GCGTTGGA.c57bl6j.star_shifted_from_C57BL6J.sam"
   ]
  },
  {
   "cell_type": "markdown",
   "metadata": {},
   "source": [
    "# Run Oyoung's pipeline to process RNA-seq data consistantly."
   ]
  },
  {
   "cell_type": "code",
   "execution_count": 24,
   "metadata": {},
   "outputs": [],
   "source": [
    "balb_f0_paths = list(np.sort(glob.glob(f0Directory+'/BALB*')))\n",
    "balb_nsg_paths = list(np.sort(glob.glob(nsgDirectory+'/balb*NSG*')))\n",
    "balb_f1_paths = list(np.sort(glob.glob(f1Directory+'/mouse_cb6f1j*balbcj*')))\n",
    "\n",
    "balb_f0_ids = [i.split('/')[-1].split('_')[3] for i in balb_f0_paths]\n",
    "balb_nsg_ids = [i.split('/')[-1].split('_')[6] for i in balb_nsg_paths]\n",
    "balb_f1_ids = [i.split('/')[-1].split('_')[7] for i in balb_f1_paths]"
   ]
  },
  {
   "cell_type": "markdown",
   "metadata": {},
   "source": [
    "Put together into three separate comparisons"
   ]
  },
  {
   "cell_type": "code",
   "execution_count": 25,
   "metadata": {},
   "outputs": [],
   "source": [
    "ids = ['balb_f0',\n",
    "       'balb_nsg',\n",
    "       'balb_f1' ]\n",
    "\n",
    "colors = ['#006d2c',\n",
    "          '#31a354',\n",
    "          '#74c476'\n",
    "         ]\n",
    "\n",
    "paths = [';'.join(balb_f0_paths),\n",
    "         ';'.join(balb_nsg_paths),\n",
    "         ';'.join(balb_f1_paths)\n",
    "        ]\n",
    "\n",
    "short_ids = [';'.join(balb_f0_ids),\n",
    "             ';'.join(balb_nsg_ids),\n",
    "             ';'.join(balb_f1_ids) ]\n",
    "\n",
    "pd.DataFrame([ids,colors,paths,short_ids]).T.to_csv('./sampleDef.txt',\n",
    "                                                    sep='\\t',\n",
    "                                                    header=False,\n",
    "                                                    index=False)"
   ]
  },
  {
   "cell_type": "code",
   "execution_count": 26,
   "metadata": {},
   "outputs": [
    {
     "data": {
      "text/html": [
       "<div>\n",
       "<style scoped>\n",
       "    .dataframe tbody tr th:only-of-type {\n",
       "        vertical-align: middle;\n",
       "    }\n",
       "\n",
       "    .dataframe tbody tr th {\n",
       "        vertical-align: top;\n",
       "    }\n",
       "\n",
       "    .dataframe thead th {\n",
       "        text-align: right;\n",
       "    }\n",
       "</style>\n",
       "<table border=\"1\" class=\"dataframe\">\n",
       "  <thead>\n",
       "    <tr style=\"text-align: right;\">\n",
       "      <th></th>\n",
       "      <th>0</th>\n",
       "      <th>1</th>\n",
       "      <th>2</th>\n",
       "      <th>3</th>\n",
       "    </tr>\n",
       "  </thead>\n",
       "  <tbody>\n",
       "    <tr>\n",
       "      <th>0</th>\n",
       "      <td>balb_f0</td>\n",
       "      <td>#006d2c</td>\n",
       "      <td>/home/h1bennet/strains/data/RNA/control_kupffe...</td>\n",
       "      <td>BALB01C;BALB01D</td>\n",
       "    </tr>\n",
       "    <tr>\n",
       "      <th>1</th>\n",
       "      <td>balb_nsg</td>\n",
       "      <td>#31a354</td>\n",
       "      <td>/data/mm10/Kupffer/RNA/balbc_RecruitedKupffer_...</td>\n",
       "      <td>NSG4;NSG5;NSG6</td>\n",
       "    </tr>\n",
       "    <tr>\n",
       "      <th>2</th>\n",
       "      <td>balb_f1</td>\n",
       "      <td>#74c476</td>\n",
       "      <td>/home/h1bennet/strains/data/RNA/control_kupffe...</td>\n",
       "      <td>CB61A;CB61B;CB61C;CB61D</td>\n",
       "    </tr>\n",
       "  </tbody>\n",
       "</table>\n",
       "</div>"
      ],
      "text/plain": [
       "          0        1                                                  2  \\\n",
       "0   balb_f0  #006d2c  /home/h1bennet/strains/data/RNA/control_kupffe...   \n",
       "1  balb_nsg  #31a354  /data/mm10/Kupffer/RNA/balbc_RecruitedKupffer_...   \n",
       "2   balb_f1  #74c476  /home/h1bennet/strains/data/RNA/control_kupffe...   \n",
       "\n",
       "                         3  \n",
       "0          BALB01C;BALB01D  \n",
       "1           NSG4;NSG5;NSG6  \n",
       "2  CB61A;CB61B;CB61C;CB61D  "
      ]
     },
     "execution_count": 26,
     "metadata": {},
     "output_type": "execute_result"
    }
   ],
   "source": [
    "pd.DataFrame([ids,colors,paths,short_ids]).T"
   ]
  },
  {
   "cell_type": "markdown",
   "metadata": {},
   "source": [
    "# Run O'young RNA pipeline"
   ]
  },
  {
   "cell_type": "markdown",
   "metadata": {},
   "source": [
    "Run the code below in BASH.\n",
    "Edited for this pipeline to lower the minimum TPM threshold as this has kind of messed up our differential gene calling for borderline genes that do not meet the TPM in two of the strains ie TPM > 8 in one strain and TPM of 7 in the other two.\n",
    "\n",
    "    source activate r-ouyangPipe\n",
    "    \n",
    "    mkdir ./expression/\n",
    "    \n",
    "    mkdir ./differential/\n",
    "    \n",
    "    alignStats.R ./sampleDef.txt > qcStats.txt\n",
    "    \n",
    "    rnaQuan.R ./sampleDef.txt -o ./expression/\n",
    "\n",
    "    rnaDiff.R ./sampleDef.txt -c ./expression/rawC.txt \\\n",
    "    -t ./expression/rawT.txt -m 4 -o ./differential/\n",
    "\n",
    "    # annotate scatter files with tag counts\n",
    "    for scatter in ./differential/*scatter.txt;\n",
    "    do diff2Homer.R -d $scatter -q ./expression/HOMER.rawTPM.txt;\n",
    "    done\n",
    "   "
   ]
  },
  {
   "cell_type": "markdown",
   "metadata": {},
   "source": [
    "### Make sure to check the PCA pdf file for outliers"
   ]
  },
  {
   "cell_type": "markdown",
   "metadata": {},
   "source": [
    "## Make jupyter hub for vizualization"
   ]
  },
  {
   "cell_type": "markdown",
   "metadata": {},
   "source": [
    "    makeMultiWigHub.pl hrb_strains_viz_wholeliver_rna_leptin6h_control_merged mm10 \\\n",
    "    -color 222,45,38 165,15,21 107,174,214 8,81,156 116,196,118 0,109,44 \\\n",
    "    -force -d ./expression/mergeTag/aj_wholeliver_control_young \\\n",
    "    ./expression/mergeTag/aj_wholeliver_leptin_6hours \\\n",
    "    ./expression/mergeTag/balbc_wholeliver_control_young \\\n",
    "    ./expression/mergeTag/balbc_wholeliver_leptin_6hours \\\n",
    "    ./expression/mergeTag/c57_wholeliver_control_young \\\n",
    "    ./expression/mergeTag/c57_wholeliver_leptin_6hours"
   ]
  },
  {
   "cell_type": "markdown",
   "metadata": {},
   "source": [
    "# Basic QC plot - mean versus variance"
   ]
  },
  {
   "cell_type": "code",
   "execution_count": 27,
   "metadata": {},
   "outputs": [],
   "source": [
    "tpm_mat = pd.read_csv('./expression/rawT.txt',\n",
    "                      index_col=0,\n",
    "                      sep='\\t')"
   ]
  },
  {
   "cell_type": "code",
   "execution_count": 28,
   "metadata": {},
   "outputs": [
    {
     "data": {
      "image/png": "[encoded data removed]",
      "text/plain": [
       "<Figure size 288x288 with 1 Axes>"
      ]
     },
     "metadata": {},
     "output_type": "display_data"
    }
   ],
   "source": [
    "fig, ax = plt.subplots(1,1, figsize=(4,4))\n",
    "ax.scatter(tpm_mat.mean(0),\n",
    "           tpm_mat.var(0),\n",
    "           s=50)\n",
    "for mean, var, txt in zip(tpm_mat.mean(0),\n",
    "             tpm_mat.var(0),\n",
    "             tpm_mat.columns.tolist()):\n",
    "    ax.text(mean, var, txt, fontsize=10)\n",
    "    ax.set_xlim(22,24)"
   ]
  },
  {
   "cell_type": "markdown",
   "metadata": {},
   "source": [
    "# want to check tag counts and such in a histogram..."
   ]
  },
  {
   "cell_type": "code",
   "execution_count": 30,
   "metadata": {},
   "outputs": [],
   "source": [
    "n_bins=20\n",
    "transparency=0.5\n",
    "colors = ['#6baed6',\n",
    "          '#3182bd',\n",
    "          '#08519c']"
   ]
  },
  {
   "cell_type": "code",
   "execution_count": 32,
   "metadata": {},
   "outputs": [
    {
     "data": {
      "text/plain": [
       "Text(0, 0.5, 'Count')"
      ]
     },
     "execution_count": 32,
     "metadata": {},
     "output_type": "execute_result"
    },
    {
     "data": {
      "image/png": "[encoded data removed]",
      "text/plain": [
       "<Figure size 432x144 with 3 Axes>"
      ]
     },
     "metadata": {},
     "output_type": "display_data"
    }
   ],
   "source": [
    "fig, axs = plt.subplots(1, 3, figsize=(6,2), sharey=True)\n",
    "\n",
    "for col, color, ax in zip(['balb_f0', 'balb_nsg', 'balb_f1'], colors, axs):\n",
    "    tmp = tpm_mat.loc[:, tpm_mat.columns.str.contains(col)]\n",
    "    for i in tmp.columns:\n",
    "        ax.hist(np.log2(tmp.loc[:, i]+1),\n",
    "                bins=n_bins,\n",
    "                histtype='bar',\n",
    "                color=color,\n",
    "                alpha=transparency,\n",
    "                range=[2,12])\n",
    "        ax.set_title(col)\n",
    "        \n",
    "axs[1].set_xlabel('Log2 (TPM + 1)')\n",
    "axs[0].set_ylabel('Count')"
   ]
  },
  {
   "cell_type": "code",
   "execution_count": 33,
   "metadata": {
    "scrolled": true
   },
   "outputs": [
    {
     "data": {
      "text/plain": [
       "(23608, 9)"
      ]
     },
     "execution_count": 33,
     "metadata": {},
     "output_type": "execute_result"
    }
   ],
   "source": [
    "tpm_mat.shape"
   ]
  },
  {
   "cell_type": "markdown",
   "metadata": {},
   "source": [
    "Make folder for figures"
   ]
  },
  {
   "cell_type": "code",
   "execution_count": 34,
   "metadata": {},
   "outputs": [],
   "source": [
    "if not os.path.isdir('./figures/'):\n",
    "    os.mkdir('./figures')"
   ]
  },
  {
   "cell_type": "markdown",
   "metadata": {},
   "source": [
    "Plot our own version of scatter"
   ]
  },
  {
   "cell_type": "markdown",
   "metadata": {},
   "source": [
    "## Write differential genes to list for metascape"
   ]
  },
  {
   "cell_type": "code",
   "execution_count": 35,
   "metadata": {},
   "outputs": [],
   "source": [
    "if not os.path.isdir('./gene_lists/'):\n",
    "    os.mkdir('./gene_lists')"
   ]
  },
  {
   "cell_type": "code",
   "execution_count": 36,
   "metadata": {},
   "outputs": [],
   "source": [
    "log2fc = np.log2(2)\n",
    "pval = 0.05\n",
    "gene_list_dict ={}"
   ]
  },
  {
   "cell_type": "code",
   "execution_count": 37,
   "metadata": {
    "scrolled": false
   },
   "outputs": [
    {
     "name": "stdout",
     "output_type": "stream",
     "text": [
      "./differential/balb_f0.vs.balb_f1.scatter.homer.txt\n",
      "ge all transcripts (24940, 16)\n",
      "Diff Gene selected transcripts (9374, 14)\n",
      "ge selected transcripts (9374, 16)\n",
      "./differential/balb_f0.vs.balb_nsg.scatter.homer.txt\n",
      "ge all transcripts (24940, 16)\n",
      "Diff Gene selected transcripts (9538, 14)\n",
      "ge selected transcripts (9538, 16)\n",
      "./differential/balb_f1.vs.balb_f0.scatter.homer.txt\n",
      "ge all transcripts (24940, 16)\n",
      "Diff Gene selected transcripts (9374, 14)\n",
      "ge selected transcripts (9374, 16)\n",
      "./differential/balb_f1.vs.balb_nsg.scatter.homer.txt\n",
      "ge all transcripts (24940, 16)\n",
      "Diff Gene selected transcripts (9764, 14)\n",
      "ge selected transcripts (9764, 16)\n",
      "./differential/balb_nsg.vs.balb_f0.scatter.homer.txt\n",
      "ge all transcripts (24940, 16)\n",
      "Diff Gene selected transcripts (9538, 14)\n",
      "ge selected transcripts (9538, 16)\n",
      "./differential/balb_nsg.vs.balb_f1.scatter.homer.txt\n",
      "ge all transcripts (24940, 16)\n",
      "Diff Gene selected transcripts (9764, 14)\n",
      "ge selected transcripts (9764, 16)\n"
     ]
    }
   ],
   "source": [
    "for i in np.sort(glob.glob('./differential/balb*balb*homer.txt')):\n",
    "    print(i)\n",
    "    sample = i.split('/')[-1].replace('.homer.txt', '')\n",
    "    # read in gene expression data\n",
    "    df, tpm, tpm_mat, tpm_mat_quant = import_homer_diffgene(\n",
    "        depath=i,\n",
    "        gepath='./expression/HOMER.rawTPM.txt',\n",
    "        gene_name_index=True)\n",
    "\n",
    "    # select differential genes\n",
    "    df = df.loc[~(df.chr.str.contains('chrX|chrY|ChrUn')), :]\n",
    "    sig_genes = df.index[(df['padj'] < pval) & (df['log2FoldChange'] >= log2fc)].to_list()\n",
    "    gene_list_dict[sample+'_'+i.split('.')[3]+'_up'] = list(sig_genes)\n",
    "    # print('union set length:', print(len(g_union)))\n",
    "    # print('intersection set length:', print(len(g_intersect)))"
   ]
  },
  {
   "cell_type": "code",
   "execution_count": 38,
   "metadata": {},
   "outputs": [
    {
     "name": "stdout",
     "output_type": "stream",
     "text": [
      "balb_f0.vs.balb_f1.scatter_balb_f1_up\n",
      "206 genes\n",
      "balb_f0.vs.balb_nsg.scatter_balb_nsg_up\n",
      "387 genes\n",
      "balb_f1.vs.balb_f0.scatter_balb_f0_up\n",
      "39 genes\n",
      "balb_f1.vs.balb_nsg.scatter_balb_nsg_up\n",
      "375 genes\n",
      "balb_nsg.vs.balb_f0.scatter_balb_f0_up\n",
      "132 genes\n",
      "balb_nsg.vs.balb_f1.scatter_balb_f1_up\n",
      "361 genes\n"
     ]
    }
   ],
   "source": [
    "for key in gene_list_dict.keys():\n",
    "    print(key)\n",
    "    print(len(gene_list_dict[key]), 'genes')\n",
    "    with open('./gene_lists/'+key+'_kupffer_genes_fc_%.2f_pval_%.2f.txt' % (log2fc, pval), 'w') as f:\n",
    "        f.write('Gene\\n')\n",
    "        for i in gene_list_dict[key]:\n",
    "            f.write(i+'\\n')\n",
    "        f.close()"
   ]
  },
  {
   "cell_type": "markdown",
   "metadata": {},
   "source": [
    "# Load GO:0003700 for mus musculus transcription factors"
   ]
  },
  {
   "cell_type": "code",
   "execution_count": 39,
   "metadata": {},
   "outputs": [],
   "source": [
    "tf_go = pd.read_table('/gpfs/data01/glasslab/home/h1bennet/data/go_0003700_transcription_factor_activity_gene_name.txt',\n",
    "                    index_col=0,\n",
    "                    header=None)"
   ]
  },
  {
   "cell_type": "code",
   "execution_count": 40,
   "metadata": {},
   "outputs": [],
   "source": [
    "tfs = tf_go.iloc[:, 1].unique()"
   ]
  },
  {
   "cell_type": "code",
   "execution_count": 42,
   "metadata": {
    "scrolled": true
   },
   "outputs": [
    {
     "data": {
      "text/plain": [
       "{'Cd40',\n",
       " 'Erg',\n",
       " 'Hmga1',\n",
       " 'Pim1',\n",
       " 'Rpl11',\n",
       " 'Tcf7l1',\n",
       " 'Trim12a',\n",
       " 'Trim34a',\n",
       " 'Trim5',\n",
       " 'Zfp429',\n",
       " 'Zfp991',\n",
       " 'Zfp992',\n",
       " 'Zhx2'}"
      ]
     },
     "execution_count": 42,
     "metadata": {},
     "output_type": "execute_result"
    }
   ],
   "source": [
    "set(gene_list_dict['balb_f0.vs.balb_f1.scatter_balb_f1_up']).intersection(tfs)"
   ]
  },
  {
   "cell_type": "markdown",
   "metadata": {},
   "source": [
    "# Scatter with TFs labeled as in van der veeken"
   ]
  },
  {
   "cell_type": "code",
   "execution_count": 46,
   "metadata": {},
   "outputs": [
    {
     "data": {
      "text/plain": [
       "Index(['/home/h1bennet/strains/data/RNA/control_kupffer/BALBC_Kupffer_RNA_BALB01C_HBENN_l20201208_AGCCTCAT_AGTAGAGA.balbcj.star_shifted_from_BALBCJ.sam TPM',\n",
       "       '/home/h1bennet/strains/data/RNA/control_kupffer/BALBC_Kupffer_RNA_BALB01D_HBENN_l20201208_GATTCTGC_GACGAGAG.balbcj.star_shifted_from_BALBCJ.sam TPM',\n",
       "       '/data/mm10/Kupffer/RNA/balbc_RecruitedKupffer_RNA_polyA_BMTNSG_JSSTDT_NSG4_JSS_l20180314 TPM',\n",
       "       '/data/mm10/Kupffer/RNA/balbc_RecruitedKupffer_RNA_polyA_BMTNSG_JSSTDT_NSG5_JSS_l20180314 TPM',\n",
       "       '/data/mm10/Kupffer/RNA/balbc_RecruitedKupffer_RNA_polyA_BMTNSG_JSSTDT_NSG6_JSS_l20180314 TPM',\n",
       "       '/home/h1bennet/strains/data/RNA/control_kupffer_f1/mouse_cb6f1j_male_kupffer_RNA_polyA_chow_CB61A_Kupffer.balbcj.star_shifted_from_BALBCJ.sam TPM',\n",
       "       '/home/h1bennet/strains/data/RNA/control_kupffer_f1/mouse_cb6f1j_male_kupffer_RNA_polyA_chow_CB61B_Kupffer.balbcj.star_shifted_from_BALBCJ.sam TPM',\n",
       "       '/home/h1bennet/strains/data/RNA/control_kupffer_f1/mouse_cb6f1j_male_kupffer_RNA_polyA_chow_CB61C_Kupffer.balbcj.star_shifted_from_BALBCJ.sam TPM',\n",
       "       '/home/h1bennet/strains/data/RNA/control_kupffer_f1/mouse_cb6f1j_male_kupffer_RNA_polyA_chow_CB61D_Kupffer.balbcj.star_shifted_from_BALBCJ.sam TPM'],\n",
       "      dtype='object')"
      ]
     },
     "execution_count": 46,
     "metadata": {},
     "output_type": "execute_result"
    }
   ],
   "source": [
    "tpm_mat.columns"
   ]
  },
  {
   "cell_type": "code",
   "execution_count": 47,
   "metadata": {},
   "outputs": [],
   "source": [
    "comps = ['balb_f0.vs.balb_nsg.scatter.homer.txt',\n",
    "         'balb_f0.vs.balb_f1.scatter.homer.txt',\n",
    "         'balb_nsg.vs.balb_f1.scatter.homer.txt']\n",
    "\n",
    "ids = [['BALBC_Kupffer', 'RecruitedKupffer'],\n",
    "       ['BALBC_Kupffer', 'cb6f1j'],\n",
    "       ['RecruitedKupffer', 'cb6f1j']]\n",
    "\n",
    "labels = [['BALB/cJ F0', 'BALB/cJ NSG'],\n",
    "          ['BALB/cJ F0', 'BALB/cJ F1'],\n",
    "          ['BALB/cJ F1', 'BALB/cJ NSG']]\n",
    "\n",
    "colors = [['#969696', '#636363', '#de2d26'],\n",
    "          ['#969696', '#636363', '#de2d26'],\n",
    "          ['#969696', '#636363', '#de2d26']\n",
    "          ] # third color gets passed to plot TFs\n",
    "\n",
    "\n",
    "\n",
    "# set plotting thresholds\n",
    "pthresh = 0.05\n",
    "fontsize=10\n",
    "labelsize=10\n",
    "lfcthresh = (np.log2(2),2)\n",
    "z_order = [0,1,2]\n",
    "dotsizes = [1,2,1]\n",
    "ax_max = 16\n",
    "n_yticks = 5\n",
    "ytickstep = 3\n",
    "color = '#636363'"
   ]
  },
  {
   "cell_type": "code",
   "execution_count": 48,
   "metadata": {},
   "outputs": [
    {
     "name": "stdout",
     "output_type": "stream",
     "text": [
      "balb_f0.vs.balb_nsg.scatter.homer.txt\n",
      "ge all transcripts (24940, 16)\n",
      "Diff Gene selected transcripts (9538, 14)\n",
      "ge selected transcripts (9538, 16)\n",
      "9008 gnes\n",
      "393 genes up in group 1\n",
      "137 genes up in group 2\n",
      "42 de genes with TF function\n",
      "balb_f0.vs.balb_f1.scatter.homer.txt\n",
      "ge all transcripts (24940, 16)\n",
      "Diff Gene selected transcripts (9374, 14)\n",
      "ge selected transcripts (9374, 16)\n",
      "9125 gnes\n",
      "209 genes up in group 1\n",
      "40 genes up in group 2\n",
      "16 de genes with TF function\n",
      "balb_nsg.vs.balb_f1.scatter.homer.txt\n",
      "ge all transcripts (24940, 16)\n",
      "Diff Gene selected transcripts (9764, 14)\n",
      "ge selected transcripts (9764, 16)\n",
      "9009 gnes\n",
      "372 genes up in group 1\n",
      "383 genes up in group 2\n",
      "64 de genes with TF function\n"
     ]
    },
    {
     "data": {
      "image/png": "[encoded data removed]",
      "text/plain": [
       "<Figure size 864x288 with 3 Axes>"
      ]
     },
     "metadata": {},
     "output_type": "display_data"
    }
   ],
   "source": [
    "fig, axs = plt.subplots(1,3,\n",
    "                        figsize=(12,4),\n",
    "                        sharex=True,\n",
    "                        sharey=True)\n",
    "plt.subplots_adjust(wspace=0.2,\n",
    "                    hspace=0.2)\n",
    "\n",
    "# set count for labeling axes\n",
    "count=0\n",
    "\n",
    "for comp, grep, labs, color, ax in zip(comps, ids, labels, colors, axs):\n",
    "    print(comp)\n",
    "    de, tpm, tpm_mat, tpm_mat_quant = import_homer_diffgene(\n",
    "        './differential/'+comp,\n",
    "        './expression/HOMER.rawTPM.txt',\n",
    "        gene_name_index=True)\n",
    "    \n",
    "    # extract columns\n",
    "    g0 = tpm_mat.columns.str.contains(grep[0])\n",
    "    # print(tpm_mat.columns[g0])\n",
    "    g1 = tpm_mat.columns.str.contains(grep[1])\n",
    "    # print(tpm_mat.columns[g1])\n",
    "    col = g0 | g1\n",
    "    \n",
    "    de['logtpm'] = np.log2(tpm_mat.loc[:, col].mean(1)+1)\n",
    "    de['log10p'] = -np.log10(de.padj + 10**(-50))\n",
    "    de['g0_mean'] = np.log2(tpm_mat.loc[:, g0].mean(1)+1)\n",
    "    de['g1_mean'] = np.log2(tpm_mat.loc[:, g1].mean(1)+1)\n",
    "       \n",
    "    # plot group by group scatter:\n",
    "    de_nonsig = de.reindex(de.index[((de.padj >= pthresh) | (np.abs(de.log2FoldChange) <= lfcthresh[0]))])\n",
    "    de_sig_fc1 = de.reindex(de.index[(de.padj < pthresh) & (np.abs(de.log2FoldChange) >= lfcthresh[0])])\n",
    "    de_tf = de.reindex(tfs).dropna()\n",
    "    \n",
    "    # check number of peaks in each group\n",
    "    print(de_nonsig.shape[0], 'gnes')\n",
    "    print((de_sig_fc1.log2FoldChange > lfcthresh[0]).sum(), 'genes up in group 1')\n",
    "    print((de_sig_fc1.log2FoldChange < -lfcthresh[0]).sum(), 'genes up in group 2')\n",
    "    print(de_sig_fc1.reindex(tfs).dropna().shape[0], 'de genes with TF function')\n",
    "    \n",
    "    for df, c, z, dotsize in zip([de_nonsig, de_sig_fc1, de_tf],\n",
    "                               color,\n",
    "                               z_order,\n",
    "                               dotsizes):\n",
    "        ax.scatter(\n",
    "            x=df.g0_mean,\n",
    "            y=df.g1_mean,\n",
    "            c=c,\n",
    "            s=dotsize,\n",
    "            zorder = z\n",
    "            #rasterized=True\n",
    "        )\n",
    "     \n",
    "    # Hide the right and top spines\n",
    "    ax.spines['right'].set_visible(False)\n",
    "    ax.spines['top'].set_visible(False)\n",
    "    \n",
    "\n",
    "    ax.set_xlabel(labs[0], fontsize=labelsize+4)\n",
    "    ax.set_ylabel(labs[1], fontsize=labelsize+4)\n",
    "    \n",
    "    #set max and min\n",
    "    ax.set_xlim([0,ax_max])\n",
    "    ax.set_ylim([0,ax_max])\n",
    "    \n",
    "    # set ticks\n",
    "    ax.set_xticks(np.arange(0,ax_max,ytickstep))\n",
    "    ax.set_xticklabels(np.arange(0,ax_max,ytickstep),\n",
    "                       fontdict={'fontsize':labelsize})\n",
    "    ax.set_yticks(np.arange(0,ax_max,ytickstep))\n",
    "    ax.set_yticklabels(np.arange(0,ax_max,ytickstep),\n",
    "                       fontdict={'fontsize':labelsize})\n",
    "    \n",
    "    count = count + 1\n",
    "# plt.savefig('./figures/'+filename, bbox_inches='tight')"
   ]
  },
  {
   "cell_type": "markdown",
   "metadata": {},
   "source": [
    "# Promoter motif analysis!"
   ]
  },
  {
   "cell_type": "code",
   "execution_count": 49,
   "metadata": {},
   "outputs": [],
   "source": [
    "if not os.path.isdir('./promoter_motifs/'):\n",
    "    os.mkdir('./promoter_motifs')"
   ]
  },
  {
   "cell_type": "code",
   "execution_count": 156,
   "metadata": {},
   "outputs": [
    {
     "name": "stdout",
     "output_type": "stream",
     "text": [
      "Process is interrupted.\n"
     ]
    }
   ],
   "source": [
    "%%bash\n",
    "\n",
    "oops dont run this for real tho\n",
    "\"\"\n",
    "for i in ./gene_lists/*.txt;\n",
    "do out=${i/gene_lists/promoter_motifs};\n",
    "out=${out/.txt/_motifs};\n",
    "findMotifs.pl $i mouse $out -p 8; done"
   ]
  },
  {
   "cell_type": "markdown",
   "metadata": {},
   "source": [
    "# How many leptin induced genes are common"
   ]
  },
  {
   "cell_type": "code",
   "execution_count": 22,
   "metadata": {},
   "outputs": [],
   "source": [
    "# fig, ax = plt.subplots(figsize=(8,8))\n",
    "\n",
    "# # venn3 accepts a list with the following order\n",
    "# # (100, 010, 110, 001, 101, 011, 111)\n",
    "# # group1, group2, group1+2, group3, group1+3, group2+3, group3\n",
    "# venn2(subsets=[# set(gene_list_dict['c57_wholeliver_leptin_6hours_up']),\n",
    "#                set(gene_list_dict['balbc_kupffer_leptin_6hours_up']),\n",
    "#                set(gene_list_dict['aj_kupffer_leptin_6hours_up'])],\n",
    "#      ax=ax,\n",
    "#      set_colors=(# '#006d2c',\n",
    "#                  '#08519c', '#de2d26'),\n",
    "#      set_labels=(# 'C57',\n",
    "#                  'BALBC', 'AJ'),\n",
    "#      alpha=0.5)\n",
    "# ax.set_title('leptin Activated wholeliver Genes');\n",
    "\n",
    "# plt.savefig('./figures/venn2_activated_genes.png', bbox_inches='tight')"
   ]
  },
  {
   "cell_type": "code",
   "execution_count": 23,
   "metadata": {},
   "outputs": [],
   "source": [
    "# fig, ax = plt.subplots(figsize=(8,8))\n",
    "\n",
    "# # venn3 accepts a list with the following order\n",
    "# # (100, 010, 110, 001, 101, 011, 111)\n",
    "# # group1, group2, group1+2, group3, group1+3, group2+3, group3\n",
    "# venn2(subsets=[# set(gene_list_dict['c57_wholeliver_control_young_up']),\n",
    "#                set(gene_list_dict['balbc_kupffer_control_up']),\n",
    "#                set(gene_list_dict['aj_kupffer_control_up'])],\n",
    "#      ax=ax,\n",
    "#      set_colors=(# '#006d2c',\n",
    "#                  '#08519c', '#de2d26'),\n",
    "#      set_labels=(# 'C57',\n",
    "#                  'BALBC', 'AJ'),\n",
    "#      alpha=0.5)\n",
    "# ax.set_title('leptin repressed wholeliver Genes');\n",
    "\n",
    "# plt.savefig('./figures/venn2_activated_genes.png', bbox_inches='tight')"
   ]
  },
  {
   "cell_type": "markdown",
   "metadata": {},
   "source": [
    "### Pull sets for manual examination"
   ]
  },
  {
   "cell_type": "markdown",
   "metadata": {},
   "source": [
    "activated genes"
   ]
  },
  {
   "cell_type": "code",
   "execution_count": 24,
   "metadata": {},
   "outputs": [],
   "source": [
    "# all3 = set(gene_list_dict['aj_wholeliver_leptin_6hours_up']).intersection(set(gene_list_dict['balbc_wholeliver_leptin_6hours_up']).intersection(gene_list_dict['c57_wholeliver_leptin_6hours_up']))\n",
    "# C57_balbc = set(gene_list_dict['c57_wholeliver_leptin_6hours_up']).intersection(set(gene_list_dict['balbc_wholeliver_leptin_6hours_up']).difference(all3))\n",
    "# C57_aj = set(gene_list_dict['c57_wholeliver_leptin_6hours_up']).intersection(set(gene_list_dict['aj_wholeliver_leptin_6hours_up']).difference(all3))\n",
    "# balbc_aj = set(gene_list_dict['balbc_wholeliver_leptin_6hours_up']).intersection(gene_list_dict['aj_wholeliver_leptin_6hours_up']).difference(all3)\n",
    "# C57_private = set(gene_list_dict['c57_wholeliver_leptin_6hours_up']).difference(set(all3).union(set(C57_balbc).union(C57_aj)))\n",
    "# balbc_private = set(gene_list_dict['balbc_wholeliver_leptin_6hours_up']).difference(set(all3).union(set(C57_balbc).union(balbc_aj)))\n",
    "# aj_private = set(gene_list_dict['aj_wholeliver_leptin_6hours_up']).difference(set(all3).union(set(C57_aj).union(balbc_aj)))"
   ]
  },
  {
   "cell_type": "code",
   "execution_count": 25,
   "metadata": {},
   "outputs": [],
   "source": [
    "# genesets = [aj_private, C57_private, balbc_private]\n",
    "# genesetnames = ['aj_private', 'c57_private', 'balbc_private']\n",
    "# for listname, genelist in zip(genesetnames, genesets):\n",
    "#     with open('./gene_lists/'+listname+'_wholeliver_genes_fc_'+str(log2fc)+'_pval_'+str(pval)+'.txt', 'w') as f:\n",
    "#         f.write('Gene\\n')\n",
    "#         for i in genelist:\n",
    "#             f.write(i+'\\n')\n",
    "#         f.close()"
   ]
  },
  {
   "cell_type": "markdown",
   "metadata": {},
   "source": [
    "# Plot specific genes as barplots"
   ]
  },
  {
   "cell_type": "code",
   "execution_count": 165,
   "metadata": {},
   "outputs": [],
   "source": [
    "tpm_mat = pd.read_csv('./expression/rawT.txt', sep='\\t', index_col=0)"
   ]
  },
  {
   "cell_type": "code",
   "execution_count": 166,
   "metadata": {},
   "outputs": [
    {
     "data": {
      "text/plain": [
       "Index(['c57_f0_C5701C', 'c57_f0_C5701D', 'c57_nsg_NSG1', 'c57_nsg_NSG2',\n",
       "       'c57_nsg_NSG3', 'c57_f1_cb61a', 'c57_f1_cb61b', 'c57_f1_cb61c',\n",
       "       'c57_f1_cb61d'],\n",
       "      dtype='object')"
      ]
     },
     "execution_count": 166,
     "metadata": {},
     "output_type": "execute_result"
    }
   ],
   "source": [
    "tpm_mat.columns"
   ]
  },
  {
   "cell_type": "code",
   "execution_count": 177,
   "metadata": {},
   "outputs": [
    {
     "data": {
      "text/plain": [
       "{'Cd36', 'Dbp', 'Irak3', 'Ptgis'}"
      ]
     },
     "execution_count": 177,
     "metadata": {},
     "output_type": "execute_result"
    }
   ],
   "source": [
    "set(gene_list_dict['c57_f1.vs.c57_f0.scatter_c57_f0_up']).intersection(tfs)"
   ]
  },
  {
   "cell_type": "code",
   "execution_count": 168,
   "metadata": {},
   "outputs": [],
   "source": [
    "groups = [[0,1],\n",
    "          [2,3,4],\n",
    "          [5,6,7,8]]\n",
    "\n",
    "group_labels = ['C57BL/6J F0',\n",
    "                'C57BL/6J NSG',\n",
    "                'C57BL/6J F1']\n",
    "\n",
    "colors = ['#006d2c',\n",
    "          '#31a354',\n",
    "          '#74c476']\n",
    "\n",
    "legend_elements = []\n",
    "for lab, col in  zip(group_labels, colors):\n",
    "    legend_elements.append(Patch(label=lab, color=col))"
   ]
  },
  {
   "cell_type": "code",
   "execution_count": 185,
   "metadata": {},
   "outputs": [
    {
     "data": {
      "text/plain": [
       "<matplotlib.axes._subplots.AxesSubplot at 0x7f9b18250090>"
      ]
     },
     "execution_count": 185,
     "metadata": {},
     "output_type": "execute_result"
    },
    {
     "data": {
      "image/png": "[encoded data removed]",
      "text/plain": [
       "<Figure size 288x288 with 1 Axes>"
      ]
     },
     "metadata": {},
     "output_type": "display_data"
    }
   ],
   "source": [
    "fig, ax = plt.subplots(figsize=(4, 4))\n",
    "\n",
    "gene_list_bar_plot(['Mmp9'],\n",
    "                   tpm_mat,\n",
    "                   groups=groups,\n",
    "                   group_labels = group_labels,\n",
    "                   colors = colors,\n",
    "                   width = 0.15,\n",
    "                   ax=ax)\n",
    "\n",
    "# ax.get_legend().remove()"
   ]
  },
  {
   "cell_type": "code",
   "execution_count": 31,
   "metadata": {},
   "outputs": [
    {
     "data": {
      "text/plain": [
       "[]"
      ]
     },
     "execution_count": 31,
     "metadata": {},
     "output_type": "execute_result"
    },
    {
     "data": {
      "image/png": "[encoded data removed]",
      "text/plain": [
       "<Figure size 1728x324 with 7 Axes>"
      ]
     },
     "metadata": {},
     "output_type": "display_data"
    }
   ],
   "source": [
    "gene_list = ['Aoah', 'Tnf', 'Tnfaip3', 'Irak3', 'Tlr9', 'Lbp']\n",
    "\n",
    "fig, axs = plt.subplots(1, len(gene_list)+1, figsize=(4*len(gene_list), 3*len(gene_list)/4))\n",
    "plt.subplots_adjust(wspace=0.5)\n",
    "\n",
    "\n",
    "for gene, ax in zip(gene_list, axs.flat):\n",
    "    gene_list_bar_plot([gene],\n",
    "                       tpm_mat,\n",
    "                       groups=groups,\n",
    "                       group_labels = group_labels,\n",
    "                       colors = colors,\n",
    "                       width = 0.15,\n",
    "                       ax=ax)\n",
    "\n",
    "    ax.get_legend().remove()\n",
    "    \n",
    "axs.flat[-1].legend(handles=legend_elements, loc='center')\n",
    "axs.flat[-1].spines['top'].set_visible(False)\n",
    "axs.flat[-1].spines['right'].set_visible(False)\n",
    "axs.flat[-1].spines['left'].set_visible(False)\n",
    "axs.flat[-1].spines['bottom'].set_visible(False)\n",
    "axs.flat[-1].set_xticklabels('')\n",
    "axs.flat[-1].set_yticklabels('')"
   ]
  }
 ],
 "metadata": {
  "kernelspec": {
   "display_name": "dataviz",
   "language": "python",
   "name": "dataviz"
  },
  "language_info": {
   "codemirror_mode": {
    "name": "ipython",
    "version": 3
   },
   "file_extension": ".py",
   "mimetype": "text/x-python",
   "name": "python",
   "nbconvert_exporter": "python",
   "pygments_lexer": "ipython3",
   "version": "3.7.5"
  }
 },
 "nbformat": 4,
 "nbformat_minor": 2
}
