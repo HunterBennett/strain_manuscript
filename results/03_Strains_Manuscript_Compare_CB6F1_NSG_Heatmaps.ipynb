{
 "cells": [
  {
   "cell_type": "markdown",
   "id": "regional-monroe",
   "metadata": {},
   "source": [
    "Hunter Bennett | June 16 2021"
   ]
  },
  {
   "cell_type": "code",
   "execution_count": 1,
   "id": "enabling-pharmacy",
   "metadata": {},
   "outputs": [],
   "source": [
    "### header ###\n",
    "__author__ = \"Hunter Bennett\"\n",
    "__license__ = \"BSD\"\n",
    "__email__ = \"hunter.r.bennett@gmail.com\"\n",
    "%load_ext autoreload\n",
    "%autoreload 2\n",
    "%matplotlib inline\n",
    "### imports ###\n",
    "import sys\n",
    "import os\n",
    "import re\n",
    "import glob\n",
    "import pandas as pd\n",
    "import numpy as np\n",
    "import matplotlib\n",
    "import matplotlib.pyplot as plt\n",
    "from matplotlib.patches import Patch\n",
    "from matplotlib_venn import venn3\n",
    "import seaborn as sns\n",
    "\n",
    "# import custom functions\n",
    "sys.path.insert(0, '/home/h1bennet/code/')\n",
    "from hbUtils import ngs_qc, quantile_normalize_df\n",
    "from homer_preprocessing import import_homer_diffgene, read_homer_gene_exp, read_annotated_peaks\n",
    "from plotting_scripts import plot_exp_rpkm, gene_list_bar_plot"
   ]
  },
  {
   "cell_type": "code",
   "execution_count": 2,
   "id": "varied-period",
   "metadata": {},
   "outputs": [],
   "source": [
    "f1Dir = '/home/ttroutman/strainsKupffer/rnaKupfferF1/'\n",
    "nsgDir = '/home/ttroutman/strainsKupffer/rnaKupfferNSG_20210201/'\n",
    "workingDirectory = '/home/h1bennet/strains_manuscript/results/03_Strains_Manuscript_Compare_CB6F1_NSG//'\n",
    "if not os.path.isdir(workingDirectory):\n",
    "    os.mkdir(workingDirectory)\n",
    "os.chdir(workingDirectory)"
   ]
  },
  {
   "cell_type": "code",
   "execution_count": 3,
   "id": "remarkable-blood",
   "metadata": {},
   "outputs": [],
   "source": [
    "#### PLOTTING PARAMETERS FOR MANUSCRIPT ####\n",
    "# # get matplotlib to save readable fonts\n",
    "matplotlib.rcParams['pdf.fonttype'] = 42\n",
    "matplotlib.rcParams['ps.fonttype'] = 42\n",
    "matplotlib.rcParams['font.size'] = 6\n",
    "matplotlib.rcParams['savefig.dpi'] = 500\n",
    "\n",
    "\n",
    "# line widths\n",
    "matplotlib.rcParams['axes.linewidth'] = 1\n",
    "matplotlib.rcParams['xtick.major.width'] = 1\n",
    "matplotlib.rcParams['ytick.major.width'] = 1\n",
    "\n",
    "# adjust defualt color for plots to black\n",
    "# normal default is a dark gray\n",
    "COLOR = 'black'\n",
    "matplotlib.rcParams['text.color'] = COLOR\n",
    "matplotlib.rcParams['axes.labelcolor'] = COLOR\n",
    "matplotlib.rcParams['xtick.color'] = COLOR\n",
    "matplotlib.rcParams['ytick.color'] = COLOR\n",
    "matplotlib.rcParams['axes.edgecolor'] = COLOR\n",
    "\n",
    "#### PLOT PARAMETERS FOR THIS PLOT ####"
   ]
  },
  {
   "cell_type": "markdown",
   "id": "wanted-transcription",
   "metadata": {},
   "source": [
    "# Compare cis / trans / mixed lists...\n",
    "How many trans regulated genes are shared between sets..."
   ]
  },
  {
   "cell_type": "code",
   "execution_count": 4,
   "id": "requested-alexander",
   "metadata": {},
   "outputs": [
    {
     "data": {
      "text/plain": [
       "['cb6f1_kupffer_trans_c57_filt_pval',\n",
       " '._cb6f1_kupffer_trans_c57.txt',\n",
       " 'cb6f1_kupffer_trans_balb_filt_pval.txt',\n",
       " '._.DS_Store',\n",
       " '._cb6f1_kupffer_trans_balb_filt',\n",
       " 'cb6f1_kupffer_mixed_c57_filt.txt',\n",
       " 'cb6f1_kupffer_cis_balb_filt_pval.txt',\n",
       " 'cb6f1_kupffer_trans_balb_filt.txt',\n",
       " '._cb6f1_kupffer_trans_c57',\n",
       " 'cb6f1_kupffer_trans_c57_filt',\n",
       " 'cb6f1_kupffer_cis_c57_filt_pval.txt',\n",
       " '._cb6f1_kupffer_cis_balb_filt_pval',\n",
       " '._cb6f1_kupffer_trans_c57_filt_pval.txt',\n",
       " '._cb6f1_kupffer_trans_balb_filt_pval',\n",
       " '._cb6f1_kupffer_trans_c57_filt.txt',\n",
       " 'cb6f1_kupffer_mixed_balb_filt.txt',\n",
       " 'cb6f1_kupffer_trans_c57_filt_pval.txt',\n",
       " '._cb6f1_kupffer_mixed_c57',\n",
       " 'cb6f1_kupffer_mixed_balb',\n",
       " '._cb6f1_kupffer_trans_balb',\n",
       " 'cb6f1_kupffer_mixed_balb_filt_pval',\n",
       " 'cb6f1_kupffer_mixed_c57',\n",
       " '._cb6f1_kupffer_trans_c57_filt',\n",
       " '._cb6f1_kupffer_mixed_c57_filt_pval',\n",
       " 'cb6f1_kupffer_mixed_balb_filt',\n",
       " '._cb6f1_kupffer_cis_balb_filt_pval.txt',\n",
       " '._cb6f1_kupffer_mixed_balb_filt_pval',\n",
       " 'cb6f1_kupffer_cis_c57_filt_pval',\n",
       " 'cb6f1_kupffer_trans_balb_filt',\n",
       " '._cb6f1_kupffer_mixed_balb_filt_pval.txt',\n",
       " 'cb6f1_kupffer_mixed_c57_filt_pval.txt',\n",
       " 'cb6f1_kupffer_trans_c57_filt.txt',\n",
       " '._cb6f1_kupffer_trans_balb.txt',\n",
       " '.DS_Store',\n",
       " '._cb6f1_kupffer_cis_c57_filt_pval',\n",
       " 'cb6f1_kupffer_trans_c57',\n",
       " '._cb6f1_kupffer_mixed_balb',\n",
       " '._cb6f1_kupffer_mixed_c57.txt',\n",
       " '._cb6f1_kupffer_trans_balb_filt_pval.txt',\n",
       " 'cb6f1_kupffer_mixed_balb_filt_pval.txt',\n",
       " '._cb6f1_kupffer_mixed_balb_filt',\n",
       " 'cb6f1_kupffer_cis_balb_filt_pval',\n",
       " '._cb6f1_kupffer_trans_c57_filt_pval',\n",
       " '._cb6f1_kupffer_cis_c57_filt_pval.txt',\n",
       " 'cb6f1_kupffer_trans_balb.txt',\n",
       " 'cb6f1_kupffer_trans_balb',\n",
       " 'cb6f1_kupffer_trans_balb_filt_pval',\n",
       " 'cb6f1_kupffer_mixed_balb.txt',\n",
       " '._cb6f1_kupffer_mixed_balb.txt',\n",
       " 'cb6f1_kupffer_trans_c57.txt',\n",
       " 'cb6f1_kupffer_mixed_c57_filt_pval',\n",
       " '._cb6f1_kupffer_mixed_c57_filt_pval.txt',\n",
       " 'cb6f1_kupffer_mixed_c57.txt']"
      ]
     },
     "execution_count": 4,
     "metadata": {},
     "output_type": "execute_result"
    }
   ],
   "source": [
    "os.listdir('/home/h1bennet/strains_rna/results/K03_CB6F1_Kupffer_RNA/gene_lists/')"
   ]
  },
  {
   "cell_type": "code",
   "execution_count": 5,
   "id": "honest-supervision",
   "metadata": {},
   "outputs": [],
   "source": [
    "f1_dict = {}\n",
    "for genelist in glob.glob('/home/h1bennet/strains_rna/results/K03_CB6F1_Kupffer_RNA/gene_lists/*filt_pval.txt'):\n",
    "    with open(genelist, 'r') as f:\n",
    "        listid = genelist.split('/')[-1].replace('.txt','')\n",
    "        f1_dict[listid] = [i.strip() for i in f.readlines()[1:]]"
   ]
  },
  {
   "cell_type": "code",
   "execution_count": 6,
   "id": "standing-trader",
   "metadata": {},
   "outputs": [],
   "source": [
    "nsg_dict = {}\n",
    "for genelist in glob.glob('/home/h1bennet/strains_rna/results/K03_NSG_Kupffer_RNA/gene_lists/*filt_pval.txt'):\n",
    "    with open(genelist, 'r') as f:\n",
    "        listid = genelist.split('/')[-1].replace('.txt','')\n",
    "        nsg_dict[listid] = [i.strip() for i in f.readlines()[1:]]"
   ]
  },
  {
   "cell_type": "markdown",
   "id": "loose-safety",
   "metadata": {},
   "source": [
    "Compare overlap of all sets..."
   ]
  },
  {
   "cell_type": "code",
   "execution_count": 7,
   "id": "hydraulic-hardware",
   "metadata": {
    "scrolled": false
   },
   "outputs": [
    {
     "name": "stdout",
     "output_type": "stream",
     "text": [
      "cb6f1_kupffer_trans_balb_filt_pval\n",
      "63 genes in F1 set\n",
      "84 genes in NSG set\n",
      "35 / 112 genes shared\n",
      "cb6f1_kupffer_cis_balb_filt_pval\n",
      "39 genes in F1 set\n",
      "77 genes in NSG set\n",
      "27 / 89 genes shared\n",
      "cb6f1_kupffer_cis_c57_filt_pval\n",
      "44 genes in F1 set\n",
      "73 genes in NSG set\n",
      "36 / 81 genes shared\n",
      "cb6f1_kupffer_trans_c57_filt_pval\n",
      "61 genes in F1 set\n",
      "88 genes in NSG set\n",
      "44 / 105 genes shared\n",
      "cb6f1_kupffer_mixed_c57_filt_pval\n",
      "33 genes in F1 set\n",
      "17 genes in NSG set\n",
      "2 / 48 genes shared\n",
      "cb6f1_kupffer_mixed_balb_filt_pval\n",
      "52 genes in F1 set\n",
      "18 genes in NSG set\n",
      "3 / 67 genes shared\n"
     ]
    }
   ],
   "source": [
    "for key in f1_dict.keys():\n",
    "    print(key)\n",
    "    print(len(f1_dict[key]), 'genes in F1 set')\n",
    "    print(len(nsg_dict[key]), 'genes in NSG set')\n",
    "    shared = set(nsg_dict[key]).intersection(f1_dict[key])\n",
    "    total = set(nsg_dict[key]).union(f1_dict[key])\n",
    "    print('%i / %i genes shared' % (len(shared), len(total)))"
   ]
  },
  {
   "cell_type": "code",
   "execution_count": 8,
   "id": "nasty-detroit",
   "metadata": {},
   "outputs": [],
   "source": [
    "df_f1 = pd.read_csv('/home/ttroutman/strainsKupffer/rnaKupfferF1//rnaDiff/balbcj_variants.vs.c57bl6j_variants.scatter.txt',\n",
    "                    sep='\\t', index_col=0)\n"
   ]
  },
  {
   "cell_type": "code",
   "execution_count": 9,
   "id": "smart-ladder",
   "metadata": {},
   "outputs": [],
   "source": [
    "df_nsg = pd.read_csv('/home/ttroutman/strainsKupffer/rnaKupfferNSG_20210201//rnaDiff/balbcj_NSG.vs.c57bl6j_NSG.scatter.txt',\n",
    "                 sep='\\t', index_col=0)"
   ]
  },
  {
   "cell_type": "code",
   "execution_count": 10,
   "id": "confident-fleet",
   "metadata": {},
   "outputs": [],
   "source": [
    "df_control = pd.read_csv('/home/ttroutman/strainsKupffer/rnaKupfferNSG_20210201//rnaDiff/balbcj_control.vs.c57bl6j_control.scatter.txt',\n",
    "                         sep='\\t', index_col=0)"
   ]
  },
  {
   "cell_type": "code",
   "execution_count": 11,
   "id": "professional-satin",
   "metadata": {},
   "outputs": [],
   "source": [
    "df = df_control.merge(df_f1.merge(df_nsg, left_index=True, right_index=True, how='inner', suffixes=('_f1','_nsg')),\n",
    "                      left_index=True,\n",
    "                      right_index=True,\n",
    "                      how='inner',\n",
    "                      suffixes=('_control', ''))"
   ]
  },
  {
   "cell_type": "code",
   "execution_count": 12,
   "id": "valid-rugby",
   "metadata": {},
   "outputs": [
    {
     "data": {
      "text/plain": [
       "log2FoldChange         2.12664\n",
       "log2FoldChange_f1     0.916636\n",
       "log2FoldChange_nsg     2.14485\n",
       "Name: Oas3, dtype: object"
      ]
     },
     "execution_count": 12,
     "metadata": {},
     "output_type": "execute_result"
    }
   ],
   "source": [
    "2**-df.loc['Oas3', df.columns.str.contains('log2FoldChange')]"
   ]
  },
  {
   "cell_type": "markdown",
   "id": "incident-intellectual",
   "metadata": {},
   "source": [
    "# We will use a custom ordering to separate into F0, F1, NSG specific"
   ]
  },
  {
   "cell_type": "markdown",
   "id": "contrary-development",
   "metadata": {},
   "source": [
    "First write out sets to a new list"
   ]
  },
  {
   "cell_type": "code",
   "execution_count": 13,
   "id": "other-bulgaria",
   "metadata": {},
   "outputs": [],
   "source": [
    "if not os.path.isdir('./gene_list_subsets/'):\n",
    "    os.mkdir('./gene_list_subsets')"
   ]
  },
  {
   "cell_type": "code",
   "execution_count": 14,
   "id": "aging-blues",
   "metadata": {
    "scrolled": true
   },
   "outputs": [
    {
     "name": "stdout",
     "output_type": "stream",
     "text": [
      "cb6f1_kupffer_trans_balb_filt_pval_shared_set : 35\n",
      "cb6f1_kupffer_trans_balb_filt_pval_f1_only : 23\n",
      "cb6f1_kupffer_trans_balb_filt_pval_nsg_only : 5\n",
      "cb6f1_kupffer_cis_balb_filt_pval_shared_set : 27\n",
      "cb6f1_kupffer_cis_balb_filt_pval_f1_only : 5\n",
      "cb6f1_kupffer_cis_balb_filt_pval_nsg_only : 23\n",
      "cb6f1_kupffer_cis_c57_filt_pval_shared_set : 36\n",
      "cb6f1_kupffer_cis_c57_filt_pval_f1_only : 3\n",
      "cb6f1_kupffer_cis_c57_filt_pval_nsg_only : 14\n",
      "cb6f1_kupffer_trans_c57_filt_pval_shared_set : 44\n",
      "cb6f1_kupffer_trans_c57_filt_pval_f1_only : 15\n",
      "cb6f1_kupffer_trans_c57_filt_pval_nsg_only : 3\n",
      "cb6f1_kupffer_mixed_c57_filt_pval_shared_set : 2\n",
      "cb6f1_kupffer_mixed_c57_filt_pval_f1_only : 30\n",
      "cb6f1_kupffer_mixed_c57_filt_pval_nsg_only : 6\n",
      "cb6f1_kupffer_mixed_balb_filt_pval_shared_set : 3\n",
      "cb6f1_kupffer_mixed_balb_filt_pval_f1_only : 48\n",
      "cb6f1_kupffer_mixed_balb_filt_pval_nsg_only : 9\n"
     ]
    }
   ],
   "source": [
    "for key in nsg_dict.keys():\n",
    "    \n",
    "    shared_set = df.reindex(set(nsg_dict[key]).intersection(f1_dict[key])).dropna().index.tolist()\n",
    "    f1_only = df.reindex(set(f1_dict[key]).difference(nsg_dict[key])).dropna().index.tolist()\n",
    "    nsg_only = df.reindex(set(nsg_dict[key]).difference(f1_dict[key])).dropna().index.tolist()\n",
    "    \n",
    "    sets = [shared_set, f1_only, nsg_only]\n",
    "    set_labels = ['shared_set', 'f1_only', 'nsg_only']\n",
    "    \n",
    "    for listname, genelist in zip(set_labels, sets):\n",
    "        print(key+'_'+listname, \":\", len(genelist))\n",
    "        with open('./gene_list_subsets/'+key+'_'+listname+'_.txt', 'w') as f:\n",
    "            f.write('Gene\\n')\n",
    "            for i in genelist:\n",
    "                f.write(i+'\\n')\n",
    "            f.close()"
   ]
  },
  {
   "cell_type": "markdown",
   "id": "behind-branch",
   "metadata": {},
   "source": [
    "# Check promoter motifs just in case"
   ]
  },
  {
   "cell_type": "code",
   "execution_count": 15,
   "id": "expanded-tonight",
   "metadata": {},
   "outputs": [],
   "source": [
    "if not os.path.isdir('./promoter_motif_subsets/'):\n",
    "    os.mkdir('./promoter_motif_subsets/')"
   ]
  },
  {
   "cell_type": "code",
   "execution_count": 16,
   "id": "lonely-monaco",
   "metadata": {},
   "outputs": [
    {
     "name": "stdout",
     "output_type": "stream",
     "text": [
      "Process is interrupted.\n"
     ]
    }
   ],
   "source": [
    "%%bash\n",
    "\n",
    "for i in ./gene_list_subsets/*.txt;\n",
    "do out=${i/gene_list_subsets/promoter_motif_subsets};\n",
    "out=${out/.txt/_motifs};\n",
    "findMotifs.pl $i mouse $out -p 8; done"
   ]
  },
  {
   "cell_type": "markdown",
   "id": "maritime-reset",
   "metadata": {},
   "source": [
    "## Trans"
   ]
  },
  {
   "cell_type": "code",
   "execution_count": 20,
   "id": "known-briefs",
   "metadata": {
    "scrolled": true
   },
   "outputs": [
    {
     "data": {
      "text/plain": [
       "Index(['baseMean', 'log2FoldChange', 'lfcSE', 'stat', 'pvalue', 'padj',\n",
       "       'contrast', 'baseMean_f1', 'log2FoldChange_f1', 'lfcSE_f1', 'stat_f1',\n",
       "       'pvalue_f1', 'padj_f1', 'contrast_f1', 'baseMean_nsg',\n",
       "       'log2FoldChange_nsg', 'lfcSE_nsg', 'stat_nsg', 'pvalue_nsg', 'padj_nsg',\n",
       "       'contrast_nsg'],\n",
       "      dtype='object')"
      ]
     },
     "execution_count": 20,
     "metadata": {},
     "output_type": "execute_result"
    }
   ],
   "source": [
    "df.columns"
   ]
  },
  {
   "cell_type": "code",
   "execution_count": 21,
   "id": "informal-cleaner",
   "metadata": {},
   "outputs": [],
   "source": [
    "log2fc_cols = ['log2FoldChange',\n",
    "             'log2FoldChange_nsg',\n",
    "             'log2FoldChange_f1']"
   ]
  },
  {
   "cell_type": "code",
   "execution_count": 22,
   "id": "charged-portal",
   "metadata": {},
   "outputs": [
    {
     "name": "stdout",
     "output_type": "stream",
     "text": [
      "44\n",
      "15\n",
      "3\n"
     ]
    },
    {
     "data": {
      "image/png": "[encoded data removed]",
      "text/plain": [
       "<Figure size 72x252 with 3 Axes>"
      ]
     },
     "metadata": {},
     "output_type": "display_data"
    }
   ],
   "source": [
    "key = 'cb6f1_kupffer_trans_c57_filt_pval'\n",
    "shared_set = df.reindex(set(nsg_dict[key]).intersection(f1_dict[key])).dropna().index.tolist()\n",
    "f1_only = df.reindex(set(f1_dict[key]).difference(nsg_dict[key])).dropna().index.tolist()\n",
    "nsg_only = df.reindex(set(nsg_dict[key]).difference(f1_dict[key])).dropna().index.tolist()\n",
    "\n",
    "sets = [shared_set, f1_only, nsg_only]\n",
    "set_lengths = [len(i) for i in sets]\n",
    "\n",
    "f, axs = plt.subplots(3, 1, figsize=(1,3.5), gridspec_kw={'height_ratios': set_lengths})\n",
    "plt.subplots_adjust(hspace=0.025)\n",
    "for geneset, ax in zip(sets, axs):\n",
    "    print(len(geneset))\n",
    "    sns.heatmap(df.loc[geneset, log2fc_cols].sort_values('log2FoldChange', ascending=False),\n",
    "                cmap='Greens',\n",
    "                # linewidth=1,\n",
    "                # linecolor='k',\n",
    "                # z_score=2,\n",
    "                vmin=0,\n",
    "                vmax=2,\n",
    "                # annot=True,\n",
    "                fmt='.1f',\n",
    "                xticklabels=0,\n",
    "                yticklabels=0,\n",
    "                cbar=False,\n",
    "                cbar_kws={'orientation':'vertical',\n",
    "                          'pad':0.05,\n",
    "                          'label':'-log2fc'},\n",
    "                ax=ax)\n",
    "\n",
    "plt.savefig('./figures/'+key+'_heatmap_custom_order.pdf',\n",
    "            bbox_inches='tight')"
   ]
  },
  {
   "cell_type": "code",
   "execution_count": 23,
   "id": "alternate-prayer",
   "metadata": {},
   "outputs": [
    {
     "name": "stdout",
     "output_type": "stream",
     "text": [
      "35\n",
      "23\n",
      "5\n"
     ]
    },
    {
     "data": {
      "image/png": "[encoded data removed]",
      "text/plain": [
       "<Figure size 72x252 with 3 Axes>"
      ]
     },
     "metadata": {},
     "output_type": "display_data"
    }
   ],
   "source": [
    "key = 'cb6f1_kupffer_trans_balb_filt_pval'\n",
    "shared_set = df.reindex(set(nsg_dict[key]).intersection(f1_dict[key])).dropna().index.tolist()\n",
    "f1_only = df.reindex(set(f1_dict[key]).difference(nsg_dict[key])).dropna().index.tolist()\n",
    "nsg_only = df.reindex(set(nsg_dict[key]).difference(f1_dict[key])).dropna().index.tolist()\n",
    "\n",
    "sets = [shared_set, f1_only, nsg_only]\n",
    "set_lengths = [len(i) for i in sets]\n",
    "\n",
    "f, axs = plt.subplots(3, 1, figsize=(1,3.5), gridspec_kw={'height_ratios': set_lengths})\n",
    "plt.subplots_adjust(hspace=0.025)\n",
    "for geneset, ax in zip(sets, axs):\n",
    "    print(len(geneset))\n",
    "    sns.heatmap(-df.loc[geneset, log2fc_cols].sort_values('log2FoldChange', ascending=True),\n",
    "                cmap='Blues',\n",
    "                # linewidth=1,\n",
    "                # linecolor='k',\n",
    "                # z_score=2,\n",
    "                vmin=0,\n",
    "                vmax=2,\n",
    "                # annot=True,\n",
    "                fmt='.1f',\n",
    "                xticklabels=0,\n",
    "                yticklabels=0,\n",
    "                cbar=False,\n",
    "                cbar_kws={'orientation':'horizontal',\n",
    "                          'pad':0.05,\n",
    "                          'label':'-log2fc'},\n",
    "                ax=ax)\n",
    "\n",
    "plt.savefig('./figures/'+key+'_heatmap_custom_order.pdf',\n",
    "            bbox_inches='tight')"
   ]
  },
  {
   "cell_type": "markdown",
   "id": "aging-saskatchewan",
   "metadata": {},
   "source": [
    "# Mixed"
   ]
  },
  {
   "cell_type": "code",
   "execution_count": 62,
   "id": "operational-first",
   "metadata": {},
   "outputs": [
    {
     "name": "stdout",
     "output_type": "stream",
     "text": [
      "2\n",
      "30\n",
      "6\n"
     ]
    },
    {
     "data": {
      "image/png": "[encoded data removed]",
      "text/plain": [
       "<Figure size 72x252 with 3 Axes>"
      ]
     },
     "metadata": {},
     "output_type": "display_data"
    }
   ],
   "source": [
    "key = 'cb6f1_kupffer_mixed_c57_filt_pval'\n",
    "shared_set = df.reindex(set(nsg_dict[key]).intersection(f1_dict[key])).dropna().index.tolist()\n",
    "f1_only = df.reindex(set(f1_dict[key]).difference(nsg_dict[key])).dropna().index.tolist()\n",
    "nsg_only = df.reindex(set(nsg_dict[key]).difference(f1_dict[key])).dropna().index.tolist()\n",
    "\n",
    "sets = [shared_set, f1_only, nsg_only]\n",
    "set_lengths = [len(i) for i in sets]\n",
    "\n",
    "f, axs = plt.subplots(3, 1, figsize=(1,3.5), gridspec_kw={'height_ratios': set_lengths})\n",
    "plt.subplots_adjust(hspace=0.025)\n",
    "for geneset, ax in zip(sets, axs):\n",
    "    print(len(geneset))\n",
    "    sns.heatmap(df.loc[geneset, log2fc_cols].sort_values('log2FoldChange', ascending=False),\n",
    "                cmap='Greens',\n",
    "                # linewidth=1,\n",
    "                # linecolor='k',\n",
    "                # z_score=2,\n",
    "                vmin=0,\n",
    "                vmax=2,\n",
    "                # annot=True,\n",
    "                fmt='.1f',\n",
    "                xticklabels=0,\n",
    "                yticklabels=0,\n",
    "                cbar=False,\n",
    "                cbar_kws={'orientation':'vertical',\n",
    "                          'pad':0.05,\n",
    "                          'label':'-log2fc'},\n",
    "                ax=ax)\n",
    "    \n",
    "\n",
    "plt.savefig('./figures/'+key+'_heatmap_custom_order.pdf',\n",
    "            bbox_inches='tight')"
   ]
  },
  {
   "cell_type": "code",
   "execution_count": 63,
   "id": "fifth-sailing",
   "metadata": {},
   "outputs": [
    {
     "name": "stdout",
     "output_type": "stream",
     "text": [
      "3\n",
      "48\n",
      "9\n"
     ]
    },
    {
     "data": {
      "image/png": "[encoded data removed]",
      "text/plain": [
       "<Figure size 72x252 with 3 Axes>"
      ]
     },
     "metadata": {},
     "output_type": "display_data"
    }
   ],
   "source": [
    "key = 'cb6f1_kupffer_mixed_balb_filt_pval'\n",
    "shared_set = df.reindex(set(nsg_dict[key]).intersection(f1_dict[key])).dropna().index.tolist()\n",
    "f1_only = df.reindex(set(f1_dict[key]).difference(nsg_dict[key])).dropna().index.tolist()\n",
    "nsg_only = df.reindex(set(nsg_dict[key]).difference(f1_dict[key])).dropna().index.tolist()\n",
    "\n",
    "sets = [shared_set, f1_only, nsg_only]\n",
    "set_lengths = [len(i) for i in sets]\n",
    "\n",
    "f, axs = plt.subplots(3, 1, figsize=(1,3.5), gridspec_kw={'height_ratios': set_lengths})\n",
    "plt.subplots_adjust(hspace=0.025)\n",
    "for geneset, ax in zip(sets, axs):\n",
    "    print(len(geneset))\n",
    "    sns.heatmap(-df.loc[geneset, log2fc_cols].sort_values('log2FoldChange', ascending=True),\n",
    "                cmap='Blues',\n",
    "                # linewidth=1,\n",
    "                # linecolor='k',\n",
    "                # z_score=2,\n",
    "                vmin=0,\n",
    "                vmax=2,\n",
    "                # annot=True,\n",
    "                fmt='.1f',\n",
    "                xticklabels=0,\n",
    "                yticklabels=0,\n",
    "                cbar=False,\n",
    "                cbar_kws={'orientation':'horizontal',\n",
    "                          'pad':0.05,\n",
    "                          'label':'-log2fc'},\n",
    "                ax=ax)\n",
    "    \n",
    "\n",
    "plt.savefig('./figures/'+key+'_heatmap_custom_order.pdf',\n",
    "            bbox_inches='tight')"
   ]
  },
  {
   "cell_type": "code",
   "execution_count": 64,
   "id": "radical-laser",
   "metadata": {},
   "outputs": [
    {
     "name": "stdout",
     "output_type": "stream",
     "text": [
      "36\n",
      "3\n",
      "14\n"
     ]
    },
    {
     "data": {
      "image/png": "[encoded data removed]",
      "text/plain": [
       "<Figure size 72x252 with 3 Axes>"
      ]
     },
     "metadata": {},
     "output_type": "display_data"
    }
   ],
   "source": [
    "key = 'cb6f1_kupffer_cis_c57_filt_pval'\n",
    "shared_set = df.reindex(set(nsg_dict[key]).intersection(f1_dict[key])).dropna().index.tolist()\n",
    "f1_only = df.reindex(set(f1_dict[key]).difference(nsg_dict[key])).dropna().index.tolist()\n",
    "nsg_only = df.reindex(set(nsg_dict[key]).difference(f1_dict[key])).dropna().index.tolist()\n",
    "\n",
    "sets = [shared_set, f1_only, nsg_only]\n",
    "set_lengths = [len(i) for i in sets]\n",
    "\n",
    "f, axs = plt.subplots(3, 1, figsize=(1,3.5), gridspec_kw={'height_ratios': set_lengths})\n",
    "plt.subplots_adjust(hspace=0.025)\n",
    "for geneset, ax in zip(sets, axs):\n",
    "    print(len(geneset))\n",
    "    sns.heatmap(df.loc[geneset, log2fc_cols].sort_values('log2FoldChange', ascending=False),\n",
    "                cmap='Greens',\n",
    "                # linewidth=1,\n",
    "                # linecolor='k',\n",
    "                # z_score=2,\n",
    "                vmin=0,\n",
    "                vmax=2,\n",
    "                # annot=True,\n",
    "                fmt='.1f',\n",
    "                xticklabels=0,\n",
    "                yticklabels=0,\n",
    "                cbar=False,\n",
    "                cbar_kws={'orientation':'vertical',\n",
    "                          'pad':0.05,\n",
    "                          'label':'-log2fc'},\n",
    "                ax=ax)\n",
    "\n",
    "\n",
    "plt.savefig('./figures/'+key+'_heatmap_custom_order.pdf',\n",
    "            bbox_inches='tight')"
   ]
  },
  {
   "cell_type": "code",
   "execution_count": 65,
   "id": "covered-uzbekistan",
   "metadata": {},
   "outputs": [
    {
     "name": "stdout",
     "output_type": "stream",
     "text": [
      "27\n",
      "5\n",
      "23\n"
     ]
    },
    {
     "data": {
      "image/png": "[encoded data removed]",
      "text/plain": [
       "<Figure size 72x252 with 3 Axes>"
      ]
     },
     "metadata": {},
     "output_type": "display_data"
    }
   ],
   "source": [
    "key = 'cb6f1_kupffer_cis_balb_filt_pval'\n",
    "shared_set = df.reindex(set(nsg_dict[key]).intersection(f1_dict[key])).dropna().index.tolist()\n",
    "f1_only = df.reindex(set(f1_dict[key]).difference(nsg_dict[key])).dropna().index.tolist()\n",
    "nsg_only = df.reindex(set(nsg_dict[key]).difference(f1_dict[key])).dropna().index.tolist()\n",
    "\n",
    "sets = [shared_set, f1_only, nsg_only]\n",
    "set_lengths = [len(i) for i in sets]\n",
    "\n",
    "f, axs = plt.subplots(3, 1, figsize=(1,3.5), gridspec_kw={'height_ratios': set_lengths})\n",
    "plt.subplots_adjust(hspace=0.025)\n",
    "for geneset, ax in zip(sets, axs):\n",
    "    print(len(geneset))\n",
    "    sns.heatmap(-df.loc[geneset, log2fc_cols].sort_values('log2FoldChange', ascending=True),\n",
    "                cmap='Blues',\n",
    "                # linewidth=1,\n",
    "                # linecolor='k',\n",
    "                # z_score=2,\n",
    "                vmin=0,\n",
    "                vmax=2,\n",
    "                # annot=True,\n",
    "                fmt='.1f',\n",
    "                xticklabels=0,\n",
    "                yticklabels=0,\n",
    "                cbar=False,\n",
    "                cbar_kws={'orientation':'horizontal',\n",
    "                          'pad':0.05,\n",
    "                          'label':'-log2fc'},\n",
    "                ax=ax)\n",
    "    \n",
    "\n",
    "plt.savefig('./figures/'+key+'_heatmap_custom_order.pdf',\n",
    "            bbox_inches='tight')"
   ]
  },
  {
   "cell_type": "markdown",
   "id": "isolated-assembly",
   "metadata": {},
   "source": [
    "# Make colorbars"
   ]
  },
  {
   "cell_type": "code",
   "execution_count": 66,
   "id": "pharmaceutical-college",
   "metadata": {},
   "outputs": [
    {
     "data": {
      "image/png": "[encoded data removed]",
      "text/plain": [
       "<Figure size 144x72 with 2 Axes>"
      ]
     },
     "metadata": {
      "needs_background": "light"
     },
     "output_type": "display_data"
    }
   ],
   "source": [
    "fig, ax = plt.subplots(figsize=(2,1))\n",
    "\n",
    "cmap = matplotlib.cm.Greens\n",
    "norm = matplotlib.colors.Normalize(vmin=0, vmax=2)\n",
    "plt.gca().set_visible(False)\n",
    "cb = fig.colorbar(matplotlib.cm.ScalarMappable(norm=norm,  cmap=cmap),\n",
    "                  use_gridspec=True,\n",
    "                  orientation='horizontal',\n",
    "                  label='log2FC\\n(C57BL/6J/BALB/cJ)',\n",
    "                  aspect=8)\n",
    "plt.savefig('./figures/c57bl6j_colorbar.pdf',\n",
    "            bbox_inches='tight')"
   ]
  },
  {
   "cell_type": "code",
   "execution_count": 67,
   "id": "ecological-exercise",
   "metadata": {},
   "outputs": [
    {
     "data": {
      "image/png": "[encoded data removed]",
      "text/plain": [
       "<Figure size 144x72 with 2 Axes>"
      ]
     },
     "metadata": {
      "needs_background": "light"
     },
     "output_type": "display_data"
    }
   ],
   "source": [
    "fig, ax = plt.subplots(figsize=(2,1))\n",
    "\n",
    "cmap = matplotlib.cm.Blues\n",
    "norm = matplotlib.colors.Normalize(vmin=0, vmax=2)\n",
    "plt.gca().set_visible(False)\n",
    "cb = fig.colorbar(matplotlib.cm.ScalarMappable(norm=norm,  cmap=cmap),\n",
    "                  use_gridspec=True,\n",
    "                  orientation='horizontal',\n",
    "                  label='log2FC\\n(BALB/cJ/C57BL/6J)',\n",
    "                  aspect=8)\n",
    "plt.savefig('./figures/balbcj_colorbar.pdf',\n",
    "            bbox_inches='tight')"
   ]
  },
  {
   "cell_type": "markdown",
   "id": "creative-composition",
   "metadata": {},
   "source": []
  }
 ],
 "metadata": {
  "kernelspec": {
   "display_name": "dataviz",
   "language": "python",
   "name": "dataviz"
  },
  "language_info": {
   "codemirror_mode": {
    "name": "ipython",
    "version": 3
   },
   "file_extension": ".py",
   "mimetype": "text/x-python",
   "name": "python",
   "nbconvert_exporter": "python",
   "pygments_lexer": "ipython3",
   "version": "3.7.5"
  }
 },
 "nbformat": 4,
 "nbformat_minor": 5
}
