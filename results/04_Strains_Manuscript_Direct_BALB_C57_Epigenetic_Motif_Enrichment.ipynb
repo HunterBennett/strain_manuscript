{
 "cells": [
  {
   "cell_type": "markdown",
   "metadata": {},
   "source": [
    "Hunter Bennett | Glass Lab | Kupffer Strains Project | April 27 2021  \n",
    "\n",
    "This series of notebooks is for manuscript preparation of \"final\" figures for import into Adobe Illustrator.\n",
    "\n",
    "This notebook in particular prepares the ATAC and H3K27Ac scatter plots as one large figure."
   ]
  },
  {
   "cell_type": "code",
   "execution_count": 1,
   "metadata": {},
   "outputs": [],
   "source": [
    "### header ###\n",
    "__author__ = \"Hunter Bennett\"\n",
    "__license__ = \"BSD\"\n",
    "__email__ = \"hunter.r.bennett@gmail.com\"\n",
    "%load_ext autoreload\n",
    "%autoreload 2\n",
    "### imports ###\n",
    "import sys\n",
    "%matplotlib inline\n",
    "import os\n",
    "import re\n",
    "import glob\n",
    "import pandas as pd\n",
    "import numpy as np\n",
    "import matplotlib\n",
    "import matplotlib.pyplot as plt \n",
    "import seaborn as sns\n",
    "\n",
    "# import custom functions\n",
    "import sys\n",
    "sys.path.insert(0, '/home/h1bennet/code/')\n",
    "from hbUtils import ngs_qc, quantile_normalize_df\n",
    "from plotting_scripts import label_point, pca_rpkm_mat, get_diff_volcano\n",
    "from homer_preprocessing import read_annotated_peaks, import_homer_diffpeak, pull_comparisons_get_diff"
   ]
  },
  {
   "cell_type": "code",
   "execution_count": 2,
   "metadata": {},
   "outputs": [],
   "source": [
    "#### PLOTTING PARAMETERS FOR MANUSCRIPT ####\n",
    "# # get matplotlib to save readable fonts\n",
    "matplotlib.rcParams['pdf.fonttype'] = 42\n",
    "matplotlib.rcParams['ps.fonttype'] = 42\n",
    "matplotlib.rcParams['font.size'] = 6\n",
    "matplotlib.rcParams['savefig.dpi'] = 500\n",
    "\n",
    "# line widths\n",
    "matplotlib.rcParams['axes.linewidth'] = 1\n",
    "matplotlib.rcParams['xtick.major.width'] = 1\n",
    "matplotlib.rcParams['ytick.major.width'] = 1\n",
    "\n",
    "# adjust defualt color for plots to black\n",
    "# normal default is a dark gray\n",
    "COLOR = 'black'\n",
    "matplotlib.rcParams['text.color'] = COLOR\n",
    "matplotlib.rcParams['axes.labelcolor'] = COLOR\n",
    "matplotlib.rcParams['xtick.color'] = COLOR\n",
    "matplotlib.rcParams['ytick.color'] = COLOR\n",
    "matplotlib.rcParams['axes.edgecolor'] = COLOR\n",
    "\n",
    "#### PLOT PARAMETERS FOR THIS PLOT ####"
   ]
  },
  {
   "cell_type": "code",
   "execution_count": 3,
   "metadata": {},
   "outputs": [],
   "source": [
    "atacDirectory = '/home/h1bennet/strains/results/06_Strains_Control_Cohort2_ATAC/'\n",
    "h3k27acDirectory = '/home/h1bennet/strains/results/06b_Strains_Control_Combined_H3K27Ac/'\n",
    "workingDirectory = '/home/h1bennet/strains_manuscript/results/04_Strains_Manuscript_Direct_BALB_C57_Epigenetic_Comparison/'\n",
    "if not os.path.isdir(workingDirectory):\n",
    "    os.mkdir(workingDirectory)\n",
    "os.chdir(workingDirectory)"
   ]
  },
  {
   "cell_type": "markdown",
   "metadata": {},
   "source": [
    "# Make folder for these figures"
   ]
  },
  {
   "cell_type": "code",
   "execution_count": 7,
   "metadata": {},
   "outputs": [],
   "source": [
    "if not os.path.isdir('./c57bl6j_balbcj_pairwise_epigenetics/'):\n",
    "    os.mkdir('./c57bl6j_balbcj_pairwise_epigenetics/')"
   ]
  },
  {
   "cell_type": "markdown",
   "metadata": {},
   "source": [
    "# Import Motif data"
   ]
  },
  {
   "cell_type": "markdown",
   "metadata": {},
   "source": [
    "### H3K27Ac"
   ]
  },
  {
   "cell_type": "code",
   "execution_count": 10,
   "metadata": {},
   "outputs": [],
   "source": [
    "known_motif_pval_dict = {}\n",
    "for f in np.sort(glob.glob(h3k27acDirectory+'/motif_calling/*/knownResults.txt')):\n",
    "    # read in signifance values using pandas\n",
    "    frame = pd.read_csv(f, sep='\\t', index_col=0)\n",
    "    \n",
    "    # remove duplicates\n",
    "    frame = frame[~frame.index.duplicated(keep='first')]\n",
    "    pval = frame.iloc[:, 2]\n",
    "    \n",
    "    # extract name of sample\n",
    "    sample = f.split('/')[-2]\n",
    "    \n",
    "    # store in dict\n",
    "    known_motif_pval_dict[sample] = pval    \n",
    "    \n",
    "# create data frame\n",
    "known_motif_pval_frame_h3k27ac = pd.DataFrame(known_motif_pval_dict)\n",
    "\n",
    "# sort by average p value\n",
    "known_motif_pval_frame_h3k27ac = known_motif_pval_frame_h3k27ac.reindex(known_motif_pval_frame_h3k27ac.mean(axis=1).sort_values().index.tolist())\n",
    "\n",
    "known_motif_pval_frame_h3k27ac.to_csv(h3k27acDirectory+'/homer_known_motifs_differential_log.txt', sep='\\t')"
   ]
  },
  {
   "cell_type": "markdown",
   "metadata": {},
   "source": [
    "### ATAC"
   ]
  },
  {
   "cell_type": "code",
   "execution_count": 14,
   "metadata": {},
   "outputs": [],
   "source": [
    "known_motif_pval_dict = {}\n",
    "for f in np.sort(glob.glob(atacDirectory+'/motif_calling/*/knownResults.txt')):\n",
    "    # read in signifance values using pandas\n",
    "    frame = pd.read_csv(f, sep='\\t', index_col=0)\n",
    "    \n",
    "    # remove duplicates\n",
    "    frame = frame[~frame.index.duplicated(keep='first')]\n",
    "    pval = frame.iloc[:, 2]\n",
    "    \n",
    "    # extract name of sample\n",
    "    sample = f.split('/')[-2]\n",
    "    \n",
    "    # store in dict\n",
    "    known_motif_pval_dict[sample] = pval    \n",
    "    \n",
    "# create data frame\n",
    "known_motif_pval_frame_atac = pd.DataFrame(known_motif_pval_dict)\n",
    "\n",
    "# sort by average p value\n",
    "known_motif_pval_frame_atac = known_motif_pval_frame_atac.reindex(known_motif_pval_frame_atac.mean(axis=1).sort_values().index.tolist())\n",
    "\n",
    "known_motif_pval_frame_atac.to_csv(atacDirectory+'/homer_known_motifs_differential_log.txt', sep='\\t')\n"
   ]
  },
  {
   "cell_type": "markdown",
   "metadata": {},
   "source": [
    "### Combine"
   ]
  },
  {
   "cell_type": "code",
   "execution_count": 19,
   "metadata": {},
   "outputs": [],
   "source": [
    "known_motif_pval_frame = known_motif_pval_frame_atac.merge(\n",
    "    known_motif_pval_frame_h3k27ac,\n",
    "    left_index=True,\n",
    "    right_index=True,\n",
    "    suffixes=('_atac', '_h3k27ac'))"
   ]
  },
  {
   "cell_type": "markdown",
   "metadata": {},
   "source": [
    "Filter for aj only."
   ]
  },
  {
   "cell_type": "code",
   "execution_count": 21,
   "metadata": {},
   "outputs": [],
   "source": [
    "df = known_motif_pval_frame.loc[:, known_motif_pval_frame.columns.str.contains('balbcj_vs_c57bl6j')]\n",
    "df = df.loc[:, ~df.columns.str.contains('distal')]\n",
    "df = df.loc[:, ~df.columns.str.contains('nobg_nodenovo')]"
   ]
  },
  {
   "cell_type": "code",
   "execution_count": 23,
   "metadata": {},
   "outputs": [],
   "source": [
    "motifs = []\n",
    "top_n = 5\n",
    "for col in df.columns:\n",
    "    motifs.extend(df.sort_values(col, ascending=True).index.tolist()[:top_n])\n",
    "    "
   ]
  },
  {
   "cell_type": "code",
   "execution_count": 34,
   "metadata": {},
   "outputs": [
    {
     "name": "stderr",
     "output_type": "stream",
     "text": [
      "/gpfs/data01/glasslab/home/h1bennet/.conda/envs/dataviz/lib/python3.7/site-packages/ipykernel_launcher.py:10: ClusterWarning: scipy.cluster: The symmetric non-negative hollow observation matrix looks suspiciously like an uncondensed distance matrix\n",
      "  # Remove the CWD from sys.path while we load stuff.\n"
     ]
    },
    {
     "data": {
      "image/png": "[encoded data removed]",
      "text/plain": [
       "<Figure size 432x288 with 1 Axes>"
      ]
     },
     "metadata": {
      "needs_background": "light"
     },
     "output_type": "display_data"
    }
   ],
   "source": [
    "# cluster targets\n",
    "import scipy\n",
    "import scipy.cluster.hierarchy as sch\n",
    "import scipy.spatial.distance as dist\n",
    "\n",
    "tmp_df = -df.loc[motifs]\n",
    "tmp_df.index = tmp_df.index.str.split('/').str[0]\n",
    "d2 = dist.pdist(tmp_df)\n",
    "D2 = dist.squareform(d2)\n",
    "Y2 = sch.linkage(D2, method='average', metric='euclidean') ### array-clustering metric - 'average', 'single', 'centroid', 'complete'\n",
    "Z2 = sch.dendrogram(Y2, no_plot=True)"
   ]
  },
  {
   "cell_type": "code",
   "execution_count": 45,
   "metadata": {},
   "outputs": [
    {
     "name": "stderr",
     "output_type": "stream",
     "text": [
      "/gpfs/data01/glasslab/home/h1bennet/.conda/envs/dataviz/lib/python3.7/site-packages/ipykernel_launcher.py:7: ClusterWarning: scipy.cluster: The symmetric non-negative hollow observation matrix looks suspiciously like an uncondensed distance matrix\n",
      "  import sys\n"
     ]
    },
    {
     "data": {
      "image/png": "[encoded data removed]",
      "text/plain": [
       "<Figure size 144x144 with 2 Axes>"
      ]
     },
     "metadata": {
      "needs_background": "light"
     },
     "output_type": "display_data"
    }
   ],
   "source": [
    "fig, ax = plt.subplots(figsize=(2,2))\n",
    "\n",
    "tmp_df = -df.loc[motifs, :].iloc[:, [0,2,1,3]]\n",
    "tmp_df.index = tmp_df.index.str.split('/').str[0]\n",
    "d2 = dist.pdist(tmp_df)\n",
    "D2 = dist.squareform(d2)\n",
    "Y2 = sch.linkage(D2, method='average', metric='euclidean') ### array-clustering metric - 'average', 'single', 'centroid', 'complete'\n",
    "Z2 = sch.dendrogram(Y2, no_plot=True)\n",
    "\n",
    "\n",
    "sns.heatmap(tmp_df.iloc[Z2['leaves'], :],\n",
    "            cmap='Reds',\n",
    "            linewidth=1,\n",
    "            linecolor='k',\n",
    "            vmax=25,\n",
    "            # annot=True,\n",
    "            fmt='.1f',\n",
    "            xticklabels=1,\n",
    "            yticklabels=1,\n",
    "            cbar_kws={'orientation':'vertical',\n",
    "                      'pad':0.05,\n",
    "                      'label':'-log(p-value)'})\n",
    "\n",
    "plt.savefig('./c57bl6j_balbcj_pairwise_epigenetics/motif_enrichment_all_peaks_top5.pdf', bbox_inches='tight')\n"
   ]
  },
  {
   "cell_type": "code",
   "execution_count": 46,
   "metadata": {},
   "outputs": [
    {
     "data": {
      "text/plain": [
       "array([False, False, False, False, False, False, False, False, False,\n",
       "       False, False, False, False, False, False,  True,  True, False,\n",
       "        True, False])"
      ]
     },
     "execution_count": 46,
     "metadata": {},
     "output_type": "execute_result"
    }
   ],
   "source": [
    "~tmp_df.index.duplicated()"
   ]
  },
  {
   "cell_type": "code",
   "execution_count": 47,
   "metadata": {},
   "outputs": [
    {
     "name": "stderr",
     "output_type": "stream",
     "text": [
      "/gpfs/data01/glasslab/home/h1bennet/.conda/envs/dataviz/lib/python3.7/site-packages/ipykernel_launcher.py:8: ClusterWarning: scipy.cluster: The symmetric non-negative hollow observation matrix looks suspiciously like an uncondensed distance matrix\n",
      "  \n"
     ]
    },
    {
     "data": {
      "image/png": "[encoded data removed]",
      "text/plain": [
       "<Figure size 144x144 with 2 Axes>"
      ]
     },
     "metadata": {
      "needs_background": "light"
     },
     "output_type": "display_data"
    }
   ],
   "source": [
    "fig, ax = plt.subplots(figsize=(2,2))\n",
    "\n",
    "tmp_df = -df.loc[motifs, :].iloc[:, [0,2,1,3]]\n",
    "tmp_df.index = tmp_df.index.str.split('/').str[0]\n",
    "tmp_df = tmp_df.loc[~tmp_df.index.duplicated(), :]\n",
    "d2 = dist.pdist(tmp_df)\n",
    "D2 = dist.squareform(d2)\n",
    "Y2 = sch.linkage(D2, method='average', metric='euclidean') ### array-clustering metric - 'average', 'single', 'centroid', 'complete'\n",
    "Z2 = sch.dendrogram(Y2, no_plot=True)\n",
    "\n",
    "\n",
    "sns.heatmap(tmp_df.iloc[Z2['leaves'], :],\n",
    "            cmap='Reds',\n",
    "            linewidth=1,\n",
    "            linecolor='k',\n",
    "            vmax=25,\n",
    "            # annot=True,\n",
    "            fmt='.1f',\n",
    "            xticklabels=1,\n",
    "            yticklabels=1,\n",
    "            cbar_kws={'orientation':'vertical',\n",
    "                      'pad':0.05,\n",
    "                      'label':'-log(p-value)'})\n",
    "\n",
    "plt.savefig('./c57bl6j_balbcj_pairwise_epigenetics/motif_enrichment_all_peaks_top5_drop_dup.pdf', bbox_inches='tight')\n"
   ]
  },
  {
   "cell_type": "code",
   "execution_count": null,
   "metadata": {},
   "outputs": [],
   "source": []
  }
 ],
 "metadata": {
  "kernelspec": {
   "display_name": "dataviz",
   "language": "python",
   "name": "dataviz"
  },
  "language_info": {
   "codemirror_mode": {
    "name": "ipython",
    "version": 3
   },
   "file_extension": ".py",
   "mimetype": "text/x-python",
   "name": "python",
   "nbconvert_exporter": "python",
   "pygments_lexer": "ipython3",
   "version": "3.7.5"
  }
 },
 "nbformat": 4,
 "nbformat_minor": 2
}
