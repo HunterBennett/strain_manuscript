{
 "cells": [
  {
   "cell_type": "markdown",
   "metadata": {},
   "source": [
    "Hunter Bennett | Kupffer Strains | Glass Lab | 12 May 2021\n",
    "\n",
    "Goal is to make heatmap of selected motif for epigenetic diversity figure in NASH paper."
   ]
  },
  {
   "cell_type": "code",
   "execution_count": 12,
   "metadata": {
    "scrolled": true
   },
   "outputs": [
    {
     "name": "stdout",
     "output_type": "stream",
     "text": [
      "The autoreload extension is already loaded. To reload it, use:\n",
      "  %reload_ext autoreload\n"
     ]
    }
   ],
   "source": [
    "### header ###\n",
    "__author__ = \"Hunter Bennett\"\n",
    "__license__ = \"BSD\"\n",
    "__email__ = \"hunter.r.bennett@gmail.com\"\n",
    "%load_ext autoreload\n",
    "%autoreload 2\n",
    "### imports ###\n",
    "import sys\n",
    "%matplotlib inline\n",
    "import os\n",
    "import re\n",
    "import glob\n",
    "import pandas as pd\n",
    "import numpy as np\n",
    "import matplotlib\n",
    "import matplotlib.pyplot as plt \n",
    "import seaborn as sns\n",
    "# cluster targets\n",
    "import scipy\n",
    "import scipy.cluster.hierarchy as sch\n",
    "import scipy.spatial.distance as dist\n",
    "\n",
    "# import custom functions\n",
    "import sys\n",
    "sys.path.insert(0, '/home/h1bennet/code/')\n",
    "from hbUtils import ngs_qc, quantile_normalize_df\n",
    "from plotting_scripts import label_point, pca_rpkm_mat, get_diff_volcano\n",
    "from homer_preprocessing import read_annotated_peaks, import_homer_diffpeak, pull_comparisons_get_diff, read_homer_gene_exp\n",
    "from gene_expression_plots import survey_strain_amln_gene_exp, survey_strain_ccl4_gene_exp"
   ]
  },
  {
   "cell_type": "code",
   "execution_count": 13,
   "metadata": {},
   "outputs": [],
   "source": [
    "#### PLOTTING PARAMETERS FOR MANUSCRIPT ####\n",
    "# # get matplotlib to save readable fonts\n",
    "matplotlib.rcParams['pdf.fonttype'] = 42\n",
    "matplotlib.rcParams['ps.fonttype'] = 42\n",
    "matplotlib.rcParams['font.size'] = 6\n",
    "matplotlib.rcParams['savefig.dpi'] = 500\n",
    "\n",
    "\n",
    "# line widths\n",
    "matplotlib.rcParams['axes.linewidth'] = 1\n",
    "matplotlib.rcParams['xtick.major.width'] = 1\n",
    "matplotlib.rcParams['ytick.major.width'] = 1\n",
    "\n",
    "# adjust defualt color for plots to black\n",
    "# normal default is a dark gray\n",
    "COLOR = 'black'\n",
    "matplotlib.rcParams['text.color'] = COLOR\n",
    "matplotlib.rcParams['axes.labelcolor'] = COLOR\n",
    "matplotlib.rcParams['xtick.color'] = COLOR\n",
    "matplotlib.rcParams['ytick.color'] = COLOR\n",
    "matplotlib.rcParams['axes.edgecolor'] = COLOR\n",
    "\n",
    "#### PLOT PARAMETERS FOR THIS PLOT ####\n",
    "mm_conv=25.4\n",
    "matplotlib.rcParams['xtick.minor.size']=0\n",
    "matplotlib.rcParams['ytick.minor.size']=0"
   ]
  },
  {
   "cell_type": "markdown",
   "metadata": {},
   "source": [
    "## Define plotting functions"
   ]
  },
  {
   "cell_type": "code",
   "execution_count": 14,
   "metadata": {},
   "outputs": [],
   "source": [
    "def heatmap(data, row_labels, col_labels,\n",
    "            col_rotation=90, col_ha='center',\n",
    "            x_fontsize=12, y_fontsize=12,\n",
    "            ax=None, cbar=True, cbar_kw={}, cbarlabel=\"\",\n",
    "            **kwargs):\n",
    "    \"\"\"\n",
    "    Create a heatmap from a numpy array and two lists of labels.\n",
    "\n",
    "    Parameters\n",
    "    ----------\n",
    "    data\n",
    "        A 2D numpy array of shape (N, M).\n",
    "    row_labels\n",
    "        A list or array of length N with the labels for the rows.\n",
    "    col_labels\n",
    "        A list or array of length M with the labels for the columns.\n",
    "    ax\n",
    "        A `matplotlib.axes.Axes` instance to which the heatmap is plotted.  If\n",
    "        not provided, use current axes or create a new one.  Optional.\n",
    "    cbar_kw\n",
    "        A dictionary with arguments to `matplotlib.Figure.colorbar`.  Optional.\n",
    "    cbarlabel\n",
    "        The label for the colorbar.  Optional.\n",
    "    **kwargs\n",
    "        All other arguments are forwarded to `imshow`.\n",
    "    \"\"\"\n",
    "    \n",
    "    if not ax:\n",
    "            ax = plt.gca()\n",
    "\n",
    "    im = ax.imshow(data, **kwargs)\n",
    "\n",
    "    # Create colorbar\n",
    "    if cbar==True:\n",
    "        cbar = ax.figure.colorbar(im, ax=ax, **cbar_kw)\n",
    "        cbar.ax.set_ylabel(cbarlabel, rotation=-90, va=\"bottom\")\n",
    "\n",
    "    # We want to show all ticks...\n",
    "    ax.set_xticks(np.arange(data.shape[1]))\n",
    "    ax.set_yticks(np.arange(data.shape[0]))\n",
    "    # ... and label them with the respective list entries.\n",
    "    ax.set_xticklabels(col_labels,\n",
    "                       rotation=col_rotation,\n",
    "                       ha=col_ha,\n",
    "                       fontdict={'fontsize':x_fontsize})\n",
    "    ax.set_yticklabels(row_labels,\n",
    "                       fontdict={'fontsize':y_fontsize})\n",
    "\n",
    "    # We want to show all ticks...\n",
    "    ax.set_xticks(np.arange(data.shape[1]+1)-.5, minor=True)\n",
    "    ax.set_yticks(np.arange(data.shape[0]+1)-.5, minor=True)\n",
    "\n",
    "    ax.grid(b=True,\n",
    "            which=\"minor\",\n",
    "            color='k',\n",
    "            linestyle='-',\n",
    "            linewidth=1)\n",
    "    \n",
    "def motif_score_barh(data, groups, group_labels, colors, width=0.5, spacing=0.0, relative=False, ax=None):\n",
    "    '''This function allows for visualization of expression in qPCR style\n",
    "    bar plots for multiple genes contained in an rpkm data file.\n",
    "    \n",
    "        Accepts:\n",
    "            genes (str): list of geneIDs to plot\n",
    "            data (pandas DataFrame): dataset in gene x sample format with geneIDs as index\n",
    "            groups (int): groups of samples in the columns of data\n",
    "            group_labels (str): labels of each group in groups\n",
    "            colors (str) = colors of each group in groups\n",
    "            width (float) = width of bars to plot, default 0.5\n",
    "            spacing (float) = extra spacing between bars to plot, default 0.0\n",
    "            relative (bool) = whether to standardize plot so that first group mean is 1,\n",
    "            ax (matplotlib.Axes object) = plot axis\n",
    "        \n",
    "        Returns:\n",
    "            ax (matplotlib.Axes object) = gene list bar plot'''\n",
    "\n",
    "    import pandas as pd\n",
    "    import matplotlib.pyplot as plt    \n",
    "    import numpy as np\n",
    "    \n",
    "    # flatten scores\n",
    "    scores=[]\n",
    "    for (group, label) in zip(groups, group_labels):\n",
    "            scores.append(data.iloc[:, group])\n",
    "\n",
    "    # set axis\n",
    "    if ax==None:\n",
    "        ax = plt.gca()\n",
    "        \n",
    "    # plot\n",
    "    ind = np.arange(data.shape[0])\n",
    "\n",
    "    i = 0\n",
    "    for score, group, label, color in zip(scores, groups, group_labels, colors):\n",
    "        ax.barh(ind + (width+spacing)*i,\n",
    "               score,\n",
    "               width,\n",
    "               color=color,\n",
    "               # yerr=[np.zeros(len(std)), std],\n",
    "               edgecolor='k',\n",
    "               linewidth=1,\n",
    "               # capsize=20,\n",
    "               # error_kw={'elinewidth':2,\n",
    "               #           'capthick':2,\n",
    "               #           'capsize':5},\n",
    "               label=label)\n",
    "        i+=1\n",
    "\n",
    "    ax.set_yticks(ind + width / 2);\n",
    "    ax.set_yticklabels(data.index);\n",
    "    ax.legend(fontsize=6, loc='lower right');\n",
    "    # ax.set_ylabel(title)\n",
    "    \n",
    "    return ax\n"
   ]
  },
  {
   "cell_type": "code",
   "execution_count": 15,
   "metadata": {},
   "outputs": [],
   "source": [
    "atacDirectory = '/home/h1bennet/strains/results/06_Strains_Control_Cohort2_ATAC/'\n",
    "h3k27acDirectory = '/home/h1bennet/strains/results/06b_Strains_Control_Combined_H3K27Ac/'\n",
    "rnaDirectory = '/home/ttroutman/strainsKupffer/rnaKupfferHealthyYoung_20210111/'\n",
    "workingDirectory = '/home/h1bennet/strains_manuscript/results/04_Strains_Manuscript_Prep_Figure04_NicheNet/'\n",
    "if not os.path.isdir(workingDirectory):\n",
    "    os.mkdir(workingDirectory)\n",
    "os.chdir(workingDirectory)"
   ]
  },
  {
   "cell_type": "code",
   "execution_count": 16,
   "metadata": {},
   "outputs": [],
   "source": [
    "tfs = ['Cdx2',\n",
    "       'Creb1', 'Creb3', 'Creb3l1', 'Creb3l2', 'Creb3l3', 'Creb3l4',\n",
    "       'Creb5', 'Crebl2', 'Crebzf',\n",
    "       'Fos', 'Fosb', 'Fosl1', 'Fosl2', 'Jun', 'Junb', 'Jund',\n",
    "       'Hnf1a',\n",
    "       'Hnf4a',\n",
    "       'Myc', 'Mycl', 'Mycn', 'Mycs',\n",
    "       'Nfkb1','Nfkb2','Rel','Rela', 'Relb', \n",
    "       'Notch1', 'Notch2', 'Notch3', 'Notch4',\n",
    "       'Nr1h3', 'Ppara', 'Ppard', 'Pparg', 'Rora', 'Vdr',\n",
    "       'Srebf1', 'Srebf2',\n",
    "       'Runx1', 'Runx2', 'Runx3',\n",
    "       'Sp1',\n",
    "       'Spi1',\n",
    "#        'Smad1', 'Smad2', 'Smad3', 'Smad4', 'Smad5', 'Smad6', 'Smad7', 'Smad9',\n",
    "\n",
    "#        'Stat1', 'Stat2', 'Stat3', 'Stat4', 'Stat5a', 'Stat5b', 'Stat6'\n",
    "      ]"
   ]
  },
  {
   "cell_type": "code",
   "execution_count": 17,
   "metadata": {},
   "outputs": [],
   "source": [
    "motif_list = [\n",
    "    # cdx\n",
    "    # 'Cdx2(Homeobox)/mES-Cdx2-ChIP-Seq(GSE14586)/Homer',\n",
    "    # cre reponse binding element\n",
    "    'CRE(bZIP)/Promoter/Homer',\n",
    "    #AP-1 family\n",
    "    'Fosl2(bZIP)/3T3L1-Fosl2-ChIP-Seq(GSE56872)/Homer',\n",
    "    'Jun-AP1(bZIP)/K562-cJun-ChIP-Seq(GSE31477)/Homer',\n",
    "    'c-Jun-CRE(bZIP)/K562-cJun-ChIP-Seq(GSE31477)/Homer',\n",
    "    'JunB(bZIP)/DendriticCells-Junb-ChIP-Seq(GSE36099)/Homer',\n",
    "    'JunD(bZIP)/K562-JunD-ChIP-Seq/Homer',\n",
    "    # HNFs\n",
    "    'Hnf1(Homeobox)/Liver-Foxa2-Chip-Seq(GSE25694)/Homer',\n",
    "    'HNF4a(NR),DR1/HepG2-HNF4a-ChIP-Seq(GSE25021)/Homer',\n",
    "    # Myc\n",
    "    # 'c-Myc(bHLH)/LNCAP-cMyc-ChIP-Seq(Unpublished)/Homer',\n",
    "    'c-Myc(bHLH)/mES-cMyc-ChIP-Seq(GSE11431)/Homer',\n",
    "    # Nfkb\n",
    "    'NFkB-p65(RHD)/GM12787-p65-ChIP-Seq(GSE19485)/Homer',\n",
    "    # 'NFkB-p65-Rel(RHD)/ThioMac-LPS-Expression(GSE23622)/Homer',\n",
    "    'NFkB-p50,p52(RHD)/Monocyte-p50-ChIP-Chip(Schreiber_et_al.)/Homer',\n",
    "    # RBPJ\n",
    "    'Rbpj1(?)/Panc1-Rbpj1-ChIP-Seq(GSE47459)/Homer',\n",
    "    # Nuclear Receptors\n",
    "    'LXRE(NR),DR4/RAW-LXRb.biotin-ChIP-Seq(GSE21512)/Homer',\n",
    "    'PPARa(NR),DR1/Liver-Ppara-ChIP-Seq(GSE47954)/Homer',\n",
    "    'RORa(NR)/Liver-Rora-ChIP-Seq(GSE101115)/Homer',\n",
    "    'VDR(NR),DR3/GM10855-VDR+vitD-ChIP-Seq(GSE22484)/Homer',\n",
    "    # SREBP\n",
    "    'Srebp1a(bHLH)/HepG2-Srebp1a-ChIP-Seq(GSE31477)/Homer',\n",
    "    'Srebp2(bHLH)/HepG2-Srebp2-ChIP-Seq(GSE31477)/Homer',\n",
    "    # RUNX\n",
    "    'RUNX(Runt)/HPC7-Runx1-ChIP-Seq(GSE22178)/Homer',\n",
    "    'RUNX1(Runt)/Jurkat-RUNX1-ChIP-Seq(GSE29180)/Homer',\n",
    "    #SP1\n",
    "    'Sp1(Zf)/Promoter/Homer',\n",
    "    # PU1\n",
    "    'PU.1(ETS)/ThioMac-PU.1-ChIP-Seq(GSE21512)/Homer',\n",
    "#     # SMAD\n",
    "#     'Smad2(MAD)/ES-SMAD2-ChIP-Seq(GSE29422)/Homer',\n",
    "#     'Smad3(MAD)/NPC-Smad3-ChIP-Seq(GSE36673)/Homer',\n",
    "#     'Smad4(MAD)/ESC-SMAD4-ChIP-Seq(GSE29422)/Homer',\n",
    "#     # STAT\n",
    "#     'STAT1(Stat)/HelaS3-STAT1-ChIP-Seq(GSE12782)/Homer',\n",
    "#     'Stat3(Stat)/mES-Stat3-ChIP-Seq(GSE11431)/Homer',\n",
    "#     'Stat3+il21(Stat)/CD4-Stat3-ChIP-Seq(GSE19198)/Homer',\n",
    "#     'STAT4(Stat)/CD4-Stat4-ChIP-Seq(GSE22104)/Homer',\n",
    "#     'STAT5(Stat)/mCD4+-Stat5-ChIP-Seq(GSE12346)/Homer',\n",
    "#     'STAT6(Stat)/Macrophage-Stat6-ChIP-Seq(GSE38377)/Homer',\n",
    "#     'STAT6(Stat)/CD4-Stat6-ChIP-Seq(GSE22104)/Homer'\n",
    "]"
   ]
  },
  {
   "cell_type": "markdown",
   "metadata": {},
   "source": [
    "### Read in RNA-seq data"
   ]
  },
  {
   "cell_type": "code",
   "execution_count": 18,
   "metadata": {},
   "outputs": [],
   "source": [
    "tpm = read_homer_gene_exp(rnaDirectory+'/rnaQuan/HOMER.rawTPM.txt',\n",
    "                          gene_name_index=True)\n",
    "\n",
    "tpm_mat = pd.read_csv(rnaDirectory+'/rnaQuan/rawT.txt',\n",
    "                      sep='\\t',\n",
    "                      index_col=0)"
   ]
  },
  {
   "cell_type": "code",
   "execution_count": 19,
   "metadata": {},
   "outputs": [],
   "source": [
    "avg_tpm_df = pd.read_csv(\n",
    "    '/home/h1bennet/strains_rna/results/A00_Strains_Control_WholeLiver_RNA/hepatic_cells_average_tpm.txt',\n",
    "    sep='\\t',\n",
    "    index_col=0)\n",
    "\n",
    "avg_tpm_df = avg_tpm_df.loc[:, avg_tpm_df.columns.str.contains('kupffer')]"
   ]
  },
  {
   "cell_type": "markdown",
   "metadata": {},
   "source": [
    "# Z-scored expression"
   ]
  },
  {
   "cell_type": "code",
   "execution_count": 20,
   "metadata": {},
   "outputs": [
    {
     "data": {
      "image/png": "[encoded data removed]",
      "text/plain": [
       "<Figure size 226.772x354.331 with 2 Axes>"
      ]
     },
     "metadata": {
      "needs_background": "light"
     },
     "output_type": "display_data"
    }
   ],
   "source": [
    "# select ligand subset\n",
    "f = avg_tpm_df.replace(np.nan, 0).loc[tfs, ]\n",
    "\n",
    "# filter ligands with TPM < 5 in all samples.\n",
    "f = f.loc[(f > 5).any(1), :]\n",
    "\n",
    "# z-score by ligand\n",
    "sd = np.std(f, 1)\n",
    "mean = np.mean(f, 1)\n",
    "z_frame = f.subtract(mean, axis='rows').divide(sd, axis='rows')\n",
    "# z_frame.columns = z_frame.columns.str.split('_').str[0]\n",
    "\n",
    "# # calculate clustering\n",
    "# d2 = dist.pdist(z_frame)\n",
    "# D2 = dist.squareform(d2)\n",
    "# Y2 = sch.linkage(D2, method='average', metric='euclidean') ### array-clustering metric - 'average', 'single', 'centroid', 'complete'\n",
    "# Z2 = sch.dendrogram(Y2, no_plot=True)\n",
    "# heatmap(z_frame.iloc[Z2['leaves'], :],\n",
    "#         row_labels = [z_frame.index[i] for i in Z2['leaves']],\n",
    "\n",
    "fig, ax = plt.subplots(figsize=(80/mm_conv, 125/mm_conv))\n",
    "heatmap(z_frame,\n",
    "        row_labels = z_frame.index,\n",
    "        col_labels = '',\n",
    "        vmin=-2,\n",
    "        vmax=2,\n",
    "        cmap='RdBu_r',\n",
    "        cbar=True,\n",
    "        x_fontsize=6,\n",
    "        y_fontsize=6,\n",
    "        cbar_kw={'orientation':'horizontal',\n",
    "                 'pad':0.05,\n",
    "                 'shrink':0.1,\n",
    "                 'aspect':2},\n",
    "        ax=ax)\n",
    "\n",
    "plt.savefig('./tf_expression_zscore_tpm.pdf',\n",
    "            bbox_inches='tight')"
   ]
  },
  {
   "cell_type": "markdown",
   "metadata": {},
   "source": [
    "# Log TPM Experssion"
   ]
  },
  {
   "cell_type": "code",
   "execution_count": 21,
   "metadata": {},
   "outputs": [],
   "source": [
    "from mpl_toolkits.axes_grid1 import make_axes_locatable"
   ]
  },
  {
   "cell_type": "code",
   "execution_count": 22,
   "metadata": {},
   "outputs": [
    {
     "data": {
      "image/png": "[encoded data removed]",
      "text/plain": [
       "<Figure size 226.772x425.197 with 2 Axes>"
      ]
     },
     "metadata": {
      "needs_background": "light"
     },
     "output_type": "display_data"
    }
   ],
   "source": [
    "# select ligand subset\n",
    "f = avg_tpm_df.replace(np.nan, 0).loc[tfs, ]\n",
    "\n",
    "# filter ligands with TPM < 5 in all samples.\n",
    "f = f.loc[(f > 5).any(1), :]\n",
    "\n",
    "# calculate clustering\n",
    "# d2 = dist.pdist(f)\n",
    "# D2 = dist.squareform(d2)\n",
    "# Y2 = sch.linkage(D2, method='average', metric='euclidean') ### array-clustering metric - 'average', 'single', 'centroid', 'complete'\n",
    "# Z2 = sch.dendrogram(Y2, no_plot=True)\n",
    "\n",
    "fig, ax = plt.subplots(figsize=(80/mm_conv, 150/mm_conv))\n",
    "heatmap(np.log2(f),\n",
    "        row_labels = f.index,\n",
    "        col_labels = '',\n",
    "        vmin=0,\n",
    "        vmax=10,\n",
    "        cmap='Reds',\n",
    "        cbar=True,\n",
    "        x_fontsize=6,\n",
    "        y_fontsize=6,\n",
    "        cbar_kw={'orientation':'horizontal',\n",
    "                 'pad':0.05,\n",
    "                 'shrink':0.1,\n",
    "                 'aspect':2},\n",
    "        ax=ax)\n",
    "\n",
    "plt.savefig('./tf_expression_log_tpm.pdf',\n",
    "            bbox_inches='tight')"
   ]
  },
  {
   "cell_type": "markdown",
   "metadata": {},
   "source": [
    "### Make directory for heatmap"
   ]
  },
  {
   "cell_type": "code",
   "execution_count": 23,
   "metadata": {},
   "outputs": [],
   "source": [
    "if not os.path.isdir('./nichenet_motif_heatmap/'):\n",
    "    os.mkdir('./nichenet_motif_heatmap/')"
   ]
  },
  {
   "cell_type": "markdown",
   "metadata": {},
   "source": [
    "# Aggregate results - Homer"
   ]
  },
  {
   "cell_type": "code",
   "execution_count": 24,
   "metadata": {
    "scrolled": true
   },
   "outputs": [],
   "source": [
    "known_motif_pval_frame = pd.read_csv(atacDirectory+'/homer_known_motifs_differential_log.txt', sep='\\t', index_col=0)"
   ]
  },
  {
   "cell_type": "markdown",
   "metadata": {},
   "source": [
    "# Plot known motif results"
   ]
  },
  {
   "cell_type": "markdown",
   "metadata": {},
   "source": [
    "## Option for future: set custom motif list"
   ]
  },
  {
   "cell_type": "code",
   "execution_count": 25,
   "metadata": {},
   "outputs": [],
   "source": [
    "# we will make this plot using 'union' differential enhancer set\n",
    "# we will also use all enhancers to raise our power.\n",
    "\n",
    "tmp_frame = known_motif_pval_frame.loc[:, known_motif_pval_frame.columns.str.contains('union')]\n",
    "tmp_frame = tmp_frame.loc[:, ~tmp_frame.columns.str.contains('distal')]\n",
    "tmp_frame = tmp_frame.loc[:, ~tmp_frame.columns.str.contains('nobg_nodenovo')]\n",
    "tmp_frame = tmp_frame.loc[motif_list, :]\n",
    "\n",
    "#clean up rows for tmp frame\n",
    "tmp_frame.index = tmp_frame.index.str.split('/').str[0]\n",
    "\n",
    "# convert to log10 p value\n",
    "tmp_frame = np.log10(np.e**(tmp_frame))\n",
    "\n",
    "# clean up columns\n",
    "tmp_frame.columns = ['A/J', 'BALB/cJ', 'C57BL/6J']\n",
    "\n",
    "tmp_frame_log10 = -np.log10(np.e**(tmp_frame))\n"
   ]
  },
  {
   "cell_type": "code",
   "execution_count": 26,
   "metadata": {},
   "outputs": [],
   "source": [
    "palette = {'A/J':\"#e41a1c\", 'BALB/cJ':\"#377eb8\", 'C57BL/6J':\"#4daf4a\"}\n",
    "mm_conv = 25.4"
   ]
  },
  {
   "cell_type": "markdown",
   "metadata": {},
   "source": [
    "Can we display as horizontal bar plots?"
   ]
  },
  {
   "cell_type": "code",
   "execution_count": 27,
   "metadata": {},
   "outputs": [
    {
     "data": {
      "text/plain": [
       "(0, 22)"
      ]
     },
     "execution_count": 27,
     "metadata": {},
     "output_type": "execute_result"
    },
    {
     "data": {
      "image/png": "[encoded data removed]",
      "text/plain": [
       "<Figure size 113.386x566.929 with 1 Axes>"
      ]
     },
     "metadata": {
      "needs_background": "light"
     },
     "output_type": "display_data"
    }
   ],
   "source": [
    "fig, ax = plt.subplots(figsize=(40/mm_conv, 200/mm_conv))\n",
    "motif_score_barh(tmp_frame_log10.iloc[::-1],\n",
    "                 groups=[0,1,2],\n",
    "                 width=0.2,\n",
    "                 group_labels=['AJ', 'BALBcJ', 'C57BL6J'],\n",
    "                 colors=[palette['A/J'], palette['BALB/cJ'], palette['C57BL/6J']],\n",
    "                 ax=ax)\n",
    "\n",
    "ax.set_ylim([0, tmp_frame_log10.shape[0]])"
   ]
  },
  {
   "cell_type": "markdown",
   "metadata": {},
   "source": [
    "# Combined Plot"
   ]
  },
  {
   "cell_type": "code",
   "execution_count": 28,
   "metadata": {},
   "outputs": [
    {
     "data": {
      "image/png": "[encoded data removed]",
      "text/plain": [
       "<Figure size 212.598x425.197 with 2 Axes>"
      ]
     },
     "metadata": {
      "needs_background": "light"
     },
     "output_type": "display_data"
    }
   ],
   "source": [
    "fig, (ax1, ax2) = plt.subplots(1, 2, figsize=(75/mm_conv, 150/mm_conv))\n",
    "plt.subplots_adjust(wspace=0.7)\n",
    "# select ligand subset\n",
    "f = avg_tpm_df.replace(np.nan, 0).loc[tfs, ]\n",
    "\n",
    "# filter ligands with TPM < 5 in all samples.\n",
    "f = f.loc[(f > 5).any(1), :]\n",
    "\n",
    "heatmap(np.log2(f),\n",
    "        row_labels = f.index,\n",
    "        col_labels = '',\n",
    "        vmin=0,\n",
    "        vmax=10,\n",
    "        cmap='Reds',\n",
    "        cbar=False,\n",
    "        x_fontsize=6,\n",
    "        y_fontsize=6,\n",
    "#         cbar_kw={'orientation':'horizontal',\n",
    "#                  'pad':0.01,\n",
    "#                  'shrink':0.1,\n",
    "#                  'aspect':2,\n",
    "#                   frac},\n",
    "        ax=ax1)\n",
    "\n",
    "motif_score_barh(tmp_frame_log10.iloc[::-1],\n",
    "                 groups=[0,1,2],\n",
    "                 width=0.25,\n",
    "                 group_labels=['AJ', 'BALBcJ', 'C57BL6J'],\n",
    "                 colors=[palette['A/J'], palette['BALB/cJ'], palette['C57BL/6J']],\n",
    "                 ax=ax2)\n",
    "\n",
    "# ax2.invert_yaxis()\n",
    "\n",
    "\n",
    "ax2.set_ylim([-0.5, tmp_frame_log10.shape[0]])\n",
    "\n",
    "plt.savefig('./tf_expression_motif_score.pdf',\n",
    "            bbox_inches='tight')"
   ]
  },
  {
   "cell_type": "code",
   "execution_count": 29,
   "metadata": {},
   "outputs": [
    {
     "data": {
      "image/png": "[encoded data removed]",
      "text/plain": [
       "<Figure size 212.598x425.197 with 2 Axes>"
      ]
     },
     "metadata": {
      "needs_background": "light"
     },
     "output_type": "display_data"
    }
   ],
   "source": [
    "fig, (ax1, ax2) = plt.subplots(1, 2, figsize=(75/mm_conv, 150/mm_conv))\n",
    "plt.subplots_adjust(wspace=0.7)\n",
    "# select ligand subset\n",
    "f = avg_tpm_df.replace(np.nan, 0).loc[tfs, ]\n",
    "\n",
    "# filter ligands with TPM < 5 in all samples.\n",
    "f = f.loc[(f > 5).any(1), :]\n",
    "\n",
    "sd = np.std(f, 1)\n",
    "mean = np.mean(f, 1)\n",
    "z_frame = f.subtract(mean, axis='rows').divide(sd, axis='rows')\n",
    "\n",
    "heatmap(z_frame,\n",
    "        row_labels = z_frame.index,\n",
    "        col_labels = '',\n",
    "        vmin=-2,\n",
    "        vmax=2,\n",
    "        cmap='RdBu_r',\n",
    "        cbar=False,\n",
    "        x_fontsize=6,\n",
    "        y_fontsize=6,\n",
    "#         cbar_kw={'orientation':'horizontal',\n",
    "#                  'pad':0.01,\n",
    "#                  'shrink':0.1,\n",
    "#                  'aspect':2,\n",
    "#                   frac},\n",
    "        ax=ax1)\n",
    "\n",
    "motif_score_barh(tmp_frame_log10.iloc[::-1],\n",
    "                 groups=[0,1,2],\n",
    "                 width=0.25,\n",
    "                 group_labels=['AJ', 'BALBcJ', 'C57BL6J'],\n",
    "                 colors=[palette['A/J'], palette['BALB/cJ'], palette['C57BL/6J']],\n",
    "                 ax=ax2)\n",
    "\n",
    "ax2.set_ylim([-0.5, tmp_frame_log10.shape[0]])\n",
    "\n",
    "plt.savefig('./tf_zscale_expression_motif_score.pdf',\n",
    "            bbox_inches='tight')"
   ]
  },
  {
   "cell_type": "markdown",
   "metadata": {},
   "source": [
    "### Make colorbar"
   ]
  },
  {
   "cell_type": "code",
   "execution_count": 31,
   "metadata": {},
   "outputs": [
    {
     "data": {
      "image/png": "[encoded data removed]",
      "text/plain": [
       "<Figure size 72x72 with 2 Axes>"
      ]
     },
     "metadata": {
      "needs_background": "light"
     },
     "output_type": "display_data"
    }
   ],
   "source": [
    "fig, ax = plt.subplots(figsize=(1,1))\n",
    "\n",
    "cmap = matplotlib.cm.RdBu_r\n",
    "norm = matplotlib.colors.Normalize(vmin=-2, vmax=2)\n",
    "plt.gca().set_visible(False)\n",
    "cb = fig.colorbar(matplotlib.cm.ScalarMappable(norm=norm,  cmap=cmap),\n",
    "                  use_gridspec=True,\n",
    "                  orientation='horizontal',\n",
    "                  label='Z Score',\n",
    "                  aspect=8)\n",
    "plt.savefig('./colorbar.pdf',\n",
    "            bbox_inches='tight')"
   ]
  },
  {
   "cell_type": "markdown",
   "metadata": {},
   "source": [
    "# Old plots"
   ]
  },
  {
   "cell_type": "code",
   "execution_count": null,
   "metadata": {},
   "outputs": [],
   "source": [
    "# set plot size\n",
    "fig, ax = plt.subplots(figsize=(40/mm_conv, 150/mm_conv))\n",
    "\n",
    "# convert to a log2 frame\n",
    "# tmp_frame = np.log10(np.e**(tmp_frame))\n",
    "\n",
    "cm = sns.heatmap(\n",
    "    -np.log10(np.e**(tmp_frame)),\n",
    "    cmap='Purples',\n",
    "    linewidths=1,\n",
    "    linecolor='k',\n",
    "    vmax=6,\n",
    "    # annot=True,\n",
    "    square=True,\n",
    "    cbar_kws={'label': '-log10(pval)'},\n",
    "    ax=ax)\n",
    "    #square=True)\n",
    "\n",
    "# plt.savefig('./atac_known_motif_heatmap/homer_enrichedmotifs_custommotifs_intersection_enhancers.pdf',\n",
    "#             bbox_inches='tight')"
   ]
  },
  {
   "cell_type": "code",
   "execution_count": null,
   "metadata": {},
   "outputs": [],
   "source": [
    "tmp_frame_log10 = -np.log10(np.e**(tmp_frame))\n",
    "\n",
    "tmp_frame_melt = tmp_frame_log10.reset_index().melt(id_vars='index',\n",
    "                             var_name='strain',\n",
    "                             value_name='motif score')\n",
    "\n",
    "# make motif score positive\n",
    "# tmp_frame_melt['motif score'] = -tmp_frame_melt['motif score']\n",
    "\n",
    "# simplify column names\n",
    "tmp_frame_melt['index'] = tmp_frame_melt['index'].str.split('/').str[0]"
   ]
  }
 ],
 "metadata": {
  "kernelspec": {
   "display_name": "dataviz",
   "language": "python",
   "name": "dataviz"
  },
  "language_info": {
   "codemirror_mode": {
    "name": "ipython",
    "version": 3
   },
   "file_extension": ".py",
   "mimetype": "text/x-python",
   "name": "python",
   "nbconvert_exporter": "python",
   "pygments_lexer": "ipython3",
   "version": "3.7.5"
  }
 },
 "nbformat": 4,
 "nbformat_minor": 2
}
