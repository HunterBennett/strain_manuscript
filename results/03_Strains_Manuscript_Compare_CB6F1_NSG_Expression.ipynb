{
 "cells": [
  {
   "cell_type": "markdown",
   "id": "regional-monroe",
   "metadata": {},
   "source": [
    "Hunter Bennett | June 16 2021"
   ]
  },
  {
   "cell_type": "code",
   "execution_count": 1,
   "id": "enabling-pharmacy",
   "metadata": {},
   "outputs": [],
   "source": [
    "### header ###\n",
    "__author__ = \"Hunter Bennett\"\n",
    "__license__ = \"BSD\"\n",
    "__email__ = \"hunter.r.bennett@gmail.com\"\n",
    "%load_ext autoreload\n",
    "%autoreload 2\n",
    "%matplotlib inline\n",
    "### imports ###\n",
    "import sys\n",
    "import os\n",
    "import re\n",
    "import glob\n",
    "import pandas as pd\n",
    "import numpy as np\n",
    "import matplotlib\n",
    "import matplotlib.pyplot as plt\n",
    "from matplotlib.patches import Patch\n",
    "from matplotlib_venn import venn3\n",
    "import seaborn as sns\n",
    "\n",
    "# import custom functions\n",
    "sys.path.insert(0, '/home/h1bennet/code/')\n",
    "from hbUtils import ngs_qc, quantile_normalize_df\n",
    "from homer_preprocessing import import_homer_diffgene, read_homer_gene_exp, read_annotated_peaks\n",
    "from plotting_scripts import plot_exp_rpkm, gene_list_bar_plot"
   ]
  },
  {
   "cell_type": "code",
   "execution_count": 2,
   "id": "varied-period",
   "metadata": {},
   "outputs": [],
   "source": [
    "f1Dir = '/home/ttroutman/strainsKupffer/rnaKupfferF1/'\n",
    "nsgDir = '/home/ttroutman/strainsKupffer/rnaKupfferNSG_20210201/'\n",
    "workingDirectory = '/home/h1bennet/strains_manuscript/results/03_Strains_Manuscript_Compare_CB6F1_NSG//'\n",
    "if not os.path.isdir(workingDirectory):\n",
    "    os.mkdir(workingDirectory)\n",
    "os.chdir(workingDirectory)"
   ]
  },
  {
   "cell_type": "code",
   "execution_count": 3,
   "id": "remarkable-blood",
   "metadata": {},
   "outputs": [],
   "source": [
    "#### PLOTTING PARAMETERS FOR MANUSCRIPT ####\n",
    "# # get matplotlib to save readable fonts\n",
    "matplotlib.rcParams['pdf.fonttype'] = 42\n",
    "matplotlib.rcParams['ps.fonttype'] = 42\n",
    "matplotlib.rcParams['font.size'] = 6\n",
    "matplotlib.rcParams['savefig.dpi'] = 500\n",
    "\n",
    "\n",
    "# line widths\n",
    "matplotlib.rcParams['axes.linewidth'] = 1\n",
    "matplotlib.rcParams['xtick.major.width'] = 1\n",
    "matplotlib.rcParams['ytick.major.width'] = 1\n",
    "\n",
    "# adjust defualt color for plots to black\n",
    "# normal default is a dark gray\n",
    "COLOR = 'black'\n",
    "matplotlib.rcParams['text.color'] = COLOR\n",
    "matplotlib.rcParams['axes.labelcolor'] = COLOR\n",
    "matplotlib.rcParams['xtick.color'] = COLOR\n",
    "matplotlib.rcParams['ytick.color'] = COLOR\n",
    "matplotlib.rcParams['axes.edgecolor'] = COLOR\n",
    "\n",
    "#### PLOT PARAMETERS FOR THIS PLOT ####"
   ]
  },
  {
   "cell_type": "markdown",
   "id": "wanted-transcription",
   "metadata": {},
   "source": [
    "# Compare cis / trans / mixed lists...\n",
    "How many trans regulated genes are shared between sets..."
   ]
  },
  {
   "cell_type": "code",
   "execution_count": null,
   "id": "expired-editor",
   "metadata": {},
   "outputs": [],
   "source": []
  },
  {
   "cell_type": "code",
   "execution_count": 5,
   "id": "honest-supervision",
   "metadata": {},
   "outputs": [],
   "source": [
    "f1_dict = {}\n",
    "for genelist in glob.glob('/home/h1bennet/strains_rna/results/K03_CB6F1_Kupffer_RNA/gene_lists/*filt_pval.txt'):\n",
    "    with open(genelist, 'r') as f:\n",
    "        listid = genelist.split('/')[-1].replace('.txt','')\n",
    "        f1_dict[listid] = [i.strip() for i in f.readlines()[1:]]"
   ]
  },
  {
   "cell_type": "code",
   "execution_count": 6,
   "id": "standing-trader",
   "metadata": {},
   "outputs": [],
   "source": [
    "nsg_dict = {}\n",
    "for genelist in glob.glob('/home/h1bennet/strains_rna/results/K03_NSG_Kupffer_RNA/gene_lists/*filt_pval.txt'):\n",
    "    with open(genelist, 'r') as f:\n",
    "        listid = genelist.split('/')[-1].replace('.txt','')\n",
    "        nsg_dict[listid] = [i.strip() for i in f.readlines()[1:]]"
   ]
  },
  {
   "cell_type": "markdown",
   "id": "loose-safety",
   "metadata": {},
   "source": [
    "Compare overlap of all sets..."
   ]
  },
  {
   "cell_type": "code",
   "execution_count": 7,
   "id": "hydraulic-hardware",
   "metadata": {
    "scrolled": false
   },
   "outputs": [
    {
     "name": "stdout",
     "output_type": "stream",
     "text": [
      "cb6f1_kupffer_trans_balb_filt_pval\n",
      "63 genes in F1 set\n",
      "84 genes in NSG set\n",
      "35 / 112 genes shared\n",
      "cb6f1_kupffer_cis_balb_filt_pval\n",
      "39 genes in F1 set\n",
      "77 genes in NSG set\n",
      "27 / 89 genes shared\n",
      "cb6f1_kupffer_cis_c57_filt_pval\n",
      "44 genes in F1 set\n",
      "73 genes in NSG set\n",
      "36 / 81 genes shared\n",
      "cb6f1_kupffer_trans_c57_filt_pval\n",
      "61 genes in F1 set\n",
      "88 genes in NSG set\n",
      "44 / 105 genes shared\n",
      "cb6f1_kupffer_mixed_c57_filt_pval\n",
      "33 genes in F1 set\n",
      "17 genes in NSG set\n",
      "2 / 48 genes shared\n",
      "cb6f1_kupffer_mixed_balb_filt_pval\n",
      "52 genes in F1 set\n",
      "18 genes in NSG set\n",
      "3 / 67 genes shared\n"
     ]
    }
   ],
   "source": [
    "for key in f1_dict.keys():\n",
    "    print(key)\n",
    "    print(len(f1_dict[key]), 'genes in F1 set')\n",
    "    print(len(nsg_dict[key]), 'genes in NSG set')\n",
    "    shared = set(nsg_dict[key]).intersection(f1_dict[key])\n",
    "    total = set(nsg_dict[key]).union(f1_dict[key])\n",
    "    print('%i / %i genes shared' % (len(shared), len(total)))"
   ]
  },
  {
   "cell_type": "code",
   "execution_count": 8,
   "id": "nasty-detroit",
   "metadata": {},
   "outputs": [],
   "source": [
    "df_f1 = pd.read_csv('/home/ttroutman/strainsKupffer/rnaKupfferF1//rnaDiff/balbcj_variants.vs.c57bl6j_variants.scatter.txt',\n",
    "                    sep='\\t', index_col=0)\n"
   ]
  },
  {
   "cell_type": "code",
   "execution_count": 9,
   "id": "smart-ladder",
   "metadata": {},
   "outputs": [],
   "source": [
    "df_nsg = pd.read_csv('/home/ttroutman/strainsKupffer/rnaKupfferNSG_20210201//rnaDiff/balbcj_NSG.vs.c57bl6j_NSG.scatter.txt',\n",
    "                 sep='\\t', index_col=0)"
   ]
  },
  {
   "cell_type": "code",
   "execution_count": 10,
   "id": "confident-fleet",
   "metadata": {},
   "outputs": [],
   "source": [
    "df_control = pd.read_csv('/home/ttroutman/strainsKupffer/rnaKupfferNSG_20210201//rnaDiff/balbcj_control.vs.c57bl6j_control.scatter.txt',\n",
    "                         sep='\\t', index_col=0)"
   ]
  },
  {
   "cell_type": "code",
   "execution_count": 11,
   "id": "professional-satin",
   "metadata": {},
   "outputs": [],
   "source": [
    "df = df_control.merge(df_f1.merge(df_nsg, left_index=True, right_index=True, how='inner', suffixes=('_f1','_nsg')),\n",
    "                      left_index=True,\n",
    "                      right_index=True,\n",
    "                      how='inner',\n",
    "                      suffixes=('_control', ''))"
   ]
  },
  {
   "cell_type": "code",
   "execution_count": 14,
   "id": "progressive-handbook",
   "metadata": {},
   "outputs": [],
   "source": [
    "tpm_mat_c57 = pd.read_csv('../03_Strains_Manuscript_Compare_CB6F1_NSG_RNA/expression/rawT.txt',\n",
    "                      index_col=0,\n",
    "                      sep='\\t')"
   ]
  },
  {
   "cell_type": "code",
   "execution_count": 23,
   "id": "disturbed-chain",
   "metadata": {},
   "outputs": [],
   "source": [
    "tpm_mat_balb = pd.read_csv('../03_Strains_Manuscript_Compare_CB6F1_NSG_BALBcJ_RNA/expression/rawT.txt',\n",
    "                      index_col=0,\n",
    "                      sep='\\t')"
   ]
  },
  {
   "cell_type": "markdown",
   "id": "incident-intellectual",
   "metadata": {},
   "source": [
    "# We will use a custom ordering to separate into F0, F1, NSG specific"
   ]
  },
  {
   "cell_type": "markdown",
   "id": "contrary-development",
   "metadata": {},
   "source": [
    "First write out sets to a new list"
   ]
  },
  {
   "cell_type": "code",
   "execution_count": 18,
   "id": "other-bulgaria",
   "metadata": {},
   "outputs": [],
   "source": [
    "if not os.path.isdir('./gene_list_subsets/'):\n",
    "    os.mkdir('./gene_list_subsets')"
   ]
  },
  {
   "cell_type": "code",
   "execution_count": 19,
   "id": "aging-blues",
   "metadata": {
    "scrolled": true
   },
   "outputs": [
    {
     "name": "stdout",
     "output_type": "stream",
     "text": [
      "cb6f1_kupffer_trans_balb_filt_pval_shared_set : 35\n",
      "cb6f1_kupffer_trans_balb_filt_pval_f1_only : 23\n",
      "cb6f1_kupffer_trans_balb_filt_pval_nsg_only : 5\n",
      "cb6f1_kupffer_cis_balb_filt_pval_shared_set : 27\n",
      "cb6f1_kupffer_cis_balb_filt_pval_f1_only : 5\n",
      "cb6f1_kupffer_cis_balb_filt_pval_nsg_only : 23\n",
      "cb6f1_kupffer_cis_c57_filt_pval_shared_set : 36\n",
      "cb6f1_kupffer_cis_c57_filt_pval_f1_only : 3\n",
      "cb6f1_kupffer_cis_c57_filt_pval_nsg_only : 14\n",
      "cb6f1_kupffer_trans_c57_filt_pval_shared_set : 44\n",
      "cb6f1_kupffer_trans_c57_filt_pval_f1_only : 15\n",
      "cb6f1_kupffer_trans_c57_filt_pval_nsg_only : 3\n",
      "cb6f1_kupffer_mixed_c57_filt_pval_shared_set : 2\n",
      "cb6f1_kupffer_mixed_c57_filt_pval_f1_only : 30\n",
      "cb6f1_kupffer_mixed_c57_filt_pval_nsg_only : 6\n",
      "cb6f1_kupffer_mixed_balb_filt_pval_shared_set : 3\n",
      "cb6f1_kupffer_mixed_balb_filt_pval_f1_only : 48\n",
      "cb6f1_kupffer_mixed_balb_filt_pval_nsg_only : 9\n"
     ]
    }
   ],
   "source": [
    "for key in nsg_dict.keys():\n",
    "    \n",
    "    shared_set = df.reindex(set(nsg_dict[key]).intersection(f1_dict[key])).dropna().index.tolist()\n",
    "    f1_only = df.reindex(set(f1_dict[key]).difference(nsg_dict[key])).dropna().index.tolist()\n",
    "    nsg_only = df.reindex(set(nsg_dict[key]).difference(f1_dict[key])).dropna().index.tolist()\n",
    "    \n",
    "    sets = [shared_set, f1_only, nsg_only]\n",
    "    set_labels = ['shared_set', 'f1_only', 'nsg_only']\n",
    "    \n",
    "    for listname, genelist in zip(set_labels, sets):\n",
    "        print(key+'_'+listname, \":\", len(genelist))\n",
    "        with open('./gene_list_subsets/'+key+'_'+listname+'_.txt', 'w') as f:\n",
    "            f.write('Gene\\n')\n",
    "            for i in genelist:\n",
    "                f.write(i+'\\n')\n",
    "            f.close()"
   ]
  },
  {
   "cell_type": "markdown",
   "id": "favorite-cloud",
   "metadata": {},
   "source": [
    "# make z score tpm mat"
   ]
  },
  {
   "cell_type": "code",
   "execution_count": 21,
   "id": "hispanic-grass",
   "metadata": {},
   "outputs": [],
   "source": [
    "sd = np.std(tpm_mat_c57, 1)\n",
    "mean = np.mean(tpm_mat_c57, 1)\n",
    "z_frame_c57 = tpm_mat_c57.subtract(mean, axis='rows').divide(sd, axis='rows')\n",
    "z_frame_c57.columns = z_frame_c57.columns.str.split('_').str[0]"
   ]
  },
  {
   "cell_type": "code",
   "execution_count": 24,
   "id": "close-jenny",
   "metadata": {},
   "outputs": [],
   "source": [
    "sd = np.std(tpm_mat_balb, 1)\n",
    "mean = np.mean(tpm_mat_balb, 1)\n",
    "z_frame_balb = tpm_mat_balb.subtract(mean, axis='rows').divide(sd, axis='rows')\n",
    "z_frame_balb.columns = z_frame_balb.columns.str.split('_').str[0]"
   ]
  },
  {
   "cell_type": "markdown",
   "id": "interracial-circuit",
   "metadata": {},
   "source": [
    "# Make figures"
   ]
  },
  {
   "cell_type": "code",
   "execution_count": 49,
   "id": "cathedral-colony",
   "metadata": {},
   "outputs": [],
   "source": [
    "if not os.path.isdir('./expression_heatmaps/'):\n",
    "    os.mkdir('./expression_heatmaps/')"
   ]
  },
  {
   "cell_type": "markdown",
   "id": "cellular-usage",
   "metadata": {},
   "source": [
    "# Trans"
   ]
  },
  {
   "cell_type": "markdown",
   "id": "fallen-communication",
   "metadata": {},
   "source": [
    "## C57"
   ]
  },
  {
   "cell_type": "markdown",
   "id": "velvet-draft",
   "metadata": {},
   "source": [
    "### Log 2 Expression"
   ]
  },
  {
   "cell_type": "code",
   "execution_count": null,
   "id": "completed-desert",
   "metadata": {},
   "outputs": [],
   "source": [
    "key = 'cb6f1_kupffer_trans_c57_filt_pval'\n",
    "shared_set = df.reindex(set(nsg_dict[key]).intersection(f1_dict[key])).dropna().index.tolist()\n",
    "f1_only = df.reindex(set(f1_dict[key]).difference(nsg_dict[key])).dropna().index.tolist()\n",
    "nsg_only = df.reindex(set(nsg_dict[key]).difference(f1_dict[key])).dropna().index.tolist()\n",
    "\n",
    "sets = [shared_set, f1_only, nsg_only]\n",
    "set_lengths = [len(i) for i in sets]\n",
    "\n",
    "f, axs = plt.subplots(3, 1, figsize=(1,3.5), gridspec_kw={'height_ratios': set_lengths})\n",
    "plt.subplots_adjust(hspace=0.025)\n",
    "for geneset, ax in zip(sets, axs):\n",
    "    print(len(geneset))\n",
    "    sns.heatmap(np.log2(tpm_mat_c57.loc[geneset, :]+1),\n",
    "                cmap='Greens',\n",
    "                # linewidth=1,\n",
    "                # linecolor='k',\n",
    "                # z_score=2,\n",
    "                vmin=0,\n",
    "                # vmax=2,\n",
    "                # annot=True,\n",
    "                fmt='.1f',\n",
    "                xticklabels=0,\n",
    "                yticklabels=0,\n",
    "                cbar=False,\n",
    "                cbar_kws={'orientation':'vertical',\n",
    "                          'pad':0.05,\n",
    "                          'label':'-log2fc'},\n",
    "                ax=ax)\n",
    "\n",
    "# plt.savefig('./figures/'+key+'_heatmap_custom_order.ptpm_mat',\n",
    "#             bbox_inches='tight')"
   ]
  },
  {
   "cell_type": "markdown",
   "id": "descending-invalid",
   "metadata": {},
   "source": [
    "### Z score"
   ]
  },
  {
   "cell_type": "code",
   "execution_count": 30,
   "id": "focused-memory",
   "metadata": {},
   "outputs": [
    {
     "name": "stdout",
     "output_type": "stream",
     "text": [
      "44\n",
      "15\n",
      "3\n"
     ]
    },
    {
     "data": {
      "image/png": "[encoded data removed]",
      "text/plain": [
       "<Figure size 72x252 with 3 Axes>"
      ]
     },
     "metadata": {},
     "output_type": "display_data"
    }
   ],
   "source": [
    "key = 'cb6f1_kupffer_trans_c57_filt_pval'\n",
    "shared_set = df.reindex(set(nsg_dict[key]).intersection(f1_dict[key])).dropna().index.tolist()\n",
    "f1_only = df.reindex(set(f1_dict[key]).difference(nsg_dict[key])).dropna().index.tolist()\n",
    "nsg_only = df.reindex(set(nsg_dict[key]).difference(f1_dict[key])).dropna().index.tolist()\n",
    "\n",
    "sets = [shared_set, f1_only, nsg_only]\n",
    "set_lengths = [len(i) for i in sets]\n",
    "\n",
    "f, axs = plt.subplots(3, 1, figsize=(1,3.5), gridspec_kw={'height_ratios': set_lengths})\n",
    "plt.subplots_adjust(hspace=0.025)\n",
    "for geneset, ax in zip(sets, axs):\n",
    "    print(len(geneset))\n",
    "    sns.heatmap(z_frame_c57.loc[geneset, :],\n",
    "                cmap='RdBu_r',\n",
    "                # linewidth=1,\n",
    "                # linecolor='k',\n",
    "                # z_score=2,\n",
    "                vmin=-2,\n",
    "                vmax=2,\n",
    "                # annot=True,\n",
    "                fmt='.1f',\n",
    "                xticklabels=0,\n",
    "                yticklabels=0,\n",
    "                cbar=False,\n",
    "                cbar_kws={'orientation':'vertical',\n",
    "                          'pad':0.05,\n",
    "                          'label':'-log2fc'},\n",
    "                ax=ax)\n",
    "\n",
    "# plt.savefig('./figures/'+key+'_heatmap_custom_order.ptpm_mat',\n",
    "#             bbox_inches='tight')"
   ]
  },
  {
   "cell_type": "markdown",
   "id": "connected-neighborhood",
   "metadata": {},
   "source": [
    "## Balb"
   ]
  },
  {
   "cell_type": "markdown",
   "id": "rough-tuesday",
   "metadata": {},
   "source": [
    "### Log 2 Expression"
   ]
  },
  {
   "cell_type": "code",
   "execution_count": null,
   "id": "sustained-lending",
   "metadata": {},
   "outputs": [],
   "source": [
    "key = 'cb6f1_kupffer_trans_balb_filt_pval'\n",
    "shared_set = df.reindex(set(nsg_dict[key]).intersection(f1_dict[key])).dropna().index.tolist()\n",
    "f1_only = df.reindex(set(f1_dict[key]).difference(nsg_dict[key])).dropna().index.tolist()\n",
    "nsg_only = df.reindex(set(nsg_dict[key]).difference(f1_dict[key])).dropna().index.tolist()\n",
    "\n",
    "sets = [shared_set, f1_only, nsg_only]\n",
    "set_lengths = [len(i) for i in sets]\n",
    "\n",
    "f, axs = plt.subplots(3, 1, figsize=(1,3.5), gridspec_kw={'height_ratios': set_lengths})\n",
    "plt.subplots_adjust(hspace=0.025)\n",
    "for geneset, ax in zip(sets, axs):\n",
    "    print(len(geneset))\n",
    "    sns.heatmap(np.log2(tpm_mat_balb.loc[geneset, :]+1),\n",
    "                cmap='Blues',\n",
    "                # linewidth=1,\n",
    "                # linecolor='k',\n",
    "                # z_score=2,\n",
    "                vmin=0,\n",
    "                vmax=10,\n",
    "                # annot=True,\n",
    "                fmt='.1f',\n",
    "                xticklabels=0,\n",
    "                yticklabels=0,\n",
    "                cbar=False,\n",
    "                cbar_kws={'orientation':'vertical',\n",
    "                          'pad':0.05,\n",
    "                          'label':'-log2fc'},\n",
    "                ax=ax)\n",
    "\n",
    "# plt.savefig('./figures/'+key+'_heatmap_custom_order.ptpm_mat',\n",
    "#             bbox_inches='tight')"
   ]
  },
  {
   "cell_type": "markdown",
   "id": "killing-deposit",
   "metadata": {},
   "source": [
    "### Z Score"
   ]
  },
  {
   "cell_type": "code",
   "execution_count": 32,
   "id": "alternate-prayer",
   "metadata": {},
   "outputs": [
    {
     "name": "stdout",
     "output_type": "stream",
     "text": [
      "35\n",
      "23\n",
      "5\n"
     ]
    },
    {
     "data": {
      "image/png": "[encoded data removed]",
      "text/plain": [
       "<Figure size 72x252 with 3 Axes>"
      ]
     },
     "metadata": {},
     "output_type": "display_data"
    }
   ],
   "source": [
    "key = 'cb6f1_kupffer_trans_balb_filt_pval'\n",
    "shared_set = df.reindex(set(nsg_dict[key]).intersection(f1_dict[key])).dropna().index.tolist()\n",
    "f1_only = df.reindex(set(f1_dict[key]).difference(nsg_dict[key])).dropna().index.tolist()\n",
    "nsg_only = df.reindex(set(nsg_dict[key]).difference(f1_dict[key])).dropna().index.tolist()\n",
    "\n",
    "sets = [shared_set, f1_only, nsg_only]\n",
    "set_lengths = [len(i) for i in sets]\n",
    "\n",
    "f, axs = plt.subplots(3, 1, figsize=(1,3.5), gridspec_kw={'height_ratios': set_lengths})\n",
    "plt.subplots_adjust(hspace=0.025)\n",
    "for geneset, ax in zip(sets, axs):\n",
    "    print(len(geneset))\n",
    "    sns.heatmap(z_frame_balb.loc[geneset, :],\n",
    "                cmap='RdBu_r',\n",
    "                # linewidth=1,\n",
    "                # linecolor='k',\n",
    "                # z_score=2,\n",
    "                vmin=-2,\n",
    "                vmax=2,\n",
    "                # annot=True,\n",
    "                fmt='.1f',\n",
    "                xticklabels=0,\n",
    "                yticklabels=0,\n",
    "                cbar=False,\n",
    "                cbar_kws={'orientation':'horizontal',\n",
    "                          'pad':0.05,\n",
    "                          'label':'-log2fc'},\n",
    "                ax=ax)\n",
    "\n",
    "# plt.savefig('./figures/'+key+'_heatmap_custom_order.pdf',\n",
    "#             bbox_inches='tight')"
   ]
  },
  {
   "cell_type": "markdown",
   "id": "aging-saskatchewan",
   "metadata": {},
   "source": [
    "# Mixed\n",
    "## C57\n",
    "### Log2Expression"
   ]
  },
  {
   "cell_type": "code",
   "execution_count": 35,
   "id": "operational-first",
   "metadata": {},
   "outputs": [
    {
     "name": "stdout",
     "output_type": "stream",
     "text": [
      "2\n",
      "30\n",
      "6\n"
     ]
    },
    {
     "data": {
      "image/png": "[encoded data removed]",
      "text/plain": [
       "<Figure size 72x252 with 3 Axes>"
      ]
     },
     "metadata": {},
     "output_type": "display_data"
    }
   ],
   "source": [
    "key = 'cb6f1_kupffer_mixed_c57_filt_pval'\n",
    "shared_set = df.reindex(set(nsg_dict[key]).intersection(f1_dict[key])).dropna().index.tolist()\n",
    "f1_only = df.reindex(set(f1_dict[key]).difference(nsg_dict[key])).dropna().index.tolist()\n",
    "nsg_only = df.reindex(set(nsg_dict[key]).difference(f1_dict[key])).dropna().index.tolist()\n",
    "\n",
    "sets = [shared_set, f1_only, nsg_only]\n",
    "set_lengths = [len(i) for i in sets]\n",
    "\n",
    "f, axs = plt.subplots(3, 1, figsize=(1,3.5), gridspec_kw={'height_ratios': set_lengths})\n",
    "plt.subplots_adjust(hspace=0.025)\n",
    "for geneset, ax in zip(sets, axs):\n",
    "    print(len(geneset))\n",
    "    sns.heatmap(np.log2(tpm_mat_c57.loc[geneset, :]+1),\n",
    "                cmap='Greens',\n",
    "                # linewidth=1,\n",
    "                # linecolor='k',\n",
    "                # z_score=2,\n",
    "                vmin=0,\n",
    "                vmax=10,\n",
    "                # annot=True,\n",
    "                fmt='.1f',\n",
    "                xticklabels=0,\n",
    "                yticklabels=0,\n",
    "                cbar=False,\n",
    "                cbar_kws={'orientation':'vertical',\n",
    "                          'pad':0.05,\n",
    "                          'label':'-log2fc'},\n",
    "                ax=ax)\n",
    "\n",
    "# plt.savefig('./figures/'+key+'_heatmap_custom_order.ptpm_mat',\n",
    "#             bbox_inches='tight')"
   ]
  },
  {
   "cell_type": "markdown",
   "id": "weird-mandate",
   "metadata": {},
   "source": [
    "### Z Score"
   ]
  },
  {
   "cell_type": "code",
   "execution_count": 36,
   "id": "palestinian-viewer",
   "metadata": {},
   "outputs": [
    {
     "name": "stdout",
     "output_type": "stream",
     "text": [
      "2\n",
      "30\n",
      "6\n"
     ]
    },
    {
     "data": {
      "image/png": "[encoded data removed]",
      "text/plain": [
       "<Figure size 72x252 with 3 Axes>"
      ]
     },
     "metadata": {},
     "output_type": "display_data"
    }
   ],
   "source": [
    "key = 'cb6f1_kupffer_mixed_c57_filt_pval'\n",
    "shared_set = df.reindex(set(nsg_dict[key]).intersection(f1_dict[key])).dropna().index.tolist()\n",
    "f1_only = df.reindex(set(f1_dict[key]).difference(nsg_dict[key])).dropna().index.tolist()\n",
    "nsg_only = df.reindex(set(nsg_dict[key]).difference(f1_dict[key])).dropna().index.tolist()\n",
    "\n",
    "sets = [shared_set, f1_only, nsg_only]\n",
    "set_lengths = [len(i) for i in sets]\n",
    "\n",
    "f, axs = plt.subplots(3, 1, figsize=(1,3.5), gridspec_kw={'height_ratios': set_lengths})\n",
    "plt.subplots_adjust(hspace=0.025)\n",
    "for geneset, ax in zip(sets, axs):\n",
    "    print(len(geneset))\n",
    "    sns.heatmap(z_frame_c57.loc[geneset, :],\n",
    "                cmap='RdBu_r',\n",
    "                # linewidth=1,\n",
    "                # linecolor='k',\n",
    "                # z_score=2,\n",
    "                vmin=-2,\n",
    "                vmax=2,\n",
    "                # annot=True,\n",
    "                fmt='.1f',\n",
    "                xticklabels=0,\n",
    "                yticklabels=0,\n",
    "                cbar=False,\n",
    "                cbar_kws={'orientation':'vertical',\n",
    "                          'pad':0.05,\n",
    "                          'label':'-log2fc'},\n",
    "                ax=ax)\n",
    "\n",
    "# plt.savefig('./figures/'+key+'_heatmap_custom_order.ptpm_mat',\n",
    "#             bbox_inches='tight')"
   ]
  },
  {
   "cell_type": "markdown",
   "id": "operating-boston",
   "metadata": {},
   "source": [
    "## BALB\n",
    "# Log 2 Expression"
   ]
  },
  {
   "cell_type": "code",
   "execution_count": 41,
   "id": "western-cattle",
   "metadata": {},
   "outputs": [
    {
     "name": "stdout",
     "output_type": "stream",
     "text": [
      "3\n",
      "48\n",
      "9\n"
     ]
    },
    {
     "data": {
      "image/png": "[encoded data removed]",
      "text/plain": [
       "<Figure size 72x252 with 3 Axes>"
      ]
     },
     "metadata": {},
     "output_type": "display_data"
    }
   ],
   "source": [
    "key = 'cb6f1_kupffer_mixed_balb_filt_pval'\n",
    "shared_set = df.reindex(set(nsg_dict[key]).intersection(f1_dict[key])).dropna().index.tolist()\n",
    "f1_only = df.reindex(set(f1_dict[key]).difference(nsg_dict[key])).dropna().index.tolist()\n",
    "nsg_only = df.reindex(set(nsg_dict[key]).difference(f1_dict[key])).dropna().index.tolist()\n",
    "\n",
    "sets = [shared_set, f1_only, nsg_only]\n",
    "set_lengths = [len(i) for i in sets]\n",
    "\n",
    "f, axs = plt.subplots(3, 1, figsize=(1,3.5), gridspec_kw={'height_ratios': set_lengths})\n",
    "plt.subplots_adjust(hspace=0.025)\n",
    "for geneset, ax in zip(sets, axs):\n",
    "    print(len(geneset))\n",
    "    sns.heatmap(np.log2(tpm_mat_balb.loc[geneset, :]+1),\n",
    "                cmap='Blues',\n",
    "                # linewidth=1,\n",
    "                # linecolor='k',\n",
    "                # z_score=2,\n",
    "                vmin=0,\n",
    "                vmax=10,\n",
    "                # annot=True,\n",
    "                fmt='.1f',\n",
    "                xticklabels=0,\n",
    "                yticklabels=0,\n",
    "                cbar=False,\n",
    "                cbar_kws={'orientation':'vertical',\n",
    "                          'pad':0.05,\n",
    "                          'label':'-log2fc'},\n",
    "                ax=ax)\n",
    "\n",
    "# plt.savefig('./figures/'+key+'_heatmap_custom_order.ptpm_mat',\n",
    "#             bbox_inches='tight')"
   ]
  },
  {
   "cell_type": "markdown",
   "id": "liquid-removal",
   "metadata": {},
   "source": [
    "### Z Score"
   ]
  },
  {
   "cell_type": "code",
   "execution_count": 40,
   "id": "fifth-sailing",
   "metadata": {},
   "outputs": [
    {
     "name": "stdout",
     "output_type": "stream",
     "text": [
      "3\n",
      "48\n",
      "9\n"
     ]
    },
    {
     "data": {
      "image/png": "[encoded data removed]",
      "text/plain": [
       "<Figure size 72x252 with 3 Axes>"
      ]
     },
     "metadata": {},
     "output_type": "display_data"
    }
   ],
   "source": [
    "key = 'cb6f1_kupffer_mixed_balb_filt_pval'\n",
    "shared_set = df.reindex(set(nsg_dict[key]).intersection(f1_dict[key])).dropna().index.tolist()\n",
    "f1_only = df.reindex(set(f1_dict[key]).difference(nsg_dict[key])).dropna().index.tolist()\n",
    "nsg_only = df.reindex(set(nsg_dict[key]).difference(f1_dict[key])).dropna().index.tolist()\n",
    "\n",
    "sets = [shared_set, f1_only, nsg_only]\n",
    "set_lengths = [len(i) for i in sets]\n",
    "\n",
    "f, axs = plt.subplots(3, 1, figsize=(1,3.5), gridspec_kw={'height_ratios': set_lengths})\n",
    "plt.subplots_adjust(hspace=0.025)\n",
    "for geneset, ax in zip(sets, axs):\n",
    "    print(len(geneset))\n",
    "    sns.heatmap(z_frame_balb.loc[geneset, :],\n",
    "                cmap='RdBu_r',\n",
    "                # linewidth=1,\n",
    "                # linecolor='k',\n",
    "                # z_score=2,\n",
    "                vmin=-2,\n",
    "                vmax=2,\n",
    "                # annot=True,\n",
    "                fmt='.1f',\n",
    "                xticklabels=0,\n",
    "                yticklabels=0,\n",
    "                cbar=False,\n",
    "                cbar_kws={'orientation':'horizontal',\n",
    "                          'pad':0.05,\n",
    "                          'label':'-log2fc'},\n",
    "                ax=ax)\n",
    "\n",
    "# plt.savefig('./figures/'+key+'_heatmap_custom_order.pdf',\n",
    "#             bbox_inches='tight')"
   ]
  },
  {
   "cell_type": "markdown",
   "id": "virtual-military",
   "metadata": {},
   "source": [
    "# Cis\n",
    "## C57\n",
    "### Log2Expression"
   ]
  },
  {
   "cell_type": "code",
   "execution_count": 39,
   "id": "radical-laser",
   "metadata": {},
   "outputs": [
    {
     "name": "stdout",
     "output_type": "stream",
     "text": [
      "36\n",
      "3\n",
      "14\n"
     ]
    },
    {
     "data": {
      "image/png": "[encoded data removed]",
      "text/plain": [
       "<Figure size 72x252 with 3 Axes>"
      ]
     },
     "metadata": {},
     "output_type": "display_data"
    }
   ],
   "source": [
    "key = 'cb6f1_kupffer_cis_c57_filt_pval'\n",
    "shared_set = df.reindex(set(nsg_dict[key]).intersection(f1_dict[key])).dropna().index.tolist()\n",
    "f1_only = df.reindex(set(f1_dict[key]).difference(nsg_dict[key])).dropna().index.tolist()\n",
    "nsg_only = df.reindex(set(nsg_dict[key]).difference(f1_dict[key])).dropna().index.tolist()\n",
    "\n",
    "sets = [shared_set, f1_only, nsg_only]\n",
    "set_lengths = [len(i) for i in sets]\n",
    "\n",
    "f, axs = plt.subplots(3, 1, figsize=(1,3.5), gridspec_kw={'height_ratios': set_lengths})\n",
    "plt.subplots_adjust(hspace=0.025)\n",
    "for geneset, ax in zip(sets, axs):\n",
    "    print(len(geneset))\n",
    "    sns.heatmap(np.log2(tpm_mat_c57.loc[geneset, :]+1),\n",
    "                cmap='Greens',\n",
    "                # linewidth=1,\n",
    "                # linecolor='k',\n",
    "                # z_score=2,\n",
    "                vmin=0,\n",
    "                vmax=10,\n",
    "                # annot=True,\n",
    "                fmt='.1f',\n",
    "                xticklabels=0,\n",
    "                yticklabels=0,\n",
    "                cbar=False,\n",
    "                cbar_kws={'orientation':'vertical',\n",
    "                          'pad':0.05,\n",
    "                          'label':'-log2fc'},\n",
    "                ax=ax)\n",
    "\n",
    "# plt.savefig('./figures/'+key+'_heatmap_custom_order.ptpm_mat',\n",
    "#             bbox_inches='tight')"
   ]
  },
  {
   "cell_type": "markdown",
   "id": "dutch-pharmacy",
   "metadata": {},
   "source": [
    "### Z Score"
   ]
  },
  {
   "cell_type": "code",
   "execution_count": 38,
   "id": "periodic-hierarchy",
   "metadata": {},
   "outputs": [
    {
     "name": "stdout",
     "output_type": "stream",
     "text": [
      "36\n",
      "3\n",
      "14\n"
     ]
    },
    {
     "data": {
      "image/png": "[encoded data removed]",
      "text/plain": [
       "<Figure size 72x252 with 3 Axes>"
      ]
     },
     "metadata": {},
     "output_type": "display_data"
    }
   ],
   "source": [
    "key = 'cb6f1_kupffer_cis_c57_filt_pval'\n",
    "shared_set = df.reindex(set(nsg_dict[key]).intersection(f1_dict[key])).dropna().index.tolist()\n",
    "f1_only = df.reindex(set(f1_dict[key]).difference(nsg_dict[key])).dropna().index.tolist()\n",
    "nsg_only = df.reindex(set(nsg_dict[key]).difference(f1_dict[key])).dropna().index.tolist()\n",
    "\n",
    "sets = [shared_set, f1_only, nsg_only]\n",
    "set_lengths = [len(i) for i in sets]\n",
    "\n",
    "f, axs = plt.subplots(3, 1, figsize=(1,3.5), gridspec_kw={'height_ratios': set_lengths})\n",
    "plt.subplots_adjust(hspace=0.025)\n",
    "for geneset, ax in zip(sets, axs):\n",
    "    print(len(geneset))\n",
    "    sns.heatmap(z_frame_c57.loc[geneset, :],\n",
    "                cmap='RdBu_r',\n",
    "                # linewidth=1,\n",
    "                # linecolor='k',\n",
    "                # z_score=2,\n",
    "                vmin=-2,\n",
    "                vmax=2,\n",
    "                # annot=True,\n",
    "                fmt='.1f',\n",
    "                xticklabels=0,\n",
    "                yticklabels=0,\n",
    "                cbar=False,\n",
    "                cbar_kws={'orientation':'vertical',\n",
    "                          'pad':0.05,\n",
    "                          'label':'-log2fc'},\n",
    "                ax=ax)\n",
    "\n",
    "# plt.savefig('./figures/'+key+'_heatmap_custom_order.ptpm_mat',\n",
    "#             bbox_inches='tight')"
   ]
  },
  {
   "cell_type": "markdown",
   "id": "academic-birth",
   "metadata": {},
   "source": [
    "## BALB\n",
    "### Log2Expression"
   ]
  },
  {
   "cell_type": "code",
   "execution_count": 46,
   "id": "covered-uzbekistan",
   "metadata": {},
   "outputs": [
    {
     "name": "stdout",
     "output_type": "stream",
     "text": [
      "27\n",
      "5\n",
      "23\n"
     ]
    },
    {
     "data": {
      "image/png": "[encoded data removed]",
      "text/plain": [
       "<Figure size 72x252 with 3 Axes>"
      ]
     },
     "metadata": {},
     "output_type": "display_data"
    }
   ],
   "source": [
    "key = 'cb6f1_kupffer_cis_balb_filt_pval'\n",
    "shared_set = df.reindex(set(nsg_dict[key]).intersection(f1_dict[key])).dropna().index.tolist()\n",
    "f1_only = df.reindex(set(f1_dict[key]).difference(nsg_dict[key])).dropna().index.tolist()\n",
    "nsg_only = df.reindex(set(nsg_dict[key]).difference(f1_dict[key])).dropna().index.tolist()\n",
    "\n",
    "sets = [shared_set, f1_only, nsg_only]\n",
    "set_lengths = [len(i) for i in sets]\n",
    "\n",
    "f, axs = plt.subplots(3, 1, figsize=(1,3.5), gridspec_kw={'height_ratios': set_lengths})\n",
    "plt.subplots_adjust(hspace=0.025)\n",
    "for geneset, ax in zip(sets, axs):\n",
    "    print(len(geneset))\n",
    "    sns.heatmap(np.log2(tpm_mat_balb.loc[geneset, :]+1),\n",
    "                cmap='Blues',\n",
    "                # linewidth=1,\n",
    "                # linecolor='k',\n",
    "                # z_score=2,\n",
    "                vmin=0,\n",
    "                vmax=10,\n",
    "                # annot=True,\n",
    "                fmt='.1f',\n",
    "                xticklabels=0,\n",
    "                yticklabels=0,\n",
    "                cbar=False,\n",
    "                cbar_kws={'orientation':'vertical',\n",
    "                          'pad':0.05,\n",
    "                          'label':'-log2fc'},\n",
    "                ax=ax)\n",
    "\n",
    "# plt.savefig('./figures/'+key+'_heatmap_custom_order.ptpm_mat',\n",
    "#             bbox_inches='tight')"
   ]
  },
  {
   "cell_type": "markdown",
   "id": "pleased-navigator",
   "metadata": {},
   "source": [
    "### Z Score"
   ]
  },
  {
   "cell_type": "code",
   "execution_count": 44,
   "id": "systematic-probability",
   "metadata": {},
   "outputs": [
    {
     "name": "stdout",
     "output_type": "stream",
     "text": [
      "27\n",
      "5\n",
      "23\n"
     ]
    },
    {
     "data": {
      "image/png": "[encoded data removed]",
      "text/plain": [
       "<Figure size 72x252 with 3 Axes>"
      ]
     },
     "metadata": {},
     "output_type": "display_data"
    }
   ],
   "source": [
    "key = 'cb6f1_kupffer_cis_balb_filt_pval'\n",
    "shared_set = df.reindex(set(nsg_dict[key]).intersection(f1_dict[key])).dropna().index.tolist()\n",
    "f1_only = df.reindex(set(f1_dict[key]).difference(nsg_dict[key])).dropna().index.tolist()\n",
    "nsg_only = df.reindex(set(nsg_dict[key]).difference(f1_dict[key])).dropna().index.tolist()\n",
    "\n",
    "sets = [shared_set, f1_only, nsg_only]\n",
    "set_lengths = [len(i) for i in sets]\n",
    "\n",
    "f, axs = plt.subplots(3, 1, figsize=(1,3.5), gridspec_kw={'height_ratios': set_lengths})\n",
    "plt.subplots_adjust(hspace=0.025)\n",
    "for geneset, ax in zip(sets, axs):\n",
    "    print(len(geneset))\n",
    "    sns.heatmap(z_frame_balb.loc[geneset, :],\n",
    "                cmap='RdBu_r',\n",
    "                # linewidth=1,\n",
    "                # linecolor='k',\n",
    "                # z_score=2,\n",
    "                vmin=-2,\n",
    "                vmax=2,\n",
    "                # annot=True,\n",
    "                fmt='.1f',\n",
    "                xticklabels=0,\n",
    "                yticklabels=0,\n",
    "                cbar=False,\n",
    "                cbar_kws={'orientation':'vertical',\n",
    "                          'pad':0.05,\n",
    "                          'label':'-log2fc'},\n",
    "                ax=ax)\n",
    "\n",
    "# plt.savefig('./figures/'+key+'_heatmap_custom_order.ptpm_mat',\n",
    "#             bbox_inches='tight')"
   ]
  },
  {
   "cell_type": "markdown",
   "id": "isolated-assembly",
   "metadata": {},
   "source": [
    "# Make colorbars"
   ]
  },
  {
   "cell_type": "code",
   "execution_count": 50,
   "id": "pharmaceutical-college",
   "metadata": {},
   "outputs": [
    {
     "data": {
      "image/png": "[encoded data removed]",
      "text/plain": [
       "<Figure size 144x72 with 2 Axes>"
      ]
     },
     "metadata": {
      "needs_background": "light"
     },
     "output_type": "display_data"
    }
   ],
   "source": [
    "fig, ax = plt.subplots(figsize=(2,1))\n",
    "\n",
    "cmap = matplotlib.cm.Greens\n",
    "norm = matplotlib.colors.Normalize(vmin=0, vmax=10)\n",
    "plt.gca().set_visible(False)\n",
    "cb = fig.colorbar(matplotlib.cm.ScalarMappable(norm=norm,  cmap=cmap),\n",
    "                  use_gridspec=True,\n",
    "                  orientation='horizontal',\n",
    "                  label='log2(TPM+1)',\n",
    "                  aspect=8)\n",
    "plt.savefig('./expression_heatmaps/c57bl6j_tpm_colorbar.pdf',\n",
    "            bbox_inches='tight')"
   ]
  },
  {
   "cell_type": "code",
   "execution_count": 51,
   "id": "ecological-exercise",
   "metadata": {},
   "outputs": [
    {
     "data": {
      "image/png": "[encoded data removed]",
      "text/plain": [
       "<Figure size 144x72 with 2 Axes>"
      ]
     },
     "metadata": {
      "needs_background": "light"
     },
     "output_type": "display_data"
    }
   ],
   "source": [
    "fig, ax = plt.subplots(figsize=(2,1))\n",
    "\n",
    "cmap = matplotlib.cm.Blues\n",
    "norm = matplotlib.colors.Normalize(vmin=0, vmax=10)\n",
    "plt.gca().set_visible(False)\n",
    "cb = fig.colorbar(matplotlib.cm.ScalarMappable(norm=norm,  cmap=cmap),\n",
    "                  use_gridspec=True,\n",
    "                  orientation='horizontal',\n",
    "                  label='log2(TPM+1)',\n",
    "                  aspect=8)\n",
    "plt.savefig('./expression_heatmaps/balbcj_tpm_colorbar.pdf',\n",
    "            bbox_inches='tight')"
   ]
  },
  {
   "cell_type": "code",
   "execution_count": 52,
   "id": "significant-sport",
   "metadata": {},
   "outputs": [
    {
     "data": {
      "image/png": "[encoded data removed]",
      "text/plain": [
       "<Figure size 144x72 with 2 Axes>"
      ]
     },
     "metadata": {
      "needs_background": "light"
     },
     "output_type": "display_data"
    }
   ],
   "source": [
    "fig, ax = plt.subplots(figsize=(2,1))\n",
    "\n",
    "cmap = matplotlib.cm.RdBu_r\n",
    "norm = matplotlib.colors.Normalize(vmin=-2, vmax=2)\n",
    "plt.gca().set_visible(False)\n",
    "cb = fig.colorbar(matplotlib.cm.ScalarMappable(norm=norm,  cmap=cmap),\n",
    "                  use_gridspec=True,\n",
    "                  orientation='horizontal',\n",
    "                  label='log2(TPM+1)',\n",
    "                  aspect=8)\n",
    "plt.savefig('./expression_heatmaps/z_scale_colorbar.pdf',\n",
    "            bbox_inches='tight')"
   ]
  },
  {
   "cell_type": "code",
   "execution_count": null,
   "id": "sacred-organ",
   "metadata": {},
   "outputs": [],
   "source": []
  }
 ],
 "metadata": {
  "kernelspec": {
   "display_name": "dataviz",
   "language": "python",
   "name": "dataviz"
  },
  "language_info": {
   "codemirror_mode": {
    "name": "ipython",
    "version": 3
   },
   "file_extension": ".py",
   "mimetype": "text/x-python",
   "name": "python",
   "nbconvert_exporter": "python",
   "pygments_lexer": "ipython3",
   "version": "3.7.5"
  }
 },
 "nbformat": 4,
 "nbformat_minor": 5
}
