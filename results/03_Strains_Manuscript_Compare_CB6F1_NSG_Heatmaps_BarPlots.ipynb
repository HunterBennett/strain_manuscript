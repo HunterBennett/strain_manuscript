{
 "cells": [
  {
   "cell_type": "markdown",
   "id": "regional-monroe",
   "metadata": {},
   "source": [
    "Hunter Bennett | June 16 2021"
   ]
  },
  {
   "cell_type": "code",
   "execution_count": 23,
   "id": "enabling-pharmacy",
   "metadata": {},
   "outputs": [
    {
     "name": "stdout",
     "output_type": "stream",
     "text": [
      "The autoreload extension is already loaded. To reload it, use:\n",
      "  %reload_ext autoreload\n"
     ]
    }
   ],
   "source": [
    "### header ###\n",
    "__author__ = \"Hunter Bennett\"\n",
    "__license__ = \"BSD\"\n",
    "__email__ = \"hunter.r.bennett@gmail.com\"\n",
    "%load_ext autoreload\n",
    "%autoreload 2\n",
    "%matplotlib inline\n",
    "### imports ###\n",
    "import sys\n",
    "import os\n",
    "import re\n",
    "import glob\n",
    "import pandas as pd\n",
    "import numpy as np\n",
    "import matplotlib\n",
    "import matplotlib.pyplot as plt\n",
    "from matplotlib.patches import Patch\n",
    "from matplotlib_venn import venn3\n",
    "import seaborn as sns\n",
    "\n",
    "# import custom functions\n",
    "sys.path.insert(0, '/home/h1bennet/code/')\n",
    "from hbUtils import ngs_qc, quantile_normalize_df\n",
    "from homer_preprocessing import import_homer_diffgene, read_homer_gene_exp, read_annotated_peaks\n",
    "from plotting_scripts import plot_exp_rpkm, gene_list_bar_plot"
   ]
  },
  {
   "cell_type": "code",
   "execution_count": 24,
   "id": "varied-period",
   "metadata": {},
   "outputs": [],
   "source": [
    "f1Dir = '/home/ttroutman/strainsKupffer/rnaKupfferF1/'\n",
    "nsgDir = '/home/ttroutman/strainsKupffer/rnaKupfferNSG_20210201/'\n",
    "workingDirectory = '/home/h1bennet/strains_manuscript/results/03_Strains_Manuscript_Compare_CB6F1_NSG//'\n",
    "if not os.path.isdir(workingDirectory):\n",
    "    os.mkdir(workingDirectory)\n",
    "os.chdir(workingDirectory)"
   ]
  },
  {
   "cell_type": "code",
   "execution_count": 25,
   "id": "equivalent-porcelain",
   "metadata": {},
   "outputs": [],
   "source": [
    "if not os.path.isdir('./tpm_bar_plots/'):\n",
    "    os.mkdir('./tpm_bar_plots/')"
   ]
  },
  {
   "cell_type": "code",
   "execution_count": 26,
   "id": "remarkable-blood",
   "metadata": {},
   "outputs": [],
   "source": [
    "#### PLOTTING PARAMETERS FOR MANUSCRIPT ####\n",
    "# # get matplotlib to save readable fonts\n",
    "matplotlib.rcParams['pdf.fonttype'] = 42\n",
    "matplotlib.rcParams['ps.fonttype'] = 42\n",
    "matplotlib.rcParams['font.size'] = 6\n",
    "matplotlib.rcParams['savefig.dpi'] = 500\n",
    "\n",
    "\n",
    "# line widths\n",
    "matplotlib.rcParams['axes.linewidth'] = 1\n",
    "matplotlib.rcParams['xtick.major.width'] = 1\n",
    "matplotlib.rcParams['ytick.major.width'] = 1\n",
    "\n",
    "# adjust defualt color for plots to black\n",
    "# normal default is a dark gray\n",
    "COLOR = 'black'\n",
    "matplotlib.rcParams['text.color'] = COLOR\n",
    "matplotlib.rcParams['axes.labelcolor'] = COLOR\n",
    "matplotlib.rcParams['xtick.color'] = COLOR\n",
    "matplotlib.rcParams['ytick.color'] = COLOR\n",
    "matplotlib.rcParams['axes.edgecolor'] = COLOR\n",
    "\n",
    "#### PLOT PARAMETERS FOR THIS PLOT ####"
   ]
  },
  {
   "cell_type": "code",
   "execution_count": 27,
   "id": "military-civilization",
   "metadata": {},
   "outputs": [],
   "source": [
    "def paired_bar_plot_illus(gene, data, groups, group_labels,\n",
    "                          pair_labels, pair_colors=['#bdbdbd', '#636363'],\n",
    "                          width=0.5, capsize=10, ax=None):\n",
    "\n",
    "    # only works with one gene\n",
    "    \n",
    "    # read in means, in this case group will be a list of pairs.\n",
    "    means_g1 = []\n",
    "    stds_g1 = []\n",
    "    means_g2 = []\n",
    "    stds_g2 = []\n",
    "    for (group, label) in zip(groups_paired, group_labels_paired):\n",
    "        means_g1.append(data.iloc[:, group[0]].reindex(gene).mean(1).values[0])\n",
    "        stds_g1.append(data.iloc[:, group[0]].reindex(gene).std(1).values[0])\n",
    "        means_g2.append(data.iloc[:, group[1]].reindex(gene).mean(1).values[0])\n",
    "        stds_g2.append(data.iloc[:, group[1]].reindex(gene).std(1).values[0] )\n",
    "        \n",
    "    x = np.arange(len(group_labels))  # the label locations\n",
    "    width = width  # the width of the bars\n",
    "    \n",
    "    # set axis\n",
    "    if ax==None:\n",
    "        ax = plt.gca()\n",
    "    \n",
    "    rects1 = ax.bar(x - width/2, means_g1, width, label=pair_labels[0], color=pair_colors[0],\n",
    "                    yerr=[np.zeros(len(stds_g1)), stds_g1],\n",
    "                    edgecolor='k',\n",
    "                    linewidth=1,\n",
    "                    error_kw={'elinewidth':1,\n",
    "                              'capthick':1,\n",
    "                              'capsize':capsize})\n",
    "    rects2 = ax.bar(x + width/2, means_g2, width, label=pair_labels[1], color=pair_colors[1],\n",
    "                    yerr=[np.zeros(len(stds_g2)), stds_g2],\n",
    "                    edgecolor='k',\n",
    "                    linewidth=1,\n",
    "                    error_kw={'elinewidth':1,\n",
    "                              'capthick':1,\n",
    "                              'capsize':capsize})\n",
    "\n",
    "    # Add some text for labels, title and custom x-axis tick labels, etc.\n",
    "    # ax.set_ylabel('TPM')\n",
    "    # ax.set_title('Scores by group and gender')\n",
    "    ax.set_xticks(x)\n",
    "    ax.set_xticklabels(group_labels_paired)\n",
    "    ax.legend()\n"
   ]
  },
  {
   "cell_type": "markdown",
   "id": "simplified-analyst",
   "metadata": {},
   "source": [
    "# Read in gene expression files"
   ]
  },
  {
   "cell_type": "code",
   "execution_count": 28,
   "id": "drawn-quarter",
   "metadata": {},
   "outputs": [],
   "source": [
    "df_f1 = pd.read_csv('/home/ttroutman/strainsKupffer/rnaKupfferF1/rnaQuan/rawT.txt',\n",
    "                    sep='\\t',\n",
    "                    index_col=0)\n",
    "\n",
    "df_f1 = df_f1.loc[:, df_f1.columns.str.contains('variants')]"
   ]
  },
  {
   "cell_type": "code",
   "execution_count": 29,
   "id": "functional-pendant",
   "metadata": {},
   "outputs": [],
   "source": [
    "df_nsg = pd.read_csv('/home/ttroutman/strainsKupffer/rnaKupfferNSG_20210201/rnaQuan/rawT.txt',\n",
    "                    sep='\\t',\n",
    "                    index_col=0)"
   ]
  },
  {
   "cell_type": "markdown",
   "id": "bibliographic-rochester",
   "metadata": {},
   "source": [
    "### merge files"
   ]
  },
  {
   "cell_type": "code",
   "execution_count": 30,
   "id": "hired-afghanistan",
   "metadata": {},
   "outputs": [],
   "source": [
    "tpm_mat = df_f1.merge(df_nsg, left_index=True, right_index=True, how='outer')"
   ]
  },
  {
   "cell_type": "markdown",
   "id": "conventional-copper",
   "metadata": {},
   "source": [
    "### Make Plots"
   ]
  },
  {
   "cell_type": "code",
   "execution_count": 31,
   "id": "accessible-commonwealth",
   "metadata": {},
   "outputs": [],
   "source": [
    "groups_paired = [[[8,9],[13,14]],\n",
    "          [[10,11,12],[15,16,17]],\n",
    "          [[0,1,2,3],[4,5,6,7]]]\n",
    "\n",
    "group_labels_paired = ['F0', 'NSG', 'F1']\n",
    "\n",
    "colors = ['#3182bd',\n",
    "          '#31a354',\n",
    "          '#08519c',\n",
    "          '#006d2c',\n",
    "          '#6baed6',\n",
    "          '#74c476']\n",
    "\n",
    "pair_colors = ['#3182bd', '#31a354']\n",
    "pair_labels = ['BALB/cJ', 'C57BL/6J']\n",
    "\n",
    "legend_elements = []\n",
    "for lab, col in  zip(pair_labels, pair_colors):\n",
    "    legend_elements.append(Patch(label=lab, color=col))"
   ]
  },
  {
   "cell_type": "code",
   "execution_count": 32,
   "id": "extended-haiti",
   "metadata": {},
   "outputs": [],
   "source": [
    "trans_genes = [ 'Tgfbi', 'Gsr', 'Hmga1b', 'Cxcr4', 'Cd52', 'Oas3']"
   ]
  },
  {
   "cell_type": "markdown",
   "id": "intensive-contributor",
   "metadata": {},
   "source": [
    "* First column are trans genes that are not significantly different in either comparison.\n",
    "* Second column are trans genes that are in the NSG and F0\n",
    "* Third column are trans genes that are in the F1 and F0"
   ]
  },
  {
   "cell_type": "code",
   "execution_count": 39,
   "id": "incorrect-guidance",
   "metadata": {},
   "outputs": [
    {
     "data": {
      "image/png": "[encoded data removed]",
      "text/plain": [
       "<Figure size 432x288 with 1 Axes>"
      ]
     },
     "metadata": {
      "needs_background": "light"
     },
     "output_type": "display_data"
    }
   ],
   "source": [
    "paired_bar_plot_illus(['Gcnt1'],\n",
    "                          data=tpm_mat,\n",
    "                          groups=groups_paired,\n",
    "                          group_labels=group_labels_paired,\n",
    "                          pair_labels=pair_labels,\n",
    "                          pair_colors=pair_colors,\n",
    "                          width=0.3,\n",
    "                          capsize=2)\n",
    "    "
   ]
  },
  {
   "cell_type": "code",
   "execution_count": 40,
   "id": "collect-olympus",
   "metadata": {},
   "outputs": [],
   "source": [
    "trans_genes = [ 'Tgfbi', 'Gsr', 'Adgb', 'Cxcr4', 'Sirpb1a', 'Oas3']"
   ]
  },
  {
   "cell_type": "code",
   "execution_count": 41,
   "id": "norwegian-hundred",
   "metadata": {},
   "outputs": [
    {
     "data": {
      "image/png": "[encoded data removed]",
      "text/plain": [
       "<Figure size 288x144 with 6 Axes>"
      ]
     },
     "metadata": {
      "needs_background": "light"
     },
     "output_type": "display_data"
    }
   ],
   "source": [
    "fig, axs = plt.subplots(2, 3, figsize=(4,2))\n",
    "plt.subplots_adjust(wspace=0.4, hspace=0.6)\n",
    "\n",
    "\n",
    "for gene, ax in zip(trans_genes, axs.flat):\n",
    "    paired_bar_plot_illus([gene],\n",
    "                          data=tpm_mat,\n",
    "                          groups=groups_paired,\n",
    "                          group_labels=group_labels_paired,\n",
    "                          pair_labels=pair_labels,\n",
    "                          pair_colors=pair_colors,\n",
    "                          width=0.3,\n",
    "                          capsize=2,\n",
    "                          ax=ax)\n",
    "    \n",
    "    # Hide the right and top spines\n",
    "    ax.spines['right'].set_visible(False)\n",
    "    ax.spines['top'].set_visible(False)\n",
    "    # ax.get_legend().remove()\n",
    "    ax.set_ylabel('')\n",
    "    ax.set_title(gene)\n",
    "    # ax.set_xticks([])\n",
    "    # ax.set_xticklabels('')\n",
    "    \n",
    "axs[0][0].set_ylabel('TPM');\n",
    "axs[1][0].set_ylabel('TPM');\n",
    "# axs[2][0].set_ylabel('TPM');\n",
    "\n",
    "plt.savefig('./figures/tpm_barplot_trans_gene_examples_legend.pdf',\n",
    "            bbox_inches='tight')"
   ]
  },
  {
   "cell_type": "code",
   "execution_count": 42,
   "id": "absent-scene",
   "metadata": {},
   "outputs": [
    {
     "data": {
      "image/png": "[encoded data removed]",
      "text/plain": [
       "<Figure size 288x144 with 6 Axes>"
      ]
     },
     "metadata": {
      "needs_background": "light"
     },
     "output_type": "display_data"
    }
   ],
   "source": [
    "fig, axs = plt.subplots(2, 3, figsize=(4,2))\n",
    "plt.subplots_adjust(wspace=0.4, hspace=0.6)\n",
    "\n",
    "\n",
    "for gene, ax in zip(trans_genes, axs.flat):\n",
    "    paired_bar_plot_illus([gene],\n",
    "                          data=tpm_mat,\n",
    "                          groups=groups_paired,\n",
    "                          group_labels=group_labels_paired,\n",
    "                          pair_labels=pair_labels,\n",
    "                          pair_colors=pair_colors,\n",
    "                          width=0.3,\n",
    "                          capsize=2,\n",
    "                          ax=ax)\n",
    "    \n",
    "    # Hide the right and top spines\n",
    "    ax.spines['right'].set_visible(False)\n",
    "    ax.spines['top'].set_visible(False)\n",
    "    ax.get_legend().remove()\n",
    "    ax.set_ylabel('')\n",
    "    ax.set_title(gene)\n",
    "    # ax.set_xticks([])\n",
    "    # ax.set_xticklabels('')\n",
    "    \n",
    "axs[0][0].set_ylabel('TPM');\n",
    "axs[1][0].set_ylabel('TPM');\n",
    "# axs[2][0].set_ylabel('TPM');\n",
    "\n",
    "plt.savefig('./figures/tpm_barplot_trans_gene_examples_nolegend.pdf',\n",
    "            bbox_inches='tight')"
   ]
  },
  {
   "cell_type": "markdown",
   "id": "wanted-transcription",
   "metadata": {},
   "source": [
    "# Compare cis / trans / mixed lists...\n",
    "How many trans regulated genes are shared between sets..."
   ]
  },
  {
   "cell_type": "code",
   "execution_count": 29,
   "id": "honest-supervision",
   "metadata": {},
   "outputs": [],
   "source": [
    "f1_dict = {}\n",
    "for genelist in glob.glob('/home/h1bennet/strains_rna/results/K03_CB6F1_Kupffer_RNA/gene_lists/*filt_pval.txt'):\n",
    "    with open(genelist, 'r') as f:\n",
    "        listid = genelist.split('/')[-1].replace('.txt','')\n",
    "        f1_dict[listid] = [i.strip() for i in f.readlines()[1:]]"
   ]
  },
  {
   "cell_type": "code",
   "execution_count": 30,
   "id": "standing-trader",
   "metadata": {},
   "outputs": [],
   "source": [
    "nsg_dict = {}\n",
    "for genelist in glob.glob('/home/h1bennet/strains_rna/results/K03_NSG_Kupffer_RNA/gene_lists/*filt_pval.txt'):\n",
    "    with open(genelist, 'r') as f:\n",
    "        listid = genelist.split('/')[-1].replace('.txt','')\n",
    "        nsg_dict[listid] = [i.strip() for i in f.readlines()[1:]]"
   ]
  },
  {
   "cell_type": "markdown",
   "id": "valid-yield",
   "metadata": {},
   "source": [
    "# Are mixed genes expressed in the F0"
   ]
  },
  {
   "cell_type": "markdown",
   "id": "offensive-vatican",
   "metadata": {},
   "source": [
    "Compare expression to KC spec amit genes"
   ]
  },
  {
   "cell_type": "code",
   "execution_count": 64,
   "id": "accepting-surveillance",
   "metadata": {},
   "outputs": [],
   "source": [
    "with open('/gpfs/data01/glasslab/home/h1bennet/data/Amit_KC_genelist.txt', 'r') as f:\n",
    "    kc_list = [i.strip().replace('\\\"','') for i in f.readlines()]"
   ]
  },
  {
   "cell_type": "code",
   "execution_count": 65,
   "id": "earlier-neutral",
   "metadata": {},
   "outputs": [],
   "source": [
    "all_mixed = set(f1_dict['cb6f1_kupffer_mixed_c57_filt_pval']).union(f1_dict['cb6f1_kupffer_mixed_balb_filt_pval'])"
   ]
  },
  {
   "cell_type": "code",
   "execution_count": 67,
   "id": "reserved-terminal",
   "metadata": {},
   "outputs": [
    {
     "name": "stderr",
     "output_type": "stream",
     "text": [
      "/gpfs/data01/glasslab/home/h1bennet/.conda/envs/dataviz/lib/python3.7/site-packages/pandas/core/indexing.py:1418: FutureWarning: \n",
      "Passing list-likes to .loc or [] with any missing label will raise\n",
      "KeyError in the future, you can use .reindex() as an alternative.\n",
      "\n",
      "See the documentation here:\n",
      "https://pandas.pydata.org/pandas-docs/stable/user_guide/indexing.html#deprecate-loc-reindex-listlike\n",
      "  return self._getitem_tuple(key)\n"
     ]
    }
   ],
   "source": [
    "set_expression = [\n",
    "    np.log2(tpm_mat.loc[kc_list, tpm_mat.columns.str.contains('c57bl6j_control')].mean(1)+1),\n",
    "    np.log2(tpm_mat.loc[all_mixed, tpm_mat.columns.str.contains('c57bl6j_control')].mean(1)+1),\n",
    "    np.log2(tpm_mat.loc[kc_list, tpm_mat.columns.str.contains('balbcj_control')].mean(1)+1),\n",
    "    np.log2(tpm_mat.loc[all_mixed, tpm_mat.columns.str.contains('balbcj_control')].mean(1)+1)]"
   ]
  },
  {
   "cell_type": "code",
   "execution_count": 85,
   "id": "juvenile-fruit",
   "metadata": {},
   "outputs": [],
   "source": [
    "colors = ['#31a354', '#a1d99b', '#3182bd', '#9ecae1']\n",
    "labels = ['C57BL/6J F0 KC Spec',\n",
    "               'C57BL/6J F0 Mixed',\n",
    "               'BALB/cJ F0 KC Spec',\n",
    "               'BALB/cJ F0 Mixed' ]\n",
    "\n",
    "legend_elements = []\n",
    "for lab, col in  zip(labels, colors):\n",
    "    legend_elements.append(Patch(label=lab, color=col))"
   ]
  },
  {
   "cell_type": "code",
   "execution_count": 86,
   "id": "guided-crawford",
   "metadata": {},
   "outputs": [],
   "source": [
    "c='k'"
   ]
  },
  {
   "cell_type": "code",
   "execution_count": 91,
   "id": "varying-comedy",
   "metadata": {},
   "outputs": [
    {
     "data": {
      "image/png": "[encoded data removed]",
      "text/plain": [
       "<Figure size 144x72 with 2 Axes>"
      ]
     },
     "metadata": {
      "needs_background": "light"
     },
     "output_type": "display_data"
    }
   ],
   "source": [
    "fig, (ax1, ax2) = plt.subplots(1,2,figsize=(2,1))\n",
    "c='k'\n",
    "g = sns.boxplot(data=set_expression,\n",
    "                boxprops=dict(edgecolor=c),\n",
    "                capprops=dict(color=c),\n",
    "                whiskerprops=dict(color=c),\n",
    "                flierprops=dict(color=c, markeredgecolor=c),\n",
    "                medianprops=dict(color=c),\n",
    "                palette = ['#31a354',\n",
    "                           '#a1d99b',\n",
    "                           '#3182bd',\n",
    "                           '#9ecae1'],\n",
    "                ax=ax1,\n",
    "                width=0.5,\n",
    "                linewidth=0.5,\n",
    "                showfliers=True,\n",
    "                # rasterized=True,\n",
    "                # legend=True,\n",
    "                fliersize=0.5)\n",
    "\n",
    "# Hide the right and top spines\n",
    "ax1.spines['right'].set_visible(False)\n",
    "ax1.spines['top'].set_visible(False)\n",
    "\n",
    "ax2.spines['right'].set_visible(False)\n",
    "ax2.spines['left'].set_visible(False)\n",
    "ax2.spines['top'].set_visible(False)\n",
    "ax2.spines['bottom'].set_visible(False)\n",
    "\n",
    "\n",
    "ax2.legend(handles=legend_elements)\n",
    "\n",
    "plt.savefig('./figures/mixed_gene_expression_f0.pdf',\n",
    "            bbox_inches='tight')"
   ]
  },
  {
   "cell_type": "code",
   "execution_count": 84,
   "id": "rising-demand",
   "metadata": {},
   "outputs": [
    {
     "data": {
      "text/plain": [
       "<matplotlib.axes._subplots.AxesSubplot at 0x7fded50c0710>"
      ]
     },
     "execution_count": 84,
     "metadata": {},
     "output_type": "execute_result"
    },
    {
     "data": {
      "image/png": "[encoded data removed]",
      "text/plain": [
       "<Figure size 432x288 with 2 Axes>"
      ]
     },
     "metadata": {
      "needs_background": "light"
     },
     "output_type": "display_data"
    }
   ],
   "source": [
    "sns.heatmap(\n",
    "    np.log2(tpm_mat.loc[f1_dict['cb6f1_kupffer_mixed_c57_filt_pval'], :]+1),\n",
    "    cmap='Reds')"
   ]
  },
  {
   "cell_type": "markdown",
   "id": "quiet-initial",
   "metadata": {},
   "source": [
    "# Pull average expression"
   ]
  },
  {
   "cell_type": "code",
   "execution_count": 47,
   "id": "absent-noise",
   "metadata": {},
   "outputs": [
    {
     "data": {
      "text/plain": [
       "Index(['balbcj_variants_rep1', 'balbcj_variants_rep2', 'balbcj_variants_rep3',\n",
       "       'balbcj_variants_rep4', 'c57bl6j_variants_rep1',\n",
       "       'c57bl6j_variants_rep2', 'c57bl6j_variants_rep3',\n",
       "       'c57bl6j_variants_rep4', 'balbcj_control_rep1', 'balbcj_control_rep2',\n",
       "       'balbcj_NSG_rep1', 'balbcj_NSG_rep2', 'balbcj_NSG_rep3',\n",
       "       'c57bl6j_control_rep1', 'c57bl6j_control_rep2', 'c57bl6j_NSG_rep1',\n",
       "       'c57bl6j_NSG_rep2', 'c57bl6j_NSG_rep3'],\n",
       "      dtype='object')"
      ]
     },
     "execution_count": 47,
     "metadata": {},
     "output_type": "execute_result"
    }
   ],
   "source": [
    "tpm_mat.columns"
   ]
  },
  {
   "cell_type": "code",
   "execution_count": null,
   "id": "incoming-marriage",
   "metadata": {},
   "outputs": [],
   "source": []
  },
  {
   "cell_type": "code",
   "execution_count": 44,
   "id": "executed-mistress",
   "metadata": {
    "scrolled": true
   },
   "outputs": [
    {
     "data": {
      "text/plain": [
       "4931440P22Rik       7.2715\n",
       "Alpk1              31.9365\n",
       "Ap1s2              54.7545\n",
       "Apool               7.4415\n",
       "Arhgap4           120.3640\n",
       "Atp10d             24.4085\n",
       "Atp7a              26.8505\n",
       "Brox               26.6425\n",
       "Ccrl2              10.6385\n",
       "Cd99l2              9.1755\n",
       "Chchd2             30.2625\n",
       "Chm                15.4445\n",
       "Coro2a             34.4365\n",
       "Diaph2             19.4545\n",
       "Elf4               71.3260\n",
       "Fech               36.7330\n",
       "Flna              186.7605\n",
       "Fmr1               22.2085\n",
       "Ftl1             3436.4185\n",
       "Fus                83.0995\n",
       "Gdi1               82.9615\n",
       "Gla                 8.5675\n",
       "Glrx               20.6440\n",
       "Gm7367             17.6610\n",
       "Gm8615              6.4820\n",
       "Hmga1              19.7420\n",
       "Hmga1b             21.1520\n",
       "Hnrnph2            20.1815\n",
       "Huwe1              36.8060\n",
       "Magt1              33.8505\n",
       "Map3k15            14.7000\n",
       "Mbtps2             16.4105\n",
       "Mospd2             61.9500\n",
       "Ndufc2             40.6920\n",
       "Paqr4               7.2010\n",
       "Pdk3               15.1315\n",
       "Psma3               6.9075\n",
       "Rpl37rt            78.1680\n",
       "Rps20              21.8695\n",
       "Sash3              31.7085\n",
       "Sh3bgrl           168.5015\n",
       "Sh3kbp1            47.0950\n",
       "Stard8             20.6175\n",
       "Taz                55.3975\n",
       "Tlr8              100.6250\n",
       "Trim12c            17.6900\n",
       "Trmt2b             10.7325\n",
       "Tsc22d3            97.7800\n",
       "Tspyl2             17.6295\n",
       "Ubald2             16.4270\n",
       "Ubqln2             22.9915\n",
       "Zfp280c            11.4855\n",
       "dtype: float64"
      ]
     },
     "execution_count": 44,
     "metadata": {},
     "output_type": "execute_result"
    }
   ],
   "source": [
    "tpm_mat.loc[f1_dict['cb6f1_kupffer_mixed_balb_filt_pval'],\n",
    "            tpm_mat.columns.str.contains('c57bl6j_control')].mean(1)"
   ]
  },
  {
   "cell_type": "code",
   "execution_count": 45,
   "id": "compound-confidentiality",
   "metadata": {},
   "outputs": [
    {
     "data": {
      "text/plain": [
       "4931440P22Rik       8.3685\n",
       "Alpk1              59.9450\n",
       "Ap1s2              52.1620\n",
       "Apool              11.1275\n",
       "Arhgap4           103.5845\n",
       "Atp10d             36.8770\n",
       "Atp7a              27.2175\n",
       "Brox               26.2660\n",
       "Ccrl2              14.9060\n",
       "Cd99l2             13.4945\n",
       "Chchd2             58.7945\n",
       "Chm                12.6635\n",
       "Coro2a             62.7685\n",
       "Diaph2             12.5545\n",
       "Elf4               45.1380\n",
       "Fech               33.1465\n",
       "Flna              216.0105\n",
       "Fmr1               21.4405\n",
       "Ftl1             6537.1870\n",
       "Fus               123.9875\n",
       "Gdi1               77.2400\n",
       "Gla                17.4720\n",
       "Glrx               34.8530\n",
       "Gm7367             30.2985\n",
       "Gm8615             10.1165\n",
       "Hmga1               7.7230\n",
       "Hmga1b              7.8180\n",
       "Hnrnph2            30.8580\n",
       "Huwe1              33.3235\n",
       "Magt1              41.2035\n",
       "Map3k15            14.5260\n",
       "Mbtps2             17.8080\n",
       "Mospd2             49.0235\n",
       "Ndufc2             35.0340\n",
       "Paqr4              13.8000\n",
       "Pdk3               11.3950\n",
       "Psma3               9.4390\n",
       "Rpl37rt           141.5290\n",
       "Rps20              33.7370\n",
       "Sash3              33.2825\n",
       "Sh3bgrl           165.3650\n",
       "Sh3kbp1            39.9555\n",
       "Stard8             24.0890\n",
       "Taz                58.2085\n",
       "Tlr8              112.9465\n",
       "Trim12c            26.8365\n",
       "Trmt2b             10.1770\n",
       "Tsc22d3           143.9230\n",
       "Tspyl2             21.1840\n",
       "Ubald2             28.0885\n",
       "Ubqln2             29.9390\n",
       "Zfp280c             6.0385\n",
       "dtype: float64"
      ]
     },
     "execution_count": 45,
     "metadata": {},
     "output_type": "execute_result"
    }
   ],
   "source": [
    "tpm_mat.loc[f1_dict['cb6f1_kupffer_mixed_balb_filt_pval'],\n",
    "            tpm_mat.columns.str.contains('balbcj_control')].mean(1)"
   ]
  },
  {
   "cell_type": "markdown",
   "id": "loose-safety",
   "metadata": {},
   "source": [
    "Compare overlap of all sets..."
   ]
  },
  {
   "cell_type": "code",
   "execution_count": 31,
   "id": "hydraulic-hardware",
   "metadata": {
    "scrolled": false
   },
   "outputs": [
    {
     "name": "stdout",
     "output_type": "stream",
     "text": [
      "cb6f1_kupffer_trans_balb_filt_pval\n",
      "63 genes in F1 set\n",
      "84 genes in NSG set\n",
      "35 / 112 genes shared\n",
      "cb6f1_kupffer_cis_balb_filt_pval\n",
      "39 genes in F1 set\n",
      "77 genes in NSG set\n",
      "27 / 89 genes shared\n",
      "cb6f1_kupffer_cis_c57_filt_pval\n",
      "44 genes in F1 set\n",
      "73 genes in NSG set\n",
      "36 / 81 genes shared\n",
      "cb6f1_kupffer_trans_c57_filt_pval\n",
      "61 genes in F1 set\n",
      "88 genes in NSG set\n",
      "44 / 105 genes shared\n",
      "cb6f1_kupffer_mixed_c57_filt_pval\n",
      "33 genes in F1 set\n",
      "17 genes in NSG set\n",
      "2 / 48 genes shared\n",
      "cb6f1_kupffer_mixed_balb_filt_pval\n",
      "52 genes in F1 set\n",
      "18 genes in NSG set\n",
      "3 / 67 genes shared\n"
     ]
    }
   ],
   "source": [
    "for key in f1_dict.keys():\n",
    "    print(key)\n",
    "    print(len(f1_dict[key]), 'genes in F1 set')\n",
    "    print(len(nsg_dict[key]), 'genes in NSG set')\n",
    "    shared = set(nsg_dict[key]).intersection(f1_dict[key])\n",
    "    total = set(nsg_dict[key]).union(f1_dict[key])\n",
    "    print('%i / %i genes shared' % (len(shared), len(total)))"
   ]
  },
  {
   "cell_type": "code",
   "execution_count": 13,
   "id": "nasty-detroit",
   "metadata": {},
   "outputs": [],
   "source": [
    "df_f1 = pd.read_csv('/home/ttroutman/strainsKupffer/rnaKupfferF1//rnaDiff/balbcj_variants.vs.c57bl6j_variants.scatter.txt',\n",
    "                    sep='\\t', index_col=0)\n"
   ]
  },
  {
   "cell_type": "code",
   "execution_count": 14,
   "id": "thermal-mainland",
   "metadata": {},
   "outputs": [],
   "source": [
    "df_nsg = pd.read_csv('/home/ttroutman/strainsKupffer/rnaKupfferNSG_20210201//rnaDiff/balbcj_NSG.vs.c57bl6j_NSG.scatter.txt',\n",
    "                 sep='\\t', index_col=0)"
   ]
  },
  {
   "cell_type": "code",
   "execution_count": 18,
   "id": "biblical-milton",
   "metadata": {},
   "outputs": [],
   "source": [
    "df_control = pd.read_csv('/home/ttroutman/strainsKupffer/rnaKupfferNSG_20210201//rnaDiff/balbcj_control.vs.c57bl6j_control.scatter.txt',\n",
    "                         sep='\\t', index_col=0)"
   ]
  },
  {
   "cell_type": "code",
   "execution_count": 21,
   "id": "sufficient-charter",
   "metadata": {},
   "outputs": [],
   "source": [
    "df = df_control.merge(df_f1.merge(df_nsg, left_index=True, right_index=True, how='inner', suffixes=('_f1','_nsg')),\n",
    "                      left_index=True,\n",
    "                      right_index=True,\n",
    "                      how='inner',\n",
    "                      suffixes=('_control', ''))"
   ]
  },
  {
   "cell_type": "markdown",
   "id": "bored-recruitment",
   "metadata": {},
   "source": [
    "# We will use a custom ordering to separate into F0, F1, NSG specific"
   ]
  },
  {
   "cell_type": "markdown",
   "id": "informative-jacob",
   "metadata": {},
   "source": [
    "First write out sets to a new list"
   ]
  },
  {
   "cell_type": "code",
   "execution_count": 148,
   "id": "black-bikini",
   "metadata": {},
   "outputs": [],
   "source": [
    "if not os.path.isdir('./gene_list_subsets/'):\n",
    "    os.mkdir('./gene_list_subsets')"
   ]
  },
  {
   "cell_type": "code",
   "execution_count": 149,
   "id": "unsigned-continuity",
   "metadata": {},
   "outputs": [
    {
     "name": "stdout",
     "output_type": "stream",
     "text": [
      "cb6f1_kupffer_trans_balb_filt_pval_shared_set : 35\n",
      "cb6f1_kupffer_trans_balb_filt_pval_f1_only : 23\n",
      "cb6f1_kupffer_trans_balb_filt_pval_nsg_only : 5\n",
      "cb6f1_kupffer_cis_balb_filt_pval_shared_set : 27\n",
      "cb6f1_kupffer_cis_balb_filt_pval_f1_only : 5\n",
      "cb6f1_kupffer_cis_balb_filt_pval_nsg_only : 23\n",
      "cb6f1_kupffer_cis_c57_filt_pval_shared_set : 36\n",
      "cb6f1_kupffer_cis_c57_filt_pval_f1_only : 3\n",
      "cb6f1_kupffer_cis_c57_filt_pval_nsg_only : 14\n",
      "cb6f1_kupffer_trans_c57_filt_pval_shared_set : 44\n",
      "cb6f1_kupffer_trans_c57_filt_pval_f1_only : 15\n",
      "cb6f1_kupffer_trans_c57_filt_pval_nsg_only : 3\n",
      "cb6f1_kupffer_mixed_c57_filt_pval_shared_set : 2\n",
      "cb6f1_kupffer_mixed_c57_filt_pval_f1_only : 30\n",
      "cb6f1_kupffer_mixed_c57_filt_pval_nsg_only : 6\n",
      "cb6f1_kupffer_mixed_balb_filt_pval_shared_set : 3\n",
      "cb6f1_kupffer_mixed_balb_filt_pval_f1_only : 48\n",
      "cb6f1_kupffer_mixed_balb_filt_pval_nsg_only : 9\n"
     ]
    }
   ],
   "source": [
    "for key in nsg_dict.keys():\n",
    "    \n",
    "    shared_set = df.reindex(set(nsg_dict[key]).intersection(f1_dict[key])).dropna().index.tolist()\n",
    "    f1_only = df.reindex(set(f1_dict[key]).difference(nsg_dict[key])).dropna().index.tolist()\n",
    "    nsg_only = df.reindex(set(nsg_dict[key]).difference(f1_dict[key])).dropna().index.tolist()\n",
    "    \n",
    "    sets = [shared_set, f1_only, nsg_only]\n",
    "    set_labels = ['shared_set', 'f1_only', 'nsg_only']\n",
    "    \n",
    "    for listname, genelist in zip(set_labels, sets):\n",
    "        print(key+'_'+listname, \":\", len(genelist))\n",
    "        with open('./gene_list_subsets/'+key+'_'+listname+'_.txt', 'w') as f:\n",
    "            f.write('Gene\\n')\n",
    "            for i in genelist:\n",
    "                f.write(i+'\\n')\n",
    "            f.close()"
   ]
  },
  {
   "cell_type": "markdown",
   "id": "italic-theory",
   "metadata": {},
   "source": [
    "# Check promoter motifs just in case"
   ]
  },
  {
   "cell_type": "code",
   "execution_count": 150,
   "id": "ceramic-arizona",
   "metadata": {},
   "outputs": [],
   "source": [
    "if not os.path.isdir('./promoter_motif_subsets/'):\n",
    "    os.mkdir('./promoter_motif_subsets/')"
   ]
  },
  {
   "cell_type": "code",
   "execution_count": null,
   "id": "stunning-circular",
   "metadata": {},
   "outputs": [],
   "source": [
    "%%bash\n",
    "\n",
    "for i in ./gene_list_subsets/*.txt;\n",
    "do out=${i/gene_list_subsets/promoter_motif_subsets};\n",
    "out=${out/.txt/_motifs};\n",
    "findMotifs.pl $i mouse $out -p 8; done"
   ]
  },
  {
   "cell_type": "markdown",
   "id": "committed-pierre",
   "metadata": {},
   "source": [
    "## Trans"
   ]
  },
  {
   "cell_type": "code",
   "execution_count": 139,
   "id": "driven-algebra",
   "metadata": {},
   "outputs": [
    {
     "name": "stdout",
     "output_type": "stream",
     "text": [
      "44\n",
      "15\n",
      "3\n"
     ]
    },
    {
     "data": {
      "image/png": "[encoded data removed]",
      "text/plain": [
       "<Figure size 72x252 with 3 Axes>"
      ]
     },
     "metadata": {},
     "output_type": "display_data"
    }
   ],
   "source": [
    "key = 'cb6f1_kupffer_trans_c57_filt_pval'\n",
    "shared_set = df.reindex(set(nsg_dict[key]).intersection(f1_dict[key])).dropna().index.tolist()\n",
    "f1_only = df.reindex(set(f1_dict[key]).difference(nsg_dict[key])).dropna().index.tolist()\n",
    "nsg_only = df.reindex(set(nsg_dict[key]).difference(f1_dict[key])).dropna().index.tolist()\n",
    "\n",
    "sets = [shared_set, f1_only, nsg_only]\n",
    "set_lengths = [len(i) for i in sets]\n",
    "\n",
    "f, axs = plt.subplots(3, 1, figsize=(1,3.5), gridspec_kw={'height_ratios': set_lengths})\n",
    "plt.subplots_adjust(hspace=0.025)\n",
    "for geneset, ax in zip(sets, axs):\n",
    "    print(len(geneset))\n",
    "    sns.heatmap(df.loc[geneset, log2fc_cols].sort_values('log2FoldChange', ascending=False),\n",
    "                cmap='Reds',\n",
    "                # linewidth=1,\n",
    "                # linecolor='k',\n",
    "                # z_score=2,\n",
    "                vmin=0,\n",
    "                vmax=2,\n",
    "                # annot=True,\n",
    "                fmt='.1f',\n",
    "                xticklabels=0,\n",
    "                yticklabels=0,\n",
    "                cbar=False,\n",
    "                cbar_kws={'orientation':'vertical',\n",
    "                          'pad':0.05,\n",
    "                          'label':'-log2fc'},\n",
    "                ax=ax)\n",
    "\n",
    "plt.savefig('./figures/'+key+'_heatmap_custom_order.pdf',\n",
    "            bbox_inches='tight')"
   ]
  },
  {
   "cell_type": "code",
   "execution_count": 140,
   "id": "instructional-winner",
   "metadata": {},
   "outputs": [
    {
     "name": "stdout",
     "output_type": "stream",
     "text": [
      "35\n",
      "23\n",
      "5\n"
     ]
    },
    {
     "data": {
      "image/png": "[encoded data removed]",
      "text/plain": [
       "<Figure size 72x252 with 3 Axes>"
      ]
     },
     "metadata": {},
     "output_type": "display_data"
    }
   ],
   "source": [
    "key = 'cb6f1_kupffer_trans_balb_filt_pval'\n",
    "shared_set = df.reindex(set(nsg_dict[key]).intersection(f1_dict[key])).dropna().index.tolist()\n",
    "f1_only = df.reindex(set(f1_dict[key]).difference(nsg_dict[key])).dropna().index.tolist()\n",
    "nsg_only = df.reindex(set(nsg_dict[key]).difference(f1_dict[key])).dropna().index.tolist()\n",
    "\n",
    "sets = [shared_set, f1_only, nsg_only]\n",
    "set_lengths = [len(i) for i in sets]\n",
    "\n",
    "f, axs = plt.subplots(3, 1, figsize=(1,3.5), gridspec_kw={'height_ratios': set_lengths})\n",
    "plt.subplots_adjust(hspace=0.025)\n",
    "for geneset, ax in zip(sets, axs):\n",
    "    print(len(geneset))\n",
    "    sns.heatmap(-df.loc[geneset, log2fc_cols].sort_values('log2FoldChange', ascending=True),\n",
    "                cmap='Blues',\n",
    "                # linewidth=1,\n",
    "                # linecolor='k',\n",
    "                # z_score=2,\n",
    "                vmin=0,\n",
    "                vmax=2,\n",
    "                # annot=True,\n",
    "                fmt='.1f',\n",
    "                xticklabels=0,\n",
    "                yticklabels=0,\n",
    "                cbar=False,\n",
    "                cbar_kws={'orientation':'horizontal',\n",
    "                          'pad':0.05,\n",
    "                          'label':'-log2fc'},\n",
    "                ax=ax)\n",
    "\n",
    "plt.savefig('./figures/'+key+'_heatmap_custom_order.pdf',\n",
    "            bbox_inches='tight')"
   ]
  },
  {
   "cell_type": "markdown",
   "id": "gothic-confidentiality",
   "metadata": {},
   "source": [
    "# Mixed"
   ]
  },
  {
   "cell_type": "code",
   "execution_count": 141,
   "id": "metric-jaguar",
   "metadata": {},
   "outputs": [
    {
     "name": "stdout",
     "output_type": "stream",
     "text": [
      "2\n",
      "30\n",
      "6\n"
     ]
    },
    {
     "data": {
      "image/png": "[encoded data removed]",
      "text/plain": [
       "<Figure size 72x252 with 3 Axes>"
      ]
     },
     "metadata": {},
     "output_type": "display_data"
    }
   ],
   "source": [
    "key = 'cb6f1_kupffer_mixed_c57_filt_pval'\n",
    "shared_set = df.reindex(set(nsg_dict[key]).intersection(f1_dict[key])).dropna().index.tolist()\n",
    "f1_only = df.reindex(set(f1_dict[key]).difference(nsg_dict[key])).dropna().index.tolist()\n",
    "nsg_only = df.reindex(set(nsg_dict[key]).difference(f1_dict[key])).dropna().index.tolist()\n",
    "\n",
    "sets = [shared_set, f1_only, nsg_only]\n",
    "set_lengths = [len(i) for i in sets]\n",
    "\n",
    "f, axs = plt.subplots(3, 1, figsize=(1,3.5), gridspec_kw={'height_ratios': set_lengths})\n",
    "plt.subplots_adjust(hspace=0.025)\n",
    "for geneset, ax in zip(sets, axs):\n",
    "    print(len(geneset))\n",
    "    sns.heatmap(df.loc[geneset, log2fc_cols].sort_values('log2FoldChange', ascending=False),\n",
    "                cmap='Reds',\n",
    "                # linewidth=1,\n",
    "                # linecolor='k',\n",
    "                # z_score=2,\n",
    "                vmin=0,\n",
    "                vmax=2,\n",
    "                # annot=True,\n",
    "                fmt='.1f',\n",
    "                xticklabels=0,\n",
    "                yticklabels=0,\n",
    "                cbar=False,\n",
    "                cbar_kws={'orientation':'vertical',\n",
    "                          'pad':0.05,\n",
    "                          'label':'-log2fc'},\n",
    "                ax=ax)\n",
    "    \n",
    "\n",
    "plt.savefig('./figures/'+key+'_heatmap_custom_order.pdf',\n",
    "            bbox_inches='tight')"
   ]
  },
  {
   "cell_type": "code",
   "execution_count": 142,
   "id": "pleasant-alias",
   "metadata": {},
   "outputs": [
    {
     "name": "stdout",
     "output_type": "stream",
     "text": [
      "3\n",
      "48\n",
      "9\n"
     ]
    },
    {
     "data": {
      "image/png": "[encoded data removed]",
      "text/plain": [
       "<Figure size 72x252 with 3 Axes>"
      ]
     },
     "metadata": {},
     "output_type": "display_data"
    }
   ],
   "source": [
    "key = 'cb6f1_kupffer_mixed_balb_filt_pval'\n",
    "shared_set = df.reindex(set(nsg_dict[key]).intersection(f1_dict[key])).dropna().index.tolist()\n",
    "f1_only = df.reindex(set(f1_dict[key]).difference(nsg_dict[key])).dropna().index.tolist()\n",
    "nsg_only = df.reindex(set(nsg_dict[key]).difference(f1_dict[key])).dropna().index.tolist()\n",
    "\n",
    "sets = [shared_set, f1_only, nsg_only]\n",
    "set_lengths = [len(i) for i in sets]\n",
    "\n",
    "f, axs = plt.subplots(3, 1, figsize=(1,3.5), gridspec_kw={'height_ratios': set_lengths})\n",
    "plt.subplots_adjust(hspace=0.025)\n",
    "for geneset, ax in zip(sets, axs):\n",
    "    print(len(geneset))\n",
    "    sns.heatmap(-df.loc[geneset, log2fc_cols].sort_values('log2FoldChange', ascending=True),\n",
    "                cmap='Blues',\n",
    "                # linewidth=1,\n",
    "                # linecolor='k',\n",
    "                # z_score=2,\n",
    "                vmin=0,\n",
    "                vmax=2,\n",
    "                # annot=True,\n",
    "                fmt='.1f',\n",
    "                xticklabels=0,\n",
    "                yticklabels=0,\n",
    "                cbar=False,\n",
    "                cbar_kws={'orientation':'horizontal',\n",
    "                          'pad':0.05,\n",
    "                          'label':'-log2fc'},\n",
    "                ax=ax)\n",
    "    \n",
    "\n",
    "plt.savefig('./figures/'+key+'_heatmap_custom_order.pdf',\n",
    "            bbox_inches='tight')"
   ]
  },
  {
   "cell_type": "code",
   "execution_count": 143,
   "id": "controlling-barrel",
   "metadata": {},
   "outputs": [
    {
     "name": "stdout",
     "output_type": "stream",
     "text": [
      "36\n",
      "3\n",
      "14\n"
     ]
    },
    {
     "data": {
      "image/png": "[encoded data removed]",
      "text/plain": [
       "<Figure size 72x252 with 3 Axes>"
      ]
     },
     "metadata": {},
     "output_type": "display_data"
    }
   ],
   "source": [
    "key = 'cb6f1_kupffer_cis_c57_filt_pval'\n",
    "shared_set = df.reindex(set(nsg_dict[key]).intersection(f1_dict[key])).dropna().index.tolist()\n",
    "f1_only = df.reindex(set(f1_dict[key]).difference(nsg_dict[key])).dropna().index.tolist()\n",
    "nsg_only = df.reindex(set(nsg_dict[key]).difference(f1_dict[key])).dropna().index.tolist()\n",
    "\n",
    "sets = [shared_set, f1_only, nsg_only]\n",
    "set_lengths = [len(i) for i in sets]\n",
    "\n",
    "f, axs = plt.subplots(3, 1, figsize=(1,3.5), gridspec_kw={'height_ratios': set_lengths})\n",
    "plt.subplots_adjust(hspace=0.025)\n",
    "for geneset, ax in zip(sets, axs):\n",
    "    print(len(geneset))\n",
    "    sns.heatmap(df.loc[geneset, log2fc_cols].sort_values('log2FoldChange', ascending=False),\n",
    "                cmap='Reds',\n",
    "                # linewidth=1,\n",
    "                # linecolor='k',\n",
    "                # z_score=2,\n",
    "                vmin=0,\n",
    "                vmax=2,\n",
    "                # annot=True,\n",
    "                fmt='.1f',\n",
    "                xticklabels=0,\n",
    "                yticklabels=0,\n",
    "                cbar=False,\n",
    "                cbar_kws={'orientation':'vertical',\n",
    "                          'pad':0.05,\n",
    "                          'label':'-log2fc'},\n",
    "                ax=ax)\n",
    "\n",
    "\n",
    "plt.savefig('./figures/'+key+'_heatmap_custom_order.pdf',\n",
    "            bbox_inches='tight')"
   ]
  },
  {
   "cell_type": "code",
   "execution_count": 145,
   "id": "dutch-developer",
   "metadata": {},
   "outputs": [
    {
     "name": "stdout",
     "output_type": "stream",
     "text": [
      "27\n",
      "5\n",
      "23\n"
     ]
    },
    {
     "data": {
      "image/png": "[encoded data removed]",
      "text/plain": [
       "<Figure size 72x252 with 3 Axes>"
      ]
     },
     "metadata": {},
     "output_type": "display_data"
    }
   ],
   "source": [
    "key = 'cb6f1_kupffer_cis_balb_filt_pval'\n",
    "shared_set = df.reindex(set(nsg_dict[key]).intersection(f1_dict[key])).dropna().index.tolist()\n",
    "f1_only = df.reindex(set(f1_dict[key]).difference(nsg_dict[key])).dropna().index.tolist()\n",
    "nsg_only = df.reindex(set(nsg_dict[key]).difference(f1_dict[key])).dropna().index.tolist()\n",
    "\n",
    "sets = [shared_set, f1_only, nsg_only]\n",
    "set_lengths = [len(i) for i in sets]\n",
    "\n",
    "f, axs = plt.subplots(3, 1, figsize=(1,3.5), gridspec_kw={'height_ratios': set_lengths})\n",
    "plt.subplots_adjust(hspace=0.025)\n",
    "for geneset, ax in zip(sets, axs):\n",
    "    print(len(geneset))\n",
    "    sns.heatmap(-df.loc[geneset, log2fc_cols].sort_values('log2FoldChange', ascending=True),\n",
    "                cmap='Blues',\n",
    "                # linewidth=1,\n",
    "                # linecolor='k',\n",
    "                # z_score=2,\n",
    "                vmin=0,\n",
    "                vmax=2,\n",
    "                # annot=True,\n",
    "                fmt='.1f',\n",
    "                xticklabels=0,\n",
    "                yticklabels=0,\n",
    "                cbar=False,\n",
    "                cbar_kws={'orientation':'horizontal',\n",
    "                          'pad':0.05,\n",
    "                          'label':'-log2fc'},\n",
    "                ax=ax)\n",
    "    \n",
    "\n",
    "plt.savefig('./figures/'+key+'_heatmap_custom_order.pdf',\n",
    "            bbox_inches='tight')"
   ]
  },
  {
   "cell_type": "code",
   "execution_count": null,
   "id": "configured-cannon",
   "metadata": {},
   "outputs": [],
   "source": []
  }
 ],
 "metadata": {
  "kernelspec": {
   "display_name": "dataviz",
   "language": "python",
   "name": "dataviz"
  },
  "language_info": {
   "codemirror_mode": {
    "name": "ipython",
    "version": 3
   },
   "file_extension": ".py",
   "mimetype": "text/x-python",
   "name": "python",
   "nbconvert_exporter": "python",
   "pygments_lexer": "ipython3",
   "version": "3.7.5"
  }
 },
 "nbformat": 4,
 "nbformat_minor": 5
}
