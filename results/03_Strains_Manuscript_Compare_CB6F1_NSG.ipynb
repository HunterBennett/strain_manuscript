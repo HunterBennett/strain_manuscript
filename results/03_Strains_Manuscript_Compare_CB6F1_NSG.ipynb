{
 "cells": [
  {
   "cell_type": "markdown",
   "id": "regional-monroe",
   "metadata": {},
   "source": [
    "Hunter Bennett | June 16 2021"
   ]
  },
  {
   "cell_type": "code",
   "execution_count": 1,
   "id": "enabling-pharmacy",
   "metadata": {},
   "outputs": [],
   "source": [
    "### header ###\n",
    "__author__ = \"Hunter Bennett\"\n",
    "__license__ = \"BSD\"\n",
    "__email__ = \"hunter.r.bennett@gmail.com\"\n",
    "%load_ext autoreload\n",
    "%autoreload 2\n",
    "%matplotlib inline\n",
    "### imports ###\n",
    "import sys\n",
    "import os\n",
    "import re\n",
    "import glob\n",
    "import pandas as pd\n",
    "import numpy as np\n",
    "import matplotlib\n",
    "import matplotlib.pyplot as plt\n",
    "from matplotlib.patches import Patch\n",
    "from matplotlib_venn import venn3, venn2\n",
    "import seaborn as sns\n",
    "\n",
    "# import custom functions\n",
    "sys.path.insert(0, '/home/h1bennet/code/')\n",
    "from hbUtils import ngs_qc, quantile_normalize_df\n",
    "from homer_preprocessing import import_homer_diffgene, read_homer_gene_exp, read_annotated_peaks\n",
    "from plotting_scripts import plot_exp_rpkm, gene_list_bar_plot"
   ]
  },
  {
   "cell_type": "code",
   "execution_count": 2,
   "id": "varied-period",
   "metadata": {},
   "outputs": [],
   "source": [
    "f1Dir = '/home/ttroutman/strainsKupffer/rnaKupfferF1/'\n",
    "nsgDir = '/home/ttroutman/strainsKupffer/rnaKupfferNSG_20210201/'\n",
    "workingDirectory = '/home/h1bennet/strains_manuscript/results/03_Strains_Manuscript_Compare_CB6F1_NSG//'\n",
    "if not os.path.isdir(workingDirectory):\n",
    "    os.mkdir(workingDirectory)\n",
    "os.chdir(workingDirectory)"
   ]
  },
  {
   "cell_type": "code",
   "execution_count": 3,
   "id": "remarkable-blood",
   "metadata": {},
   "outputs": [],
   "source": [
    "#### PLOTTING PARAMETERS FOR MANUSCRIPT ####\n",
    "# # get matplotlib to save readable fonts\n",
    "matplotlib.rcParams['pdf.fonttype'] = 42\n",
    "matplotlib.rcParams['ps.fonttype'] = 42\n",
    "matplotlib.rcParams['font.size'] = 6\n",
    "matplotlib.rcParams['savefig.dpi'] = 500\n",
    "\n",
    "\n",
    "# line widths\n",
    "matplotlib.rcParams['axes.linewidth'] = 1\n",
    "matplotlib.rcParams['xtick.major.width'] = 1\n",
    "matplotlib.rcParams['ytick.major.width'] = 1\n",
    "\n",
    "# adjust defualt color for plots to black\n",
    "# normal default is a dark gray\n",
    "COLOR = 'black'\n",
    "matplotlib.rcParams['text.color'] = COLOR\n",
    "matplotlib.rcParams['axes.labelcolor'] = COLOR\n",
    "matplotlib.rcParams['xtick.color'] = COLOR\n",
    "matplotlib.rcParams['ytick.color'] = COLOR\n",
    "matplotlib.rcParams['axes.edgecolor'] = COLOR\n",
    "\n",
    "#### PLOT PARAMETERS FOR THIS PLOT ####"
   ]
  },
  {
   "cell_type": "markdown",
   "id": "rational-scoop",
   "metadata": {},
   "source": [
    "# First we need to extract differential gene sets from each comparison"
   ]
  },
  {
   "cell_type": "code",
   "execution_count": 4,
   "id": "other-blackberry",
   "metadata": {},
   "outputs": [],
   "source": [
    "if not os.path.isdir('./gene_lists/'):\n",
    "    os.mkdir('./gene_lists')"
   ]
  },
  {
   "cell_type": "code",
   "execution_count": 5,
   "id": "ignored-sixth",
   "metadata": {},
   "outputs": [],
   "source": [
    "log2fc = 1\n",
    "pval = 0.05\n",
    "gene_list_dict ={}"
   ]
  },
  {
   "cell_type": "code",
   "execution_count": 6,
   "id": "severe-romantic",
   "metadata": {},
   "outputs": [],
   "source": [
    "comps = np.concatenate(\n",
    "    [np.sort(glob.glob(f1Dir+'/rnaDiff/*variants*variants*scatter.txt')),\n",
    "     np.sort(glob.glob(f1Dir+'/rnaDiff/*control*control*scatter.txt')),\n",
    "     np.sort(glob.glob(nsgDir+'/rnaDiff/*NSG*NSG*scatter.txt'))])"
   ]
  },
  {
   "cell_type": "code",
   "execution_count": 7,
   "id": "atmospheric-dominican",
   "metadata": {},
   "outputs": [
    {
     "name": "stdout",
     "output_type": "stream",
     "text": [
      "/home/ttroutman/strainsKupffer/rnaKupfferF1//rnaDiff/balbcj_control.vs.c57bl6j_control.scatter.txt\n",
      "/home/ttroutman/strainsKupffer/rnaKupfferF1//rnaDiff/balbcj_variants.vs.c57bl6j_variants.scatter.txt\n",
      "/home/ttroutman/strainsKupffer/rnaKupfferF1//rnaDiff/c57bl6j_control.vs.balbcj_control.scatter.txt\n",
      "/home/ttroutman/strainsKupffer/rnaKupfferF1//rnaDiff/c57bl6j_variants.vs.balbcj_variants.scatter.txt\n",
      "/home/ttroutman/strainsKupffer/rnaKupfferNSG_20210201//rnaDiff/balbcj_NSG.vs.c57bl6j_NSG.scatter.txt\n",
      "/home/ttroutman/strainsKupffer/rnaKupfferNSG_20210201//rnaDiff/c57bl6j_NSG.vs.balbcj_NSG.scatter.txt\n"
     ]
    }
   ],
   "source": [
    "for i in np.sort(comps):\n",
    "    print(i)\n",
    "    # read in gene expression data\n",
    "    df = pd.read_csv(i,\n",
    "                     sep='\\t',\n",
    "                     index_col=0)\n",
    "\n",
    "    # select differential genes\n",
    "    # df = df.loc[~(df.chr.str.contains('chrX|chrY|ChrUn')), :]\n",
    "    sig_genes = df.index[(df['padj'] < pval) & (df['log2FoldChange'] >= log2fc)].to_list()\n",
    "    gene_list_dict[i.split('.')[2]+'_up'] = list(sig_genes)\n",
    "    # print('union set length:', print(len(g_union)))\n",
    "    # print('intersection set length:', print(len(g_intersect)))"
   ]
  },
  {
   "cell_type": "code",
   "execution_count": 8,
   "id": "premium-bobby",
   "metadata": {},
   "outputs": [
    {
     "name": "stdout",
     "output_type": "stream",
     "text": [
      "c57bl6j_control_up\n",
      "180 genes\n",
      "c57bl6j_variants_up\n",
      "128 genes\n",
      "balbcj_control_up\n",
      "181 genes\n",
      "balbcj_variants_up\n",
      "117 genes\n",
      "c57bl6j_NSG_up\n",
      "140 genes\n",
      "balbcj_NSG_up\n",
      "104 genes\n"
     ]
    }
   ],
   "source": [
    "for key in gene_list_dict.keys():\n",
    "    print(key)\n",
    "    print(len(gene_list_dict[key]), 'genes')\n",
    "    with open('./gene_lists/'+key+'_kupffer_genes_fc_'+str(log2fc)+'_pval_'+str(pval)+'.txt', 'w') as f:\n",
    "        f.write('Gene\\n')\n",
    "        for i in gene_list_dict[key]:\n",
    "            f.write(i+'\\n')\n",
    "        f.close()"
   ]
  },
  {
   "cell_type": "markdown",
   "id": "premier-exclusive",
   "metadata": {},
   "source": [
    "# Re-create Ty's Scatter Plots..."
   ]
  },
  {
   "cell_type": "markdown",
   "id": "universal-customer",
   "metadata": {},
   "source": [
    "## NSG"
   ]
  },
  {
   "cell_type": "code",
   "execution_count": 9,
   "id": "nearby-trust",
   "metadata": {},
   "outputs": [
    {
     "name": "stderr",
     "output_type": "stream",
     "text": [
      "/gpfs/data01/glasslab/home/h1bennet/.conda/envs/dataviz/lib/python3.7/site-packages/pandas/core/indexing.py:961: FutureWarning: \n",
      "Passing list-likes to .loc or [] with any missing label will raise\n",
      "KeyError in the future, you can use .reindex() as an alternative.\n",
      "\n",
      "See the documentation here:\n",
      "https://pandas.pydata.org/pandas-docs/stable/user_guide/indexing.html#deprecate-loc-reindex-listlike\n",
      "  return getattr(section, self.name)[new_key]\n"
     ]
    },
    {
     "data": {
      "image/png": "[encoded data removed]",
      "text/plain": [
       "<Figure size 288x144 with 2 Axes>"
      ]
     },
     "metadata": {
      "needs_background": "light"
     },
     "output_type": "display_data"
    }
   ],
   "source": [
    "df = pd.read_csv('/home/ttroutman/strainsKupffer/rnaKupfferNSG_20210201//rnaDiff/balbcj_NSG.vs.c57bl6j_NSG.scatter.txt',\n",
    "                 sep='\\t', index_col=0)\n",
    "\n",
    "fig, axs = plt.subplots(1, 2, figsize=(4,2),sharey=True)\n",
    "# make general plot of data\n",
    "axs[0].scatter(np.log2(df.baseMean+1),\n",
    "               df.log2FoldChange,\n",
    "               s=1, c='#bdbdbd', zorder=0)\n",
    "# plot differential genes in each direction...\n",
    "axs[0].scatter(np.log2(df.loc[gene_list_dict['c57bl6j_NSG_up'], 'baseMean']+1),\n",
    "               df.loc[gene_list_dict['c57bl6j_NSG_up'], 'log2FoldChange'],\n",
    "               s=1, c='#31a354', zorder=1)\n",
    "\n",
    "axs[0].scatter(np.log2(df.loc[gene_list_dict['balbcj_NSG_up'], 'baseMean']+1),\n",
    "               df.loc[gene_list_dict['balbcj_NSG_up'], 'log2FoldChange'],\n",
    "               s=1, c='#3182bd',zorder=1)\n",
    "# change plot parameters a bit\n",
    "axs[0].set_ylim([-8, 8])\n",
    "axs[0].spines['right'].set_visible(False)\n",
    "axs[0].spines['top'].set_visible(False)\n",
    "axs[0].text(4, 7, 'C57BL/6J: %i' % len(gene_list_dict['c57bl6j_NSG_up']), fontsize=6)\n",
    "axs[0].text(4, -7, 'BALB/cJ: %i' % len(gene_list_dict['balbcj_NSG_up']), fontsize=6)\n",
    "axs[0].set_xlabel('Log2(Mean TPM + 1)')\n",
    "axs[0].set_ylabel('Log2(Fold Change)')\n",
    "\n",
    "# plot 2 - how many are shared\n",
    "# make general plot of data\n",
    "axs[1].scatter(np.log2(df.baseMean+1),\n",
    "               df.log2FoldChange,\n",
    "               s=1, c='#bdbdbd', zorder=0)\n",
    "\n",
    "# plot differential genes in each direction...\n",
    "shared_c57bl6j = set(gene_list_dict['c57bl6j_control_up']).intersection(gene_list_dict['c57bl6j_NSG_up'])\n",
    "f0_only_c57bl6j = set(gene_list_dict['c57bl6j_control_up']).difference(gene_list_dict['c57bl6j_NSG_up'])\n",
    "shared_balbcj = set(gene_list_dict['balbcj_control_up']).intersection(gene_list_dict['balbcj_NSG_up'])\n",
    "f0_only_balbcj = set(gene_list_dict['balbcj_control_up']).difference(gene_list_dict['balbcj_NSG_up'])\n",
    "\n",
    "axs[1].scatter(np.log2(df.loc[shared_c57bl6j, 'baseMean']+1),\n",
    "               df.loc[shared_c57bl6j, 'log2FoldChange'],\n",
    "               s=1, c='#31a354', zorder=2)\n",
    "\n",
    "axs[1].scatter(np.log2(df.loc[f0_only_c57bl6j, 'baseMean']+1),\n",
    "               df.loc[f0_only_c57bl6j, 'log2FoldChange'],\n",
    "               s=1, c='#a1d99b', zorder=1)\n",
    "\n",
    "axs[1].scatter(np.log2(df.loc[shared_balbcj, 'baseMean']+1),\n",
    "               df.loc[shared_balbcj, 'log2FoldChange'],\n",
    "               s=1, c='#3182bd', zorder=2)\n",
    "\n",
    "axs[1].scatter(np.log2(df.loc[f0_only_balbcj, 'baseMean']+1),\n",
    "               df.loc[f0_only_balbcj, 'log2FoldChange'],\n",
    "               s=1, c='#9ecae1', zorder=1)\n",
    "\n",
    "# change plot parameters a bit\n",
    "axs[1].set_ylim([-8, 8])\n",
    "axs[1].spines['right'].set_visible(False)\n",
    "axs[1].spines['top'].set_visible(False)\n",
    "axs[1].text(4, 7, 'C57BL/6J: %i/%i' % (len(shared_c57bl6j), len(gene_list_dict['c57bl6j_control_up'])), fontsize=6)\n",
    "axs[1].text(4, -7, 'BALB/cJ: %i/%i' % (len(shared_balbcj), len(gene_list_dict['balbcj_control_up'])), fontsize=6)\n",
    "axs[1].set_xlabel('Log2(Mean TPM + 1)')\n",
    "axs[1].set_ylabel('Log2(Fold Change)')\n",
    "\n",
    "plt.savefig('./figures/nsg_differential_gene_comparison.pdf',\n",
    "            bbox_inches='tight')\n"
   ]
  },
  {
   "cell_type": "code",
   "execution_count": 10,
   "id": "flying-tower",
   "metadata": {},
   "outputs": [
    {
     "data": {
      "image/png": "[encoded data removed]",
      "text/plain": [
       "<Figure size 288x144 with 2 Axes>"
      ]
     },
     "metadata": {
      "needs_background": "light"
     },
     "output_type": "display_data"
    }
   ],
   "source": [
    "df = pd.read_csv('/home/ttroutman/strainsKupffer/rnaKupfferF1//rnaDiff/balbcj_variants.vs.c57bl6j_variants.scatter.txt',\n",
    "                 sep='\\t', index_col=0)\n",
    "\n",
    "fig, axs = plt.subplots(1, 2, figsize=(4,2),sharey=True)\n",
    "# make general plot of data\n",
    "axs[0].scatter(np.log2(df.baseMean+1),\n",
    "               df.log2FoldChange,\n",
    "               s=1, c='#bdbdbd', zorder=0)\n",
    "# plot differential genes in each direction...\n",
    "axs[0].scatter(np.log2(df.loc[gene_list_dict['c57bl6j_variants_up'], 'baseMean']+1),\n",
    "               df.loc[gene_list_dict['c57bl6j_variants_up'], 'log2FoldChange'],\n",
    "               s=1, c='#31a354', zorder=1)\n",
    "\n",
    "axs[0].scatter(np.log2(df.loc[gene_list_dict['balbcj_variants_up'], 'baseMean']+1),\n",
    "               df.loc[gene_list_dict['balbcj_variants_up'], 'log2FoldChange'],\n",
    "               s=1, c='#3182bd',zorder=1)\n",
    "# change plot parameters a bit\n",
    "axs[0].set_ylim([-8, 8])\n",
    "axs[0].spines['right'].set_visible(False)\n",
    "axs[0].spines['top'].set_visible(False)\n",
    "axs[0].text(4, 7, 'C57BL/6J: %i' % len(gene_list_dict['c57bl6j_variants_up']), fontsize=6)\n",
    "axs[0].text(4, -7, 'BALB/cJ: %i' % len(gene_list_dict['balbcj_variants_up']), fontsize=6)\n",
    "axs[0].set_xlabel('Log2(Mean TPM + 1)')\n",
    "axs[0].set_ylabel('Log2(Fold Change)')\n",
    "\n",
    "# plot 2 - how many are shared\n",
    "# make general plot of data\n",
    "axs[1].scatter(np.log2(df.baseMean+1),\n",
    "               df.log2FoldChange,\n",
    "               s=1, c='#bdbdbd', zorder=0)\n",
    "\n",
    "# plot differential genes in each direction...\n",
    "shared_c57bl6j = set(gene_list_dict['c57bl6j_control_up']).intersection(gene_list_dict['c57bl6j_variants_up'])\n",
    "f0_only_c57bl6j = set(gene_list_dict['c57bl6j_control_up']).difference(gene_list_dict['c57bl6j_variants_up'])\n",
    "shared_balbcj = set(gene_list_dict['balbcj_control_up']).intersection(gene_list_dict['balbcj_variants_up'])\n",
    "f0_only_balbcj = set(gene_list_dict['balbcj_control_up']).difference(gene_list_dict['balbcj_variants_up'])\n",
    "\n",
    "axs[1].scatter(np.log2(df.loc[shared_c57bl6j, 'baseMean']+1),\n",
    "               df.loc[shared_c57bl6j, 'log2FoldChange'],\n",
    "               s=1, c='#31a354', zorder=2)\n",
    "\n",
    "axs[1].scatter(np.log2(df.loc[f0_only_c57bl6j, 'baseMean']+1),\n",
    "               df.loc[f0_only_c57bl6j, 'log2FoldChange'],\n",
    "               s=1, c='#a1d99b', zorder=1)\n",
    "\n",
    "axs[1].scatter(np.log2(df.loc[shared_balbcj, 'baseMean']+1),\n",
    "               df.loc[shared_balbcj, 'log2FoldChange'],\n",
    "               s=1, c='#3182bd', zorder=2)\n",
    "\n",
    "axs[1].scatter(np.log2(df.loc[f0_only_balbcj, 'baseMean']+1),\n",
    "               df.loc[f0_only_balbcj, 'log2FoldChange'],\n",
    "               s=1, c='#9ecae1', zorder=1)\n",
    "\n",
    "# change plot parameters a bit\n",
    "axs[1].set_ylim([-8, 8])\n",
    "axs[1].spines['right'].set_visible(False)\n",
    "axs[1].spines['top'].set_visible(False)\n",
    "axs[1].text(4, 7, 'C57BL/6J: %i/%i' % (len(shared_c57bl6j), len(gene_list_dict['c57bl6j_control_up'])), fontsize=6)\n",
    "axs[1].text(4, -7, 'BALB/cJ: %i/%i' % (len(shared_balbcj), len(gene_list_dict['balbcj_control_up'])), fontsize=6)\n",
    "axs[1].set_xlabel('Log2(Mean TPM + 1)')\n",
    "axs[1].set_ylabel('Log2(Fold Change)')\n",
    "\n",
    "plt.savefig('./figures/f1_differential_gene_comparison.pdf',\n",
    "            bbox_inches='tight')\n"
   ]
  },
  {
   "cell_type": "markdown",
   "id": "confirmed-legend",
   "metadata": {},
   "source": [
    "# Plot all at once..."
   ]
  },
  {
   "cell_type": "code",
   "execution_count": 11,
   "id": "sorted-plenty",
   "metadata": {},
   "outputs": [
    {
     "data": {
      "image/png": "[encoded data removed]",
      "text/plain": [
       "<Figure size 324x216 with 4 Axes>"
      ]
     },
     "metadata": {
      "needs_background": "light"
     },
     "output_type": "display_data"
    }
   ],
   "source": [
    "df = pd.read_csv('/home/ttroutman/strainsKupffer/rnaKupfferNSG_20210201//rnaDiff/balbcj_NSG.vs.c57bl6j_NSG.scatter.txt',\n",
    "                 sep='\\t', index_col=0)\n",
    "\n",
    "fig, axs = plt.subplots(2, 2, figsize=(4.5,3),sharey=True, sharex=True)\n",
    "# make general plot of data\n",
    "axs[0,0].scatter(np.log2(df.baseMean+1),\n",
    "               df.log2FoldChange,\n",
    "               s=1, rasterized=True, c='#bdbdbd', zorder=0)\n",
    "# plot differential genes in each direction...\n",
    "axs[0,0].scatter(np.log2(df.loc[gene_list_dict['c57bl6j_NSG_up'], 'baseMean']+1),\n",
    "               df.loc[gene_list_dict['c57bl6j_NSG_up'], 'log2FoldChange'],\n",
    "               s=1, rasterized=True, c='#31a354', zorder=1)\n",
    "\n",
    "axs[0,0].scatter(np.log2(df.loc[gene_list_dict['balbcj_NSG_up'], 'baseMean']+1),\n",
    "               df.loc[gene_list_dict['balbcj_NSG_up'], 'log2FoldChange'],\n",
    "               s=1, rasterized=True, c='#3182bd',zorder=1)\n",
    "# change plot parameters a bit\n",
    "axs[0,0].set_ylim([-8, 8])\n",
    "axs[0,0].spines['right'].set_visible(False)\n",
    "axs[0,0].spines['top'].set_visible(False)\n",
    "axs[0,0].text(2.5, 7, 'C57BL/6J: %i' % len(gene_list_dict['c57bl6j_NSG_up']), fontsize=6)\n",
    "axs[0,0].text(2.5, -7, 'BALB/cJ: %i' % len(gene_list_dict['balbcj_NSG_up']), fontsize=6)\n",
    "# axs[0,0].set_xlabel('Log2(Mean TPM + 1)')\n",
    "axs[0,0].set_ylabel('Log2(Fold Change)')\n",
    "\n",
    "# plot 2 - how many are shared\n",
    "# make general plot of data\n",
    "axs[1,0].scatter(np.log2(df.baseMean+1),\n",
    "               df.log2FoldChange,\n",
    "               s=1, rasterized=True, c='#bdbdbd', zorder=0)\n",
    "\n",
    "# plot differential genes in each direction...\n",
    "shared_c57bl6j = set(gene_list_dict['c57bl6j_control_up']).intersection(gene_list_dict['c57bl6j_NSG_up'])\n",
    "f0_only_c57bl6j = set(gene_list_dict['c57bl6j_control_up']).difference(gene_list_dict['c57bl6j_NSG_up'])\n",
    "shared_balbcj = set(gene_list_dict['balbcj_control_up']).intersection(gene_list_dict['balbcj_NSG_up'])\n",
    "f0_only_balbcj = set(gene_list_dict['balbcj_control_up']).difference(gene_list_dict['balbcj_NSG_up'])\n",
    "\n",
    "axs[1,0].scatter(np.log2(df.loc[shared_c57bl6j, 'baseMean']+1),\n",
    "               df.loc[shared_c57bl6j, 'log2FoldChange'],\n",
    "               s=1, rasterized=True, c='#31a354', zorder=2)\n",
    "\n",
    "axs[1,0].scatter(np.log2(df.loc[f0_only_c57bl6j, 'baseMean']+1),\n",
    "               df.loc[f0_only_c57bl6j, 'log2FoldChange'],\n",
    "               s=1, rasterized=True, c='#a1d99b', zorder=1)\n",
    "\n",
    "axs[1,0].scatter(np.log2(df.loc[shared_balbcj, 'baseMean']+1),\n",
    "               df.loc[shared_balbcj, 'log2FoldChange'],\n",
    "               s=1, rasterized=True, c='#3182bd', zorder=2)\n",
    "\n",
    "axs[1,0].scatter(np.log2(df.loc[f0_only_balbcj, 'baseMean']+1),\n",
    "               df.loc[f0_only_balbcj, 'log2FoldChange'],\n",
    "               s=1, rasterized=True, c='#9ecae1', zorder=1)\n",
    "\n",
    "# change plot parameters a bit\n",
    "axs[1,0].set_ylim([-8, 8])\n",
    "axs[1,0].spines['right'].set_visible(False)\n",
    "axs[1,0].spines['top'].set_visible(False)\n",
    "axs[1,0].text(2.5, 7, 'C57BL/6J: %i/%i' % (len(shared_c57bl6j), len(gene_list_dict['c57bl6j_control_up'])), fontsize=6)\n",
    "axs[1,0].text(2.5, -7, 'BALB/cJ: %i/%i' % (len(shared_balbcj), len(gene_list_dict['balbcj_control_up'])), fontsize=6)\n",
    "axs[1,0].set_xlabel('Log2(Mean TPM + 1)')\n",
    "axs[1,0].set_ylabel('Log2(Fold Change)')\n",
    "\n",
    "#### F1 ####\n",
    "df = pd.read_csv('/home/ttroutman/strainsKupffer/rnaKupfferF1//rnaDiff/balbcj_variants.vs.c57bl6j_variants.scatter.txt',\n",
    "                 sep='\\t', index_col=0)\n",
    "# make general plot of data\n",
    "axs[0,1].scatter(np.log2(df.baseMean+1),\n",
    "               df.log2FoldChange,\n",
    "               s=1, rasterized=True, c='#bdbdbd', zorder=0)\n",
    "# plot differential genes in each direction...\n",
    "axs[0,1].scatter(np.log2(df.loc[gene_list_dict['c57bl6j_variants_up'], 'baseMean']+1),\n",
    "               df.loc[gene_list_dict['c57bl6j_variants_up'], 'log2FoldChange'],\n",
    "               s=1, rasterized=True, c='#31a354', zorder=1)\n",
    "\n",
    "axs[0,1].scatter(np.log2(df.loc[gene_list_dict['balbcj_variants_up'], 'baseMean']+1),\n",
    "               df.loc[gene_list_dict['balbcj_variants_up'], 'log2FoldChange'],\n",
    "               s=1, rasterized=True, c='#3182bd',zorder=1)\n",
    "# change plot parameters a bit\n",
    "axs[0,1].set_ylim([-8, 8])\n",
    "axs[0,1].spines['right'].set_visible(False)\n",
    "axs[0,1].spines['top'].set_visible(False)\n",
    "axs[0,1].text(2.5, 7, 'C57BL/6J: %i' % len(gene_list_dict['c57bl6j_variants_up']), fontsize=6)\n",
    "axs[0,1].text(2.5, -7, 'BALB/cJ: %i' % len(gene_list_dict['balbcj_variants_up']), fontsize=6)\n",
    "# axs[0,1].set_xlabel('Log2(Mean TPM + 1)')\n",
    "# axs[0,1].set_ylabel('Log2(Fold Change)')\n",
    "\n",
    "# plot 2 - how many are shared\n",
    "# make general plot of data\n",
    "axs[1,1].scatter(np.log2(df.baseMean+1),\n",
    "               df.log2FoldChange,\n",
    "               s=1, rasterized=True, c='#bdbdbd', zorder=0)\n",
    "\n",
    "# plot differential genes in each direction...\n",
    "shared_c57bl6j = set(gene_list_dict['c57bl6j_control_up']).intersection(gene_list_dict['c57bl6j_variants_up'])\n",
    "f0_only_c57bl6j = set(gene_list_dict['c57bl6j_control_up']).difference(gene_list_dict['c57bl6j_variants_up'])\n",
    "shared_balbcj = set(gene_list_dict['balbcj_control_up']).intersection(gene_list_dict['balbcj_variants_up'])\n",
    "f0_only_balbcj = set(gene_list_dict['balbcj_control_up']).difference(gene_list_dict['balbcj_variants_up'])\n",
    "\n",
    "axs[1,1].scatter(np.log2(df.loc[shared_c57bl6j, 'baseMean']+1),\n",
    "               df.loc[shared_c57bl6j, 'log2FoldChange'],\n",
    "               s=1, rasterized=True, c='#31a354', zorder=2)\n",
    "\n",
    "axs[1,1].scatter(np.log2(df.loc[f0_only_c57bl6j, 'baseMean']+1),\n",
    "               df.loc[f0_only_c57bl6j, 'log2FoldChange'],\n",
    "               s=1, rasterized=True, c='#a1d99b', zorder=1)\n",
    "\n",
    "axs[1,1].scatter(np.log2(df.loc[shared_balbcj, 'baseMean']+1),\n",
    "               df.loc[shared_balbcj, 'log2FoldChange'],\n",
    "               s=1, rasterized=True, c='#3182bd', zorder=2)\n",
    "\n",
    "axs[1,1].scatter(np.log2(df.loc[f0_only_balbcj, 'baseMean']+1),\n",
    "               df.loc[f0_only_balbcj, 'log2FoldChange'],\n",
    "               s=1, rasterized=True, c='#9ecae1', zorder=1)\n",
    "\n",
    "# change plot parameters a bit\n",
    "axs[1,1].set_ylim([-8, 8])\n",
    "axs[1,1].spines['right'].set_visible(False)\n",
    "axs[1,1].spines['top'].set_visible(False)\n",
    "axs[1,1].text(2.5, 7, 'C57BL/6J: %i/%i' % (len(shared_c57bl6j), len(gene_list_dict['c57bl6j_control_up'])), fontsize=6)\n",
    "axs[1,1].text(2.5, -7, 'BALB/cJ: %i/%i' % (len(shared_balbcj), len(gene_list_dict['balbcj_control_up'])), fontsize=6)\n",
    "axs[1,1].set_xlabel('Log2(Mean TPM + 1)')\n",
    "# axs[1,1].set_ylabel('Log2(Fold Change)')\n",
    "\n",
    "plt.savefig('./figures/f1_nsg_differential_gene_comparison.pdf',\n",
    "            bbox_inches='tight')"
   ]
  },
  {
   "cell_type": "markdown",
   "id": "affiliated-horror",
   "metadata": {},
   "source": [
    "# Plot overlap with venn diagram (not as sexy as circos but what are ya gonna do)"
   ]
  },
  {
   "cell_type": "code",
   "execution_count": 12,
   "id": "rubber-crossing",
   "metadata": {},
   "outputs": [],
   "source": [
    "if not os.path.isdir('./figures/'):\n",
    "    os.mkdir('./figures')"
   ]
  },
  {
   "cell_type": "code",
   "execution_count": 13,
   "id": "loved-october",
   "metadata": {},
   "outputs": [
    {
     "data": {
      "image/png": "[encoded data removed]",
      "text/plain": [
       "<Figure size 144x90 with 1 Axes>"
      ]
     },
     "metadata": {},
     "output_type": "display_data"
    }
   ],
   "source": [
    "fig, ax = plt.subplots(figsize=(2,1.25))\n",
    "\n",
    "# venn3 accepts a list with the following order\n",
    "# (100, 010, 110, 001, 101, 011, 111)\n",
    "# group1, group2, group1+2, group3, group1+3, group2+3, group3\n",
    "venn3(subsets=[set(gene_list_dict['c57bl6j_control_up']),\n",
    "               set(gene_list_dict['c57bl6j_variants_up']),\n",
    "               set(gene_list_dict['c57bl6j_NSG_up'])],\n",
    "     ax=ax,\n",
    "     set_colors=('#006d2c', '#74c476', '#c7e9c0'),\n",
    "     set_labels=('C57BL/6J F0', 'C57BL/6J F1', 'C57BL/6J NSG'),\n",
    "     alpha=0.5)\n",
    "# ax.set_title('C57BL/6J Spec Genes');\n",
    "\n",
    "plt.savefig('./figures/venn3_c57bl6j_genes.pdf', bbox_inches='tight')"
   ]
  },
  {
   "cell_type": "code",
   "execution_count": 14,
   "id": "incorporated-childhood",
   "metadata": {},
   "outputs": [
    {
     "data": {
      "image/png": "[encoded data removed]",
      "text/plain": [
       "<Figure size 144x90 with 1 Axes>"
      ]
     },
     "metadata": {},
     "output_type": "display_data"
    }
   ],
   "source": [
    "fig, ax = plt.subplots(figsize=(2,1.25))\n",
    "\n",
    "# venn3 accepts a list with the following order\n",
    "# (100, 010, 110, 001, 101, 011, 111)\n",
    "# group1, group2, group1+2, group3, group1+3, group2+3, group3\n",
    "venn2(subsets=[set(gene_list_dict['c57bl6j_control_up']),\n",
    "               set(gene_list_dict['c57bl6j_NSG_up'])],\n",
    "     ax=ax,\n",
    "     set_colors=('#006d2c', '#c7e9c0'),\n",
    "     set_labels=('C57BL/6J F0', 'C57BL/6J NSG'),\n",
    "     alpha=0.5)\n",
    "# ax.set_title('C57BL/6J Spec Genes');\n",
    "\n",
    "plt.savefig('./figures/venn2_c57bl6j_nsg_genes.pdf', bbox_inches='tight')"
   ]
  },
  {
   "cell_type": "code",
   "execution_count": 15,
   "id": "unable-methodology",
   "metadata": {},
   "outputs": [
    {
     "data": {
      "image/png": "[encoded data removed]",
      "text/plain": [
       "<Figure size 144x90 with 1 Axes>"
      ]
     },
     "metadata": {},
     "output_type": "display_data"
    }
   ],
   "source": [
    "fig, ax = plt.subplots(figsize=(2,1.25))\n",
    "\n",
    "# venn3 accepts a list with the following order\n",
    "# (100, 010, 110, 001, 101, 011, 111)\n",
    "# group1, group2, group1+2, group3, group1+3, group2+3, group3\n",
    "venn2(subsets=[set(gene_list_dict['c57bl6j_control_up']),\n",
    "               set(gene_list_dict['c57bl6j_variants_up'])],\n",
    "     ax=ax,\n",
    "     set_colors=('#006d2c', '#74c476'),\n",
    "     set_labels=('C57BL/6J F0', 'C57BL/6J F1'),\n",
    "     alpha=0.5)\n",
    "# ax.set_title('C57BL/6J Spec Genes');\n",
    "\n",
    "plt.savefig('./figures/venn2_c57bl6j_f1_genes.pdf', bbox_inches='tight')"
   ]
  },
  {
   "cell_type": "markdown",
   "id": "subsequent-liberia",
   "metadata": {},
   "source": [
    "### Test overlap with Chi^2 test.\n",
    "\n",
    "Idea here is to test the amount of overlap between the differential gene sets within each condition against each other. Formulated as a Chi2 test F1 and NSG differential genes will be their own group, and they will be counted as either \"overlapping\" or \"not overlapping\".\n",
    "\n",
    "\n",
    "|           | NSG  |   F1    |\n",
    "|-----------|------|---------|\n",
    "|overlapping F0| X | Y       |\n",
    "|not overlapping| A | B  |"
   ]
  },
  {
   "cell_type": "code",
   "execution_count": 16,
   "id": "regulated-valley",
   "metadata": {},
   "outputs": [],
   "source": [
    "from scipy.stats import chi2_contingency"
   ]
  },
  {
   "cell_type": "code",
   "execution_count": 17,
   "id": "paperback-perfume",
   "metadata": {},
   "outputs": [],
   "source": [
    "contingency_c = [[len(set(gene_list_dict['c57bl6j_NSG_up']).intersection(gene_list_dict['c57bl6j_control_up'])),\n",
    "                len(set(gene_list_dict['c57bl6j_variants_up']).intersection(gene_list_dict['c57bl6j_control_up']))],\n",
    "               [len(set(gene_list_dict['c57bl6j_NSG_up']).difference(gene_list_dict['c57bl6j_control_up'])),\n",
    "                len(set(gene_list_dict['c57bl6j_variants_up']).difference(gene_list_dict['c57bl6j_control_up']))]]"
   ]
  },
  {
   "cell_type": "code",
   "execution_count": 19,
   "id": "spiritual-eating",
   "metadata": {},
   "outputs": [],
   "source": [
    "stat, p, dof, expected = chi2_contingency(contingency_c)"
   ]
  },
  {
   "cell_type": "code",
   "execution_count": null,
   "id": "departmental-danger",
   "metadata": {},
   "outputs": [],
   "source": [
    "p"
   ]
  },
  {
   "cell_type": "code",
   "execution_count": null,
   "id": "musical-poland",
   "metadata": {},
   "outputs": [],
   "source": [
    "contingency"
   ]
  },
  {
   "cell_type": "markdown",
   "id": "prospective-driving",
   "metadata": {},
   "source": [
    "Check (for myself) that chi2 is stable to transpose"
   ]
  },
  {
   "cell_type": "code",
   "execution_count": null,
   "id": "fatal-electron",
   "metadata": {},
   "outputs": [],
   "source": [
    "contingency_t = [list(i) for i in zip(*contingency_c)]"
   ]
  },
  {
   "cell_type": "code",
   "execution_count": null,
   "id": "endless-pasta",
   "metadata": {},
   "outputs": [],
   "source": [
    "stat, p, dof, expected = chi2_contingency(contingency_t)"
   ]
  },
  {
   "cell_type": "code",
   "execution_count": null,
   "id": "polished-spirit",
   "metadata": {},
   "outputs": [],
   "source": [
    "p"
   ]
  },
  {
   "cell_type": "code",
   "execution_count": null,
   "id": "colored-forth",
   "metadata": {},
   "outputs": [],
   "source": [
    "c57bl6j_all3 = set(gene_list_dict['c57bl6j_control_up']).intersection(set(gene_list_dict['c57bl6j_variants_up']).intersection(gene_list_dict['c57bl6j_NSG_up']))\n",
    "c57bl6j_f0_f1 = set(gene_list_dict['c57bl6j_control_up']).intersection(set(gene_list_dict['c57bl6j_variants_up']).difference(c57bl6j_all3))\n",
    "c57bl6j_f0_nsg = set(gene_list_dict['c57bl6j_control_up']).intersection(set(gene_list_dict['c57bl6j_NSG_up']).difference(c57bl6j_all3))\n",
    "c57bl6j_f1_nsg = set(gene_list_dict['c57bl6j_variants_up']).intersection(gene_list_dict['c57bl6j_NSG_up']).difference(c57bl6j_all3)\n",
    "c57bl6j_f0_private = set(gene_list_dict['c57bl6j_control_up']).difference(set(c57bl6j_all3).union(set(c57bl6j_f0_f1).union(c57bl6j_f0_nsg)))\n",
    "c57bl6j_f1_private = set(gene_list_dict['c57bl6j_variants_up']).difference(set(c57bl6j_all3).union(set(c57bl6j_f0_f1).union(c57bl6j_f1_nsg)))\n",
    "c57bl6j_nsg_private = set(gene_list_dict['c57bl6j_NSG_up']).difference(set(c57bl6j_all3).union(set(c57bl6j_f0_nsg).union(c57bl6j_f1_nsg)))"
   ]
  },
  {
   "cell_type": "code",
   "execution_count": null,
   "id": "impaired-exchange",
   "metadata": {},
   "outputs": [],
   "source": [
    "fig, ax = plt.subplots(figsize=(2,1.25))\n",
    "\n",
    "# venn3 accepts a list with the following order\n",
    "# (100, 010, 110, 001, 101, 011, 111)\n",
    "# group1, group2, group1+2, group3, group1+3, group2+3, group3\n",
    "venn3(subsets=[set(gene_list_dict['balbcj_control_up']),\n",
    "               set(gene_list_dict['balbcj_variants_up']),\n",
    "               set(gene_list_dict['balbcj_NSG_up'])],\n",
    "     ax=ax,\n",
    "     set_colors=('#08519c', '#6baed6', '#c6dbef'),\n",
    "     set_labels=('BALB/cJ F0', 'BALB/cJ F1', 'BALB/cJ NSG'),\n",
    "     alpha=0.5)\n",
    "# ax.set_title('BALB/cJ Spec Genes');\n",
    "\n",
    "plt.savefig('./figures/venn3_balbcj_genes.pdf', bbox_inches='tight')"
   ]
  },
  {
   "cell_type": "code",
   "execution_count": null,
   "id": "adapted-newton",
   "metadata": {},
   "outputs": [],
   "source": [
    "balbcj_all3 = set(gene_list_dict['balbcj_control_up']).intersection(set(gene_list_dict['balbcj_variants_up']).intersection(gene_list_dict['balbcj_NSG_up']))\n",
    "balbcj_f0_f1 = set(gene_list_dict['balbcj_control_up']).intersection(set(gene_list_dict['balbcj_variants_up']).difference(balbcj_all3))\n",
    "balbcj_f0_nsg = set(gene_list_dict['balbcj_control_up']).intersection(set(gene_list_dict['balbcj_NSG_up']).difference(balbcj_all3))\n",
    "balbcj_f1_nsg = set(gene_list_dict['balbcj_variants_up']).intersection(gene_list_dict['balbcj_NSG_up']).difference(balbcj_all3)\n",
    "balbcj_f0_private = set(gene_list_dict['balbcj_control_up']).difference(set(balbcj_all3).union(set(balbcj_f0_f1).union(balbcj_f0_nsg)))\n",
    "balbcj_f1_private = set(gene_list_dict['balbcj_variants_up']).difference(set(balbcj_all3).union(set(balbcj_f0_f1).union(balbcj_f1_nsg)))\n",
    "balbcj_nsg_private = set(gene_list_dict['balbcj_NSG_up']).difference(set(balbcj_all3).union(set(balbcj_f0_nsg).union(balbcj_f1_nsg)))"
   ]
  },
  {
   "cell_type": "code",
   "execution_count": null,
   "id": "frank-signal",
   "metadata": {},
   "outputs": [],
   "source": [
    "fig, ax = plt.subplots(figsize=(2,1.25))\n",
    "\n",
    "# venn3 accepts a list with the following order\n",
    "# (100, 010, 110, 001, 101, 011, 111)\n",
    "# group1, group2, group1+2, group3, group1+3, group2+3, group3\n",
    "venn2(subsets=[set(gene_list_dict['balbcj_control_up']),\n",
    "               set(gene_list_dict['balbcj_NSG_up'])],\n",
    "     ax=ax,\n",
    "     set_colors=('#08519c', '#c6dbef'),\n",
    "     set_labels=('BALB/cJ F0', 'C57BL/6J NSG'),\n",
    "     alpha=0.5)\n",
    "# ax.set_title('C57BL/6J Spec Genes');\n",
    "\n",
    "plt.savefig('./figures/venn2_balbcj_nsg_genes.pdf', bbox_inches='tight')"
   ]
  },
  {
   "cell_type": "code",
   "execution_count": null,
   "id": "attempted-knitting",
   "metadata": {},
   "outputs": [],
   "source": [
    "fig, ax = plt.subplots(figsize=(2,1.25))\n",
    "\n",
    "# venn3 accepts a list with the following order\n",
    "# (100, 010, 110, 001, 101, 011, 111)\n",
    "# group1, group2, group1+2, group3, group1+3, group2+3, group3\n",
    "venn2(subsets=[set(gene_list_dict['balbcj_control_up']),\n",
    "               set(gene_list_dict['balbcj_variants_up'])],\n",
    "     ax=ax,\n",
    "     set_colors=('#08519c', '#c6dbef'),\n",
    "     set_labels=('BALB/cJ F0', 'BALB/cJ F1'),\n",
    "     alpha=0.5)\n",
    "# ax.set_title('C57BL/6J Spec Genes');\n",
    "\n",
    "plt.savefig('./figures/venn2_balbcj_f1_genes.pdf', bbox_inches='tight')"
   ]
  },
  {
   "cell_type": "markdown",
   "id": "appreciated-advantage",
   "metadata": {},
   "source": [
    "### Test overlap with Chi^2 test.\n",
    "\n",
    "Idea here is to test the amount of overlap between the differential gene sets within each condition against each other. Formulated as a Chi2 test F1 and NSG differential genes will be their own group, and they will be counted as either \"overlapping\" or \"not overlapping\"."
   ]
  },
  {
   "cell_type": "code",
   "execution_count": null,
   "id": "waiting-gilbert",
   "metadata": {},
   "outputs": [],
   "source": [
    "contingency_b = [[len(set(gene_list_dict['balbcj_NSG_up']).intersection(gene_list_dict['balbcj_control_up'])),\n",
    "                len(set(gene_list_dict['balbcj_variants_up']).intersection(gene_list_dict['balbcj_control_up']))],\n",
    "               [len(set(gene_list_dict['balbcj_NSG_up']).difference(gene_list_dict['balbcj_control_up'])),\n",
    "                len(set(gene_list_dict['balbcj_variants_up']).difference(gene_list_dict['balbcj_control_up']))]]"
   ]
  },
  {
   "cell_type": "code",
   "execution_count": null,
   "id": "lesbian-florist",
   "metadata": {},
   "outputs": [],
   "source": [
    "stat, p, dof, expected = chi2_contingency(contingency_b)"
   ]
  },
  {
   "cell_type": "code",
   "execution_count": null,
   "id": "entitled-robert",
   "metadata": {},
   "outputs": [],
   "source": [
    "p"
   ]
  },
  {
   "cell_type": "markdown",
   "id": "motivated-helen",
   "metadata": {},
   "source": [
    "Combined chi^2"
   ]
  },
  {
   "cell_type": "code",
   "execution_count": null,
   "id": "interstate-intervention",
   "metadata": {},
   "outputs": [],
   "source": [
    "contingency = []\n",
    "for c, b in zip(contingency_c, contingency_b):\n",
    "    contingency.append([c[0]+b[0], c[1]+b[1]])"
   ]
  },
  {
   "cell_type": "code",
   "execution_count": null,
   "id": "confirmed-knowing",
   "metadata": {},
   "outputs": [],
   "source": [
    "contingency_c"
   ]
  },
  {
   "cell_type": "code",
   "execution_count": null,
   "id": "future-cover",
   "metadata": {},
   "outputs": [],
   "source": [
    "contingency_b"
   ]
  },
  {
   "cell_type": "code",
   "execution_count": null,
   "id": "heard-anniversary",
   "metadata": {},
   "outputs": [],
   "source": [
    "contingency"
   ]
  },
  {
   "cell_type": "code",
   "execution_count": null,
   "id": "anonymous-future",
   "metadata": {},
   "outputs": [],
   "source": [
    "stat, p, dof, expected = chi2_contingency(contingency)"
   ]
  },
  {
   "cell_type": "code",
   "execution_count": null,
   "id": "incomplete-edmonton",
   "metadata": {},
   "outputs": [],
   "source": [
    "p"
   ]
  },
  {
   "cell_type": "markdown",
   "id": "marked-champion",
   "metadata": {},
   "source": [
    "# Write gene sets out"
   ]
  },
  {
   "cell_type": "code",
   "execution_count": null,
   "id": "focused-relation",
   "metadata": {},
   "outputs": [],
   "source": [
    "genesets = [balbcj_all3, balbcj_f0_f1, balbcj_f0_nsg, balbcj_f1_nsg,\n",
    "            balbcj_f0_private, balbcj_f1_private, balbcj_nsg_private,\n",
    "            c57bl6j_all3, c57bl6j_f0_f1, c57bl6j_f0_nsg, c57bl6j_f1_nsg,\n",
    "            c57bl6j_f0_private, c57bl6j_f1_private, c57bl6j_nsg_private]\n",
    "genesetnames = ['balbcj_all3', 'balbcj_f0_f1', 'balbcj_f0_nsg', 'balbcj_f1_nsg',\n",
    "                'balbcj_f0_private', 'balbcj_f1_private', 'balbcj_nsg_private',\n",
    "                'c57bl6j_all3', 'c57bl6j_f0_f1', 'c57bl6j_f0_nsg', 'c57bl6j_f1_nsg',\n",
    "                'c57bl6j_f0_private', 'c57bl6j_f1_private', 'c57bl6j_nsg_private']\n",
    "for listname, genelist in zip(genesetnames, genesets):\n",
    "    print(listname, \":\", len(genelist))\n",
    "    with open('./gene_lists/'+listname+'_kupffer_genes_fc_'+str(log2fc)+'_pval_'+str(pval)+'.txt', 'w') as f:\n",
    "        f.write('Gene\\n')\n",
    "        for i in genelist:\n",
    "            f.write(i+'\\n')\n",
    "        f.close()"
   ]
  },
  {
   "cell_type": "markdown",
   "id": "instructional-mexico",
   "metadata": {},
   "source": [
    "# Run motif enrichment with homer"
   ]
  },
  {
   "cell_type": "code",
   "execution_count": null,
   "id": "external-henry",
   "metadata": {},
   "outputs": [],
   "source": [
    "if not os.path.isdir('./promoter_motifs/'):\n",
    "    os.mkdir('./promoter_motifs/')"
   ]
  },
  {
   "cell_type": "code",
   "execution_count": null,
   "id": "vital-patrick",
   "metadata": {},
   "outputs": [],
   "source": [
    "%%bash\n",
    "\n",
    "for i in ./gene_lists/*.txt;\n",
    "do out=${i/gene_lists/promoter_motifs};\n",
    "out=${out/.txt/_motifs};\n",
    "findMotifs.pl $i mouse $out -p 8; done"
   ]
  },
  {
   "cell_type": "markdown",
   "id": "wanted-transcription",
   "metadata": {},
   "source": [
    "# Compare cis / trans / mixed lists...\n",
    "How many trans regulated genes are shared between sets..."
   ]
  },
  {
   "cell_type": "code",
   "execution_count": null,
   "id": "honest-supervision",
   "metadata": {},
   "outputs": [],
   "source": [
    "f1_dict = {}\n",
    "for genelist in glob.glob('/home/h1bennet/strains_rna/results/K03_CB6F1_Kupffer_RNA/gene_lists/*filt_pval.txt'):\n",
    "    with open(genelist, 'r') as f:\n",
    "        listid = genelist.split('/')[-1].replace('.txt','')\n",
    "        f1_dict[listid] = [i.strip() for i in f.readlines()[1:]]"
   ]
  },
  {
   "cell_type": "code",
   "execution_count": null,
   "id": "standing-trader",
   "metadata": {},
   "outputs": [],
   "source": [
    "nsg_dict = {}\n",
    "for genelist in glob.glob('/home/h1bennet/strains_rna/results/K03_NSG_Kupffer_RNA/gene_lists/*filt_pval.txt'):\n",
    "    with open(genelist, 'r') as f:\n",
    "        listid = genelist.split('/')[-1].replace('.txt','')\n",
    "        nsg_dict[listid] = [i.strip() for i in f.readlines()[1:]]"
   ]
  },
  {
   "cell_type": "markdown",
   "id": "loose-safety",
   "metadata": {},
   "source": [
    "Compare overlap of all sets..."
   ]
  },
  {
   "cell_type": "code",
   "execution_count": null,
   "id": "hydraulic-hardware",
   "metadata": {
    "scrolled": false
   },
   "outputs": [],
   "source": [
    "for key in f1_dict.keys():\n",
    "    print(key)\n",
    "    print(len(f1_dict[key]), 'genes in F1 set')\n",
    "    print(len(nsg_dict[key]), 'genes in NSG set')\n",
    "    shared = set(nsg_dict[key]).intersection(f1_dict[key])\n",
    "    total = set(nsg_dict[key]).union(f1_dict[key])\n",
    "    print('%i / %i genes shared' % (len(shared), len(total)))"
   ]
  },
  {
   "cell_type": "code",
   "execution_count": null,
   "id": "latest-crisis",
   "metadata": {
    "scrolled": true
   },
   "outputs": [],
   "source": [
    "set(nsg_dict['cb6f1_kupffer_trans_c57_filt_pval']).intersection(f1_dict['cb6f1_kupffer_trans_c57_filt_pval'])"
   ]
  },
  {
   "cell_type": "code",
   "execution_count": null,
   "id": "pretty-bicycle",
   "metadata": {},
   "outputs": [],
   "source": []
  }
 ],
 "metadata": {
  "kernelspec": {
   "display_name": "dataviz",
   "language": "python",
   "name": "dataviz"
  },
  "language_info": {
   "codemirror_mode": {
    "name": "ipython",
    "version": 3
   },
   "file_extension": ".py",
   "mimetype": "text/x-python",
   "name": "python",
   "nbconvert_exporter": "python",
   "pygments_lexer": "ipython3",
   "version": "3.7.5"
  }
 },
 "nbformat": 4,
 "nbformat_minor": 5
}
