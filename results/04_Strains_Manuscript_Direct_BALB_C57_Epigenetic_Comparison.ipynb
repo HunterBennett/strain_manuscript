{
 "cells": [
  {
   "cell_type": "markdown",
   "id": "intelligent-faith",
   "metadata": {},
   "source": [
    "Hunter Bennett | Strains Project | 17 June 2021"
   ]
  },
  {
   "cell_type": "code",
   "execution_count": 17,
   "id": "higher-storm",
   "metadata": {},
   "outputs": [
    {
     "name": "stdout",
     "output_type": "stream",
     "text": [
      "The autoreload extension is already loaded. To reload it, use:\n",
      "  %reload_ext autoreload\n"
     ]
    }
   ],
   "source": [
    "### header ###\n",
    "__author__ = \"Hunter Bennett\"\n",
    "__license__ = \"BSD\"\n",
    "__email__ = \"hunter.r.bennett@gmail.com\"\n",
    "%load_ext autoreload\n",
    "%autoreload 2\n",
    "### imports ###\n",
    "import sys\n",
    "%matplotlib inline\n",
    "import os\n",
    "import re\n",
    "import glob\n",
    "import pandas as pd\n",
    "import numpy as np\n",
    "import matplotlib\n",
    "import matplotlib.pyplot as plt \n",
    "import seaborn as sns\n",
    "\n",
    "# import custom functions\n",
    "import sys\n",
    "sys.path.insert(0, '/home/h1bennet/code/')\n",
    "from hbUtils import ngs_qc, quantile_normalize_df\n",
    "from plotting_scripts import label_point, pca_rpkm_mat, get_diff_volcano\n",
    "from homer_preprocessing import read_annotated_peaks, import_homer_diffpeak, pull_comparisons_get_diff"
   ]
  },
  {
   "cell_type": "code",
   "execution_count": 18,
   "id": "selective-conducting",
   "metadata": {},
   "outputs": [],
   "source": [
    "#### PLOTTING PARAMETERS FOR MANUSCRIPT ####\n",
    "# # get matplotlib to save readable fonts\n",
    "matplotlib.rcParams['pdf.fonttype'] = 42\n",
    "matplotlib.rcParams['ps.fonttype'] = 42\n",
    "matplotlib.rcParams['font.size'] = 6\n",
    "matplotlib.rcParams['savefig.dpi'] = 500\n",
    "\n",
    "# line widths\n",
    "matplotlib.rcParams['axes.linewidth'] = 1\n",
    "matplotlib.rcParams['xtick.major.width'] = 1\n",
    "matplotlib.rcParams['ytick.major.width'] = 1\n",
    "\n",
    "# adjust defualt color for plots to black\n",
    "# normal default is a dark gray\n",
    "COLOR = 'black'\n",
    "matplotlib.rcParams['text.color'] = COLOR\n",
    "matplotlib.rcParams['axes.labelcolor'] = COLOR\n",
    "matplotlib.rcParams['xtick.color'] = COLOR\n",
    "matplotlib.rcParams['ytick.color'] = COLOR\n",
    "matplotlib.rcParams['axes.edgecolor'] = COLOR\n",
    "\n",
    "#### PLOT PARAMETERS FOR THIS PLOT ####"
   ]
  },
  {
   "cell_type": "code",
   "execution_count": 19,
   "id": "collectible-beach",
   "metadata": {},
   "outputs": [],
   "source": [
    "atacDirectory = '/home/h1bennet/strains/results/06_Strains_Control_Cohort2_ATAC/'\n",
    "h3k27acDirectory = '/home/h1bennet/strains/results/06b_Strains_Control_Combined_H3K27Ac/'\n",
    "workingDirectory = '/home/h1bennet/strains_manuscript/results/04_Strains_Manuscript_Direct_BALB_C57_Epigenetic_Comparison/'\n",
    "if not os.path.isdir(workingDirectory):\n",
    "    os.mkdir(workingDirectory)\n",
    "os.chdir(workingDirectory)"
   ]
  },
  {
   "cell_type": "code",
   "execution_count": 20,
   "id": "adequate-accused",
   "metadata": {},
   "outputs": [],
   "source": [
    "if not os.path.isdir('./c57bl6j_balbcj_pairwise_epigenetics/'):\n",
    "    os.mkdir('./c57bl6j_balbcj_pairwise_epigenetics/')"
   ]
  },
  {
   "cell_type": "code",
   "execution_count": 21,
   "id": "dynamic-silver",
   "metadata": {},
   "outputs": [
    {
     "name": "stdout",
     "output_type": "stream",
     "text": [
      "annotatePeaks all peaks (86301, 27)\n",
      "getDiffExpression selected transcripts (84264, 36)\n",
      "annotatePeaks selected peaks (84264, 27)\n"
     ]
    },
    {
     "data": {
      "text/plain": [
       "dict_keys(['aj vs. balbcj', 'aj vs. c57bl6j', 'balbcj vs. c57bl6j'])"
      ]
     },
     "execution_count": 21,
     "metadata": {},
     "output_type": "execute_result"
    }
   ],
   "source": [
    "diff_peak, peaks, peak_mat, peak_mat_quant = import_homer_diffpeak(\n",
    "    h3k27acDirectory+'/merged_peaks/diff_output.txt',\n",
    "    h3k27acDirectory+'/merged_peaks/ann_norm_kc_control_atac_peaks_all.txt')\n",
    "\n",
    "comp_dict = pull_comparisons_get_diff(diff_peak, seq_type='Peak')\n",
    "comp_dict.keys()"
   ]
  },
  {
   "cell_type": "code",
   "execution_count": 22,
   "id": "adequate-spencer",
   "metadata": {},
   "outputs": [],
   "source": [
    "comps = ['balbcj vs. c57bl6j']\n",
    "labels = ['BALB/cJ\\nLog2(ATAC Tags)',\n",
    "          'C57BL/6J\\nLog2(ATAC Tags)a']\n",
    "\n",
    "groups = [[[3,4,5],\n",
    "         [6,7,8]]]\n",
    "\n",
    "cols = []\n",
    "for i in groups:\n",
    "    for j in i:\n",
    "        cols.extend(j)\n",
    "cols = [cols]\n",
    "\n",
    "colors = [['#3182bd', '#31a354']]\n",
    "log2fc = np.log2(2)\n",
    "pval = 0.05"
   ]
  },
  {
   "cell_type": "code",
   "execution_count": 23,
   "id": "similar-dialogue",
   "metadata": {},
   "outputs": [
    {
     "name": "stdout",
     "output_type": "stream",
     "text": [
      "balbcj vs. c57bl6j\n",
      "N peaks downregulated 2474\n",
      "N peaks upregulated 2397\n",
      "\n"
     ]
    }
   ],
   "source": [
    "for key, col, group, color in zip(comps, cols, groups, colors):\n",
    "    \n",
    "    # make columns for plotting\n",
    "    de = comp_dict[key]\n",
    "    de['logtpm'] = np.log2(peak_mat.iloc[:, col].mean(1)+1)\n",
    "    de['log10p'] = -np.log10(de.adj_pval + 10**(-50))\n",
    "    de['g0_mean'] = np.log2(peak_mat.iloc[:, group[0]].mean(1)+1)\n",
    "    de['g1_mean'] = np.log2(peak_mat.iloc[:, group[1]].mean(1)+1)\n",
    "    de = de.reindex(de.index[(de.g0_mean >= 3) | (de.g1_mean >= 3)])\n",
    "    \n",
    "    dot_colors = []\n",
    "    dot_sizes = []\n",
    "    \n",
    "    # create dot size list\n",
    "    for index, row in de.iterrows():\n",
    "        if (row.adj_pval <= pval) & (-row.log2fc < -log2fc):\n",
    "            dot_colors.append(color[1])\n",
    "            dot_sizes.append(row.log10p)\n",
    "        elif (row.adj_pval <= pval) & (-row.log2fc > log2fc):\n",
    "            dot_colors.append(color[0])\n",
    "            dot_sizes.append(row.log10p)\n",
    "        else:\n",
    "            dot_colors.append('#bdbdbd')\n",
    "            dot_sizes.append(0.5)\n",
    "    \n",
    "    # print DE peaks\n",
    "    print(key)\n",
    "    print('N peaks downregulated', np.sum((de.adj_pval <= pval) & (de.log2fc < -log2fc)))\n",
    "    print('N peaks upregulated', np.sum((de.adj_pval <= pval) & (de.log2fc > log2fc)))\n",
    "    print('')\n",
    "    \n",
    "    fig, ax = plt.subplots(figsize=(1.5,1.5))\n",
    "    \n",
    "        # plot group by group scatter:\n",
    "    ax.scatter(\n",
    "        x=de.g0_mean,\n",
    "        y=de.g1_mean,\n",
    "        s=0.5, #de.log10p+0.05,\n",
    "        c=dot_colors,\n",
    "        rasterized=True)\n",
    "    \n",
    "    \n",
    "    # set labels\n",
    "    ax.set_xlabel(labels[0])\n",
    "    ax.set_ylabel(labels[1])\n",
    "    \n",
    "    # Hide the right and top spines\n",
    "    ax.spines['right'].set_visible(False)\n",
    "    ax.spines['top'].set_visible(False)\n",
    "    \n",
    "    #set max and min\n",
    "    countmax = np.max([np.max(de.g0_mean), np.max(de.g1_mean)])\n",
    "    ax.set_xlim([0,np.ceil(countmax)])\n",
    "    ax.set_ylim([0,np.ceil(countmax)])\n",
    "    \n",
    "    ax.text(0.5,13,\n",
    "        s='%i' % (np.sum((de.adj_pval <= 0.05) & (de.log2fc > 1))),\n",
    "        fontsize=6,\n",
    "        c='k')\n",
    "    ax.text(13,0.5,\n",
    "        s='%i' % (np.sum((de.adj_pval <= 0.05) & (de.log2fc < -1))),\n",
    "        fontsize=6,\n",
    "        c='k',\n",
    "        rotation=0)\n",
    "    \n",
    "    plt.savefig('./c57bl6j_balbcj_pairwise_epigenetics/c57bl6j_balbcj_h3k27ac_scatter.pdf',\n",
    "                bbox_inches='tight')\n",
    "    plt.close()"
   ]
  },
  {
   "cell_type": "markdown",
   "id": "lightweight-coalition",
   "metadata": {},
   "source": [
    "# Now lets do ATAC"
   ]
  },
  {
   "cell_type": "code",
   "execution_count": 24,
   "id": "announced-compilation",
   "metadata": {},
   "outputs": [
    {
     "name": "stdout",
     "output_type": "stream",
     "text": [
      "annotatePeaks all peaks (86301, 30)\n",
      "getDiffExpression selected transcripts (84264, 39)\n",
      "annotatePeaks selected peaks (84264, 30)\n"
     ]
    },
    {
     "data": {
      "text/plain": [
       "dict_keys(['aj vs. balbcj', 'aj vs. c57bl6j', 'balbcj vs. c57bl6j'])"
      ]
     },
     "execution_count": 24,
     "metadata": {},
     "output_type": "execute_result"
    }
   ],
   "source": [
    "diff_peak, peaks, peak_mat, peak_mat_quant = import_homer_diffpeak(\n",
    "    atacDirectory+'/merged_peaks/diff_output.txt',\n",
    "    atacDirectory+'./merged_peaks/ann_norm_idr_peaks_merged.txt')\n",
    "\n",
    "comp_dict = pull_comparisons_get_diff(diff_peak, seq_type='Peak')\n",
    "comp_dict.keys()"
   ]
  },
  {
   "cell_type": "code",
   "execution_count": 25,
   "id": "first-topic",
   "metadata": {},
   "outputs": [],
   "source": [
    "comps = ['balbcj vs. c57bl6j']\n",
    "labels = ['BALB/cJ\\nLog2(H3K27Ac Tags)',\n",
    "          'C57BL/6J\\nLog2(H3K27Ac Tags)']\n",
    "\n",
    "groups = [[[4,5,6,7],\n",
    "         [8,9,10,11]]]\n",
    "\n",
    "cols = []\n",
    "for i in groups:\n",
    "    for j in i:\n",
    "        cols.extend(j)\n",
    "cols = [cols]\n",
    "\n",
    "colors = [['#3182bd', '#31a354']]\n",
    "log2fc = np.log2(2)\n",
    "pval = 0.05"
   ]
  },
  {
   "cell_type": "code",
   "execution_count": 26,
   "id": "premium-continent",
   "metadata": {},
   "outputs": [
    {
     "name": "stdout",
     "output_type": "stream",
     "text": [
      "balbcj vs. c57bl6j\n",
      "N peaks downregulated 3570\n",
      "N peaks upregulated 2957\n",
      "\n"
     ]
    }
   ],
   "source": [
    "for key, col, group, color in zip(comps, cols, groups, colors):\n",
    "    \n",
    "    # make columns for plotting\n",
    "    de = comp_dict[key]\n",
    "    de['logtpm'] = np.log2(peak_mat.iloc[:, col].mean(1)+1)\n",
    "    de['log10p'] = -np.log10(de.adj_pval + 10**(-50))\n",
    "    de['g0_mean'] = np.log2(peak_mat.iloc[:, group[0]].mean(1)+1)\n",
    "    de['g1_mean'] = np.log2(peak_mat.iloc[:, group[1]].mean(1)+1)\n",
    "    de = de.reindex(de.index[(de.g0_mean >= 3) | (de.g1_mean >= 3)])\n",
    "    \n",
    "    dot_colors = []\n",
    "    dot_sizes = []\n",
    "    \n",
    "    # create dot size list\n",
    "    for index, row in de.iterrows():\n",
    "        if (row.adj_pval <= pval) & (-row.log2fc < -log2fc):\n",
    "            dot_colors.append(color[1])\n",
    "            dot_sizes.append(row.log10p)\n",
    "        elif (row.adj_pval <= pval) & (-row.log2fc > log2fc):\n",
    "            dot_colors.append(color[0])\n",
    "            dot_sizes.append(row.log10p)\n",
    "        else:\n",
    "            dot_colors.append('#bdbdbd')\n",
    "            dot_sizes.append(0.5)\n",
    "    \n",
    "    # print DE peaks\n",
    "    print(key)\n",
    "    print('N peaks downregulated', np.sum((de.adj_pval <= pval) & (de.log2fc < -log2fc)))\n",
    "    print('N peaks upregulated', np.sum((de.adj_pval <= pval) & (de.log2fc > log2fc)))\n",
    "    print('')\n",
    "    \n",
    "    fig, ax = plt.subplots(figsize=(1.5,1.5))\n",
    "    \n",
    "        # plot group by group scatter:\n",
    "    ax.scatter(\n",
    "        x=de.g0_mean,\n",
    "        y=de.g1_mean,\n",
    "        s=0.5, #de.log10p+0.05,\n",
    "        c=dot_colors,\n",
    "        rasterized=True)\n",
    "    \n",
    "    \n",
    "    # set labels\n",
    "    ax.set_xlabel(labels[0])\n",
    "    ax.set_ylabel(labels[1])\n",
    "    \n",
    "    # Hide the right and top spines\n",
    "    ax.spines['right'].set_visible(False)\n",
    "    ax.spines['top'].set_visible(False)\n",
    "    \n",
    "    #set max and min\n",
    "    countmax = np.max([np.max(de.g0_mean), np.max(de.g1_mean)])\n",
    "    ax.set_xlim([0,np.ceil(countmax)])\n",
    "    ax.set_ylim([0,np.ceil(countmax)])\n",
    "    \n",
    "    ax.text(0.5,13,\n",
    "        s='%i' % (np.sum((de.adj_pval <= 0.05) & (de.log2fc > 1))),\n",
    "        fontsize=6,\n",
    "        c='k')\n",
    "    ax.text(13,0.5,\n",
    "        s='%i' % (np.sum((de.adj_pval <= 0.05) & (de.log2fc < -1))),\n",
    "        fontsize=6,\n",
    "        c='k',\n",
    "        rotation=0)\n",
    "    \n",
    "    plt.savefig('./c57bl6j_balbcj_pairwise_epigenetics/c57bl6j_balbcj_atac_scatter.pdf',\n",
    "                bbox_inches='tight')\n",
    "    plt.close()"
   ]
  }
 ],
 "metadata": {
  "kernelspec": {
   "display_name": "dataviz",
   "language": "python",
   "name": "dataviz"
  },
  "language_info": {
   "codemirror_mode": {
    "name": "ipython",
    "version": 3
   },
   "file_extension": ".py",
   "mimetype": "text/x-python",
   "name": "python",
   "nbconvert_exporter": "python",
   "pygments_lexer": "ipython3",
   "version": "3.7.5"
  }
 },
 "nbformat": 4,
 "nbformat_minor": 5
}
